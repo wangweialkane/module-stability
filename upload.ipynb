{
 "cells": [
  {
   "attachments": {},
   "cell_type": "markdown",
   "metadata": {},
   "source": [
    "# All modules fast check "
   ]
  },
  {
   "cell_type": "code",
   "execution_count": 1,
   "metadata": {},
   "outputs": [],
   "source": [
    "import main_function as mf\n"
   ]
  },
  {
   "attachments": {},
   "cell_type": "markdown",
   "metadata": {},
   "source": [
    "## Set batch name and get data form files\n",
    "1. 'old' last batch of cells\n",
    "2. 'Dec' YiHui's new cells from Dec\n",
    "3. 'gold-copper' Single junction cells with gold/copper electrode\n",
    "4. 'Jan' New cells in Jan\n"
   ]
  },
  {
   "cell_type": "code",
   "execution_count": 2,
   "metadata": {},
   "outputs": [],
   "source": [
    "#mf.batch_name = 'Old'\n",
    "#mf.batch_name = 'Dec'\n",
    "#mf.batch_name = 'gold-copper'\n",
    "mf.batch_name = 'Jan'\n",
    "mf.ignore_broken_cell = True\n",
    "\n",
    "data = mf.read_all_test()"
   ]
  },
  {
   "attachments": {},
   "cell_type": "markdown",
   "metadata": {},
   "source": [
    "## Draw overall PCE chart"
   ]
  },
  {
   "cell_type": "code",
   "execution_count": 3,
   "metadata": {},
   "outputs": [
    {
     "data": {
      "application/vnd.plotly.v1+json": {
       "config": {
        "plotlyServerURL": "https://plot.ly"
       },
       "data": [
        {
         "connectgaps": true,
         "line": {
          "shape": "linear"
         },
         "mode": "lines+markers",
         "name": "damp-heat: Jan15Double",
         "type": "scatter",
         "x": [
          0,
          24,
          48,
          96,
          120,
          138,
          168,
          192,
          204,
          216,
          240,
          264,
          276,
          312,
          324,
          360,
          372,
          420,
          444,
          468,
          480,
          492,
          498,
          540,
          552,
          564,
          588,
          636,
          684,
          732,
          756,
          780,
          804,
          828,
          852,
          900,
          948
         ],
         "y": [
          19.78576932,
          null,
          null,
          null,
          null,
          null,
          18.044315075,
          null,
          null,
          null,
          16.024794096000004,
          null,
          null,
          null,
          null,
          null,
          17.764934067000002,
          null,
          17.024919418,
          null,
          null,
          15.700064223999998,
          null,
          15.136109813000004,
          null,
          null,
          16.415786676,
          14.537352312,
          null,
          null,
          null,
          null,
          null,
          null,
          null,
          null,
          null
         ]
        },
        {
         "connectgaps": true,
         "line": {
          "shape": "linear"
         },
         "mode": "lines+markers",
         "name": "damp-heat: Jan18",
         "type": "scatter",
         "x": [
          0,
          24,
          48,
          96,
          120,
          138,
          168,
          192,
          204,
          216,
          240,
          264,
          276,
          312,
          324,
          360,
          372,
          420,
          444,
          468,
          480,
          492,
          498,
          540,
          552,
          564,
          588,
          636,
          684,
          732,
          756,
          780,
          804,
          828,
          852,
          900,
          948
         ],
         "y": [
          23.877770587,
          null,
          18.9528937,
          null,
          19.372901184000003,
          null,
          17.98049455,
          null,
          null,
          null,
          null,
          14.733698279999999,
          null,
          15.247855400000002,
          null,
          null,
          null,
          null,
          null,
          null,
          null,
          null,
          null,
          null,
          null,
          null,
          null,
          null,
          null,
          null,
          null,
          null,
          null,
          null,
          null,
          null,
          null
         ]
        },
        {
         "connectgaps": true,
         "line": {
          "shape": "linear"
         },
         "mode": "lines+markers",
         "name": "damp-heat: Jan19Double",
         "type": "scatter",
         "x": [
          0,
          24,
          48,
          96,
          120,
          138,
          168,
          192,
          204,
          216,
          240,
          264,
          276,
          312,
          324,
          360,
          372,
          420,
          444,
          468,
          480,
          492,
          498,
          540,
          552,
          564,
          588,
          636,
          684,
          732,
          756,
          780,
          804,
          828,
          852,
          900,
          948
         ],
         "y": [
          17.503258250000005,
          null,
          12.1915393327,
          null,
          21.711414032,
          null,
          22.887619676000003,
          null,
          null,
          17.62908775,
          null,
          null,
          null,
          null,
          null,
          null,
          null,
          null,
          null,
          null,
          null,
          null,
          null,
          null,
          null,
          null,
          null,
          null,
          null,
          null,
          null,
          null,
          null,
          null,
          null,
          null,
          null
         ]
        },
        {
         "connectgaps": true,
         "line": {
          "shape": "linear"
         },
         "mode": "lines+markers",
         "name": "damp-heat: silicon_The",
         "type": "scatter",
         "x": [
          0,
          24,
          48,
          96,
          120,
          138,
          168,
          192,
          204,
          216,
          240,
          264,
          276,
          312,
          324,
          360,
          372,
          420,
          444,
          468,
          480,
          492,
          498,
          540,
          552,
          564,
          588,
          636,
          684,
          732,
          756,
          780,
          804,
          828,
          852,
          900,
          948
         ],
         "y": [
          18.8715767669,
          null,
          null,
          null,
          null,
          17.913899523399998,
          null,
          null,
          18.274231744799998,
          null,
          null,
          null,
          18.835528656000005,
          null,
          18.525741151999995,
          null,
          18.076544559000002,
          18.322682569599998,
          null,
          18.309040968799998,
          null,
          null,
          null,
          null,
          null,
          null,
          null,
          null,
          null,
          null,
          null,
          null,
          null,
          null,
          null,
          null,
          null
         ]
        },
        {
         "connectgaps": true,
         "line": {
          "shape": "linear"
         },
         "mode": "lines+markers",
         "name": "damp-heat: silicon_Zhongshu",
         "type": "scatter",
         "x": [
          0,
          24,
          48,
          96,
          120,
          138,
          168,
          192,
          204,
          216,
          240,
          264,
          276,
          312,
          324,
          360,
          372,
          420,
          444,
          468,
          480,
          492,
          498,
          540,
          552,
          564,
          588,
          636,
          684,
          732,
          756,
          780,
          804,
          828,
          852,
          900,
          948
         ],
         "y": [
          16.98143405,
          null,
          null,
          null,
          null,
          null,
          null,
          null,
          null,
          null,
          null,
          null,
          null,
          null,
          null,
          16.914078380375,
          null,
          null,
          null,
          null,
          null,
          null,
          16.949507498,
          null,
          null,
          17.332715161899998,
          null,
          17.019880577700004,
          16.430481975600003,
          16.611478671700002,
          null,
          16.1195758919,
          null,
          15.572551050000003,
          null,
          null,
          null
         ]
        },
        {
         "connectgaps": true,
         "line": {
          "shape": "linear"
         },
         "mode": "lines+markers",
         "name": "light-dark-cycle: Jan02Mask with UV filter",
         "type": "scatter",
         "x": [
          0,
          24,
          48,
          96,
          120,
          138,
          168,
          192,
          204,
          216,
          240,
          264,
          276,
          312,
          324,
          360,
          372,
          420,
          444,
          468,
          480,
          492,
          498,
          540,
          552,
          564,
          588,
          636,
          684,
          732,
          756,
          780,
          804,
          828,
          852,
          900,
          948
         ],
         "y": [
          24.869113394000003,
          24.817316352,
          26.131474944,
          25.866350083,
          25.685094911999997,
          null,
          25.118427286,
          23.359888644,
          null,
          26.850426431999995,
          null,
          27.107390917999997,
          null,
          26.87825252,
          null,
          null,
          null,
          null,
          null,
          null,
          26.798893955000004,
          null,
          null,
          null,
          26.782402902,
          null,
          null,
          26.218133612,
          25.586256264000003,
          null,
          26.656608752,
          null,
          26.993309472000004,
          null,
          26.275387090000002,
          26.076702456,
          25.75739826
         ]
        },
        {
         "connectgaps": true,
         "line": {
          "shape": "linear"
         },
         "mode": "lines+markers",
         "name": "light-dark-cycle: Jan16Mask with UV filter",
         "type": "scatter",
         "x": [
          0,
          24,
          48,
          96,
          120,
          138,
          168,
          192,
          204,
          216,
          240,
          264,
          276,
          312,
          324,
          360,
          372,
          420,
          444,
          468,
          480,
          492,
          498,
          540,
          552,
          564,
          588,
          636,
          684,
          732,
          756,
          780,
          804,
          828,
          852,
          900,
          948
         ],
         "y": [
          21.889740289999995,
          null,
          24.988582942000008,
          null,
          20.462960099999997,
          null,
          null,
          null,
          null,
          null,
          null,
          null,
          null,
          null,
          null,
          null,
          null,
          null,
          null,
          null,
          null,
          null,
          null,
          null,
          null,
          null,
          null,
          null,
          null,
          null,
          null,
          null,
          null,
          null,
          null,
          null,
          null
         ]
        },
        {
         "connectgaps": true,
         "line": {
          "shape": "linear"
         },
         "mode": "lines+markers",
         "name": "light-dark-cycle: Jan17Mask with UV filter",
         "type": "scatter",
         "x": [
          0,
          24,
          48,
          96,
          120,
          138,
          168,
          192,
          204,
          216,
          240,
          264,
          276,
          312,
          324,
          360,
          372,
          420,
          444,
          468,
          480,
          492,
          498,
          540,
          552,
          564,
          588,
          636,
          684,
          732,
          756,
          780,
          804,
          828,
          852,
          900,
          948
         ],
         "y": [
          25.669472204999998,
          null,
          null,
          null,
          1.2104254557,
          null,
          null,
          null,
          null,
          null,
          null,
          null,
          null,
          null,
          null,
          null,
          null,
          null,
          null,
          null,
          null,
          null,
          null,
          null,
          null,
          null,
          null,
          null,
          null,
          null,
          null,
          null,
          null,
          null,
          null,
          null,
          null
         ]
        }
       ],
       "layout": {
        "height": 600,
        "template": {
         "data": {
          "bar": [
           {
            "error_x": {
             "color": "#2a3f5f"
            },
            "error_y": {
             "color": "#2a3f5f"
            },
            "marker": {
             "line": {
              "color": "#E5ECF6",
              "width": 0.5
             },
             "pattern": {
              "fillmode": "overlay",
              "size": 10,
              "solidity": 0.2
             }
            },
            "type": "bar"
           }
          ],
          "barpolar": [
           {
            "marker": {
             "line": {
              "color": "#E5ECF6",
              "width": 0.5
             },
             "pattern": {
              "fillmode": "overlay",
              "size": 10,
              "solidity": 0.2
             }
            },
            "type": "barpolar"
           }
          ],
          "carpet": [
           {
            "aaxis": {
             "endlinecolor": "#2a3f5f",
             "gridcolor": "white",
             "linecolor": "white",
             "minorgridcolor": "white",
             "startlinecolor": "#2a3f5f"
            },
            "baxis": {
             "endlinecolor": "#2a3f5f",
             "gridcolor": "white",
             "linecolor": "white",
             "minorgridcolor": "white",
             "startlinecolor": "#2a3f5f"
            },
            "type": "carpet"
           }
          ],
          "choropleth": [
           {
            "colorbar": {
             "outlinewidth": 0,
             "ticks": ""
            },
            "type": "choropleth"
           }
          ],
          "contour": [
           {
            "colorbar": {
             "outlinewidth": 0,
             "ticks": ""
            },
            "colorscale": [
             [
              0,
              "#0d0887"
             ],
             [
              0.1111111111111111,
              "#46039f"
             ],
             [
              0.2222222222222222,
              "#7201a8"
             ],
             [
              0.3333333333333333,
              "#9c179e"
             ],
             [
              0.4444444444444444,
              "#bd3786"
             ],
             [
              0.5555555555555556,
              "#d8576b"
             ],
             [
              0.6666666666666666,
              "#ed7953"
             ],
             [
              0.7777777777777778,
              "#fb9f3a"
             ],
             [
              0.8888888888888888,
              "#fdca26"
             ],
             [
              1,
              "#f0f921"
             ]
            ],
            "type": "contour"
           }
          ],
          "contourcarpet": [
           {
            "colorbar": {
             "outlinewidth": 0,
             "ticks": ""
            },
            "type": "contourcarpet"
           }
          ],
          "heatmap": [
           {
            "colorbar": {
             "outlinewidth": 0,
             "ticks": ""
            },
            "colorscale": [
             [
              0,
              "#0d0887"
             ],
             [
              0.1111111111111111,
              "#46039f"
             ],
             [
              0.2222222222222222,
              "#7201a8"
             ],
             [
              0.3333333333333333,
              "#9c179e"
             ],
             [
              0.4444444444444444,
              "#bd3786"
             ],
             [
              0.5555555555555556,
              "#d8576b"
             ],
             [
              0.6666666666666666,
              "#ed7953"
             ],
             [
              0.7777777777777778,
              "#fb9f3a"
             ],
             [
              0.8888888888888888,
              "#fdca26"
             ],
             [
              1,
              "#f0f921"
             ]
            ],
            "type": "heatmap"
           }
          ],
          "heatmapgl": [
           {
            "colorbar": {
             "outlinewidth": 0,
             "ticks": ""
            },
            "colorscale": [
             [
              0,
              "#0d0887"
             ],
             [
              0.1111111111111111,
              "#46039f"
             ],
             [
              0.2222222222222222,
              "#7201a8"
             ],
             [
              0.3333333333333333,
              "#9c179e"
             ],
             [
              0.4444444444444444,
              "#bd3786"
             ],
             [
              0.5555555555555556,
              "#d8576b"
             ],
             [
              0.6666666666666666,
              "#ed7953"
             ],
             [
              0.7777777777777778,
              "#fb9f3a"
             ],
             [
              0.8888888888888888,
              "#fdca26"
             ],
             [
              1,
              "#f0f921"
             ]
            ],
            "type": "heatmapgl"
           }
          ],
          "histogram": [
           {
            "marker": {
             "pattern": {
              "fillmode": "overlay",
              "size": 10,
              "solidity": 0.2
             }
            },
            "type": "histogram"
           }
          ],
          "histogram2d": [
           {
            "colorbar": {
             "outlinewidth": 0,
             "ticks": ""
            },
            "colorscale": [
             [
              0,
              "#0d0887"
             ],
             [
              0.1111111111111111,
              "#46039f"
             ],
             [
              0.2222222222222222,
              "#7201a8"
             ],
             [
              0.3333333333333333,
              "#9c179e"
             ],
             [
              0.4444444444444444,
              "#bd3786"
             ],
             [
              0.5555555555555556,
              "#d8576b"
             ],
             [
              0.6666666666666666,
              "#ed7953"
             ],
             [
              0.7777777777777778,
              "#fb9f3a"
             ],
             [
              0.8888888888888888,
              "#fdca26"
             ],
             [
              1,
              "#f0f921"
             ]
            ],
            "type": "histogram2d"
           }
          ],
          "histogram2dcontour": [
           {
            "colorbar": {
             "outlinewidth": 0,
             "ticks": ""
            },
            "colorscale": [
             [
              0,
              "#0d0887"
             ],
             [
              0.1111111111111111,
              "#46039f"
             ],
             [
              0.2222222222222222,
              "#7201a8"
             ],
             [
              0.3333333333333333,
              "#9c179e"
             ],
             [
              0.4444444444444444,
              "#bd3786"
             ],
             [
              0.5555555555555556,
              "#d8576b"
             ],
             [
              0.6666666666666666,
              "#ed7953"
             ],
             [
              0.7777777777777778,
              "#fb9f3a"
             ],
             [
              0.8888888888888888,
              "#fdca26"
             ],
             [
              1,
              "#f0f921"
             ]
            ],
            "type": "histogram2dcontour"
           }
          ],
          "mesh3d": [
           {
            "colorbar": {
             "outlinewidth": 0,
             "ticks": ""
            },
            "type": "mesh3d"
           }
          ],
          "parcoords": [
           {
            "line": {
             "colorbar": {
              "outlinewidth": 0,
              "ticks": ""
             }
            },
            "type": "parcoords"
           }
          ],
          "pie": [
           {
            "automargin": true,
            "type": "pie"
           }
          ],
          "scatter": [
           {
            "fillpattern": {
             "fillmode": "overlay",
             "size": 10,
             "solidity": 0.2
            },
            "type": "scatter"
           }
          ],
          "scatter3d": [
           {
            "line": {
             "colorbar": {
              "outlinewidth": 0,
              "ticks": ""
             }
            },
            "marker": {
             "colorbar": {
              "outlinewidth": 0,
              "ticks": ""
             }
            },
            "type": "scatter3d"
           }
          ],
          "scattercarpet": [
           {
            "marker": {
             "colorbar": {
              "outlinewidth": 0,
              "ticks": ""
             }
            },
            "type": "scattercarpet"
           }
          ],
          "scattergeo": [
           {
            "marker": {
             "colorbar": {
              "outlinewidth": 0,
              "ticks": ""
             }
            },
            "type": "scattergeo"
           }
          ],
          "scattergl": [
           {
            "marker": {
             "colorbar": {
              "outlinewidth": 0,
              "ticks": ""
             }
            },
            "type": "scattergl"
           }
          ],
          "scattermapbox": [
           {
            "marker": {
             "colorbar": {
              "outlinewidth": 0,
              "ticks": ""
             }
            },
            "type": "scattermapbox"
           }
          ],
          "scatterpolar": [
           {
            "marker": {
             "colorbar": {
              "outlinewidth": 0,
              "ticks": ""
             }
            },
            "type": "scatterpolar"
           }
          ],
          "scatterpolargl": [
           {
            "marker": {
             "colorbar": {
              "outlinewidth": 0,
              "ticks": ""
             }
            },
            "type": "scatterpolargl"
           }
          ],
          "scatterternary": [
           {
            "marker": {
             "colorbar": {
              "outlinewidth": 0,
              "ticks": ""
             }
            },
            "type": "scatterternary"
           }
          ],
          "surface": [
           {
            "colorbar": {
             "outlinewidth": 0,
             "ticks": ""
            },
            "colorscale": [
             [
              0,
              "#0d0887"
             ],
             [
              0.1111111111111111,
              "#46039f"
             ],
             [
              0.2222222222222222,
              "#7201a8"
             ],
             [
              0.3333333333333333,
              "#9c179e"
             ],
             [
              0.4444444444444444,
              "#bd3786"
             ],
             [
              0.5555555555555556,
              "#d8576b"
             ],
             [
              0.6666666666666666,
              "#ed7953"
             ],
             [
              0.7777777777777778,
              "#fb9f3a"
             ],
             [
              0.8888888888888888,
              "#fdca26"
             ],
             [
              1,
              "#f0f921"
             ]
            ],
            "type": "surface"
           }
          ],
          "table": [
           {
            "cells": {
             "fill": {
              "color": "#EBF0F8"
             },
             "line": {
              "color": "white"
             }
            },
            "header": {
             "fill": {
              "color": "#C8D4E3"
             },
             "line": {
              "color": "white"
             }
            },
            "type": "table"
           }
          ]
         },
         "layout": {
          "annotationdefaults": {
           "arrowcolor": "#2a3f5f",
           "arrowhead": 0,
           "arrowwidth": 1
          },
          "autotypenumbers": "strict",
          "coloraxis": {
           "colorbar": {
            "outlinewidth": 0,
            "ticks": ""
           }
          },
          "colorscale": {
           "diverging": [
            [
             0,
             "#8e0152"
            ],
            [
             0.1,
             "#c51b7d"
            ],
            [
             0.2,
             "#de77ae"
            ],
            [
             0.3,
             "#f1b6da"
            ],
            [
             0.4,
             "#fde0ef"
            ],
            [
             0.5,
             "#f7f7f7"
            ],
            [
             0.6,
             "#e6f5d0"
            ],
            [
             0.7,
             "#b8e186"
            ],
            [
             0.8,
             "#7fbc41"
            ],
            [
             0.9,
             "#4d9221"
            ],
            [
             1,
             "#276419"
            ]
           ],
           "sequential": [
            [
             0,
             "#0d0887"
            ],
            [
             0.1111111111111111,
             "#46039f"
            ],
            [
             0.2222222222222222,
             "#7201a8"
            ],
            [
             0.3333333333333333,
             "#9c179e"
            ],
            [
             0.4444444444444444,
             "#bd3786"
            ],
            [
             0.5555555555555556,
             "#d8576b"
            ],
            [
             0.6666666666666666,
             "#ed7953"
            ],
            [
             0.7777777777777778,
             "#fb9f3a"
            ],
            [
             0.8888888888888888,
             "#fdca26"
            ],
            [
             1,
             "#f0f921"
            ]
           ],
           "sequentialminus": [
            [
             0,
             "#0d0887"
            ],
            [
             0.1111111111111111,
             "#46039f"
            ],
            [
             0.2222222222222222,
             "#7201a8"
            ],
            [
             0.3333333333333333,
             "#9c179e"
            ],
            [
             0.4444444444444444,
             "#bd3786"
            ],
            [
             0.5555555555555556,
             "#d8576b"
            ],
            [
             0.6666666666666666,
             "#ed7953"
            ],
            [
             0.7777777777777778,
             "#fb9f3a"
            ],
            [
             0.8888888888888888,
             "#fdca26"
            ],
            [
             1,
             "#f0f921"
            ]
           ]
          },
          "colorway": [
           "#636efa",
           "#EF553B",
           "#00cc96",
           "#ab63fa",
           "#FFA15A",
           "#19d3f3",
           "#FF6692",
           "#B6E880",
           "#FF97FF",
           "#FECB52"
          ],
          "font": {
           "color": "#2a3f5f"
          },
          "geo": {
           "bgcolor": "white",
           "lakecolor": "white",
           "landcolor": "#E5ECF6",
           "showlakes": true,
           "showland": true,
           "subunitcolor": "white"
          },
          "hoverlabel": {
           "align": "left"
          },
          "hovermode": "closest",
          "mapbox": {
           "style": "light"
          },
          "paper_bgcolor": "white",
          "plot_bgcolor": "#E5ECF6",
          "polar": {
           "angularaxis": {
            "gridcolor": "white",
            "linecolor": "white",
            "ticks": ""
           },
           "bgcolor": "#E5ECF6",
           "radialaxis": {
            "gridcolor": "white",
            "linecolor": "white",
            "ticks": ""
           }
          },
          "scene": {
           "xaxis": {
            "backgroundcolor": "#E5ECF6",
            "gridcolor": "white",
            "gridwidth": 2,
            "linecolor": "white",
            "showbackground": true,
            "ticks": "",
            "zerolinecolor": "white"
           },
           "yaxis": {
            "backgroundcolor": "#E5ECF6",
            "gridcolor": "white",
            "gridwidth": 2,
            "linecolor": "white",
            "showbackground": true,
            "ticks": "",
            "zerolinecolor": "white"
           },
           "zaxis": {
            "backgroundcolor": "#E5ECF6",
            "gridcolor": "white",
            "gridwidth": 2,
            "linecolor": "white",
            "showbackground": true,
            "ticks": "",
            "zerolinecolor": "white"
           }
          },
          "shapedefaults": {
           "line": {
            "color": "#2a3f5f"
           }
          },
          "ternary": {
           "aaxis": {
            "gridcolor": "white",
            "linecolor": "white",
            "ticks": ""
           },
           "baxis": {
            "gridcolor": "white",
            "linecolor": "white",
            "ticks": ""
           },
           "bgcolor": "#E5ECF6",
           "caxis": {
            "gridcolor": "white",
            "linecolor": "white",
            "ticks": ""
           }
          },
          "title": {
           "x": 0.05
          },
          "xaxis": {
           "automargin": true,
           "gridcolor": "white",
           "linecolor": "white",
           "ticks": "",
           "title": {
            "standoff": 15
           },
           "zerolinecolor": "white",
           "zerolinewidth": 2
          },
          "yaxis": {
           "automargin": true,
           "gridcolor": "white",
           "linecolor": "white",
           "ticks": "",
           "title": {
            "standoff": 15
           },
           "zerolinecolor": "white",
           "zerolinewidth": 2
          }
         }
        },
        "title": {
         "text": "PCE"
        },
        "xaxis": {
         "tickmode": "array",
         "tickvals": [
          0,
          24,
          48,
          96,
          120,
          138,
          168,
          192,
          204,
          216,
          240,
          264,
          276,
          312,
          324,
          360,
          372,
          420,
          444,
          468,
          480,
          492,
          498,
          540,
          552,
          564,
          588,
          636,
          684,
          732,
          756,
          780,
          804,
          828,
          852,
          900,
          948
         ]
        }
       }
      }
     },
     "metadata": {},
     "output_type": "display_data"
    }
   ],
   "source": [
    "mf.draw_cell_PCE_overview(data)"
   ]
  },
  {
   "attachments": {},
   "cell_type": "markdown",
   "metadata": {},
   "source": [
    "## Draw overall PCE ratio chart"
   ]
  },
  {
   "cell_type": "code",
   "execution_count": 4,
   "metadata": {},
   "outputs": [
    {
     "data": {
      "application/vnd.plotly.v1+json": {
       "config": {
        "plotlyServerURL": "https://plot.ly"
       },
       "data": [
        {
         "connectgaps": true,
         "line": {
          "shape": "linear"
         },
         "mode": "lines+markers",
         "name": "damp-heat: Jan15Double",
         "type": "scatter",
         "x": [
          0,
          24,
          48,
          96,
          120,
          138,
          168,
          192,
          204,
          216,
          240,
          264,
          276,
          312,
          324,
          360,
          372,
          420,
          444,
          468,
          480,
          492,
          498,
          540,
          552,
          564,
          588,
          636,
          684,
          732,
          756,
          780,
          804,
          828,
          852,
          900,
          948
         ],
         "y": [
          1,
          null,
          null,
          null,
          null,
          null,
          0.9119845068020838,
          null,
          null,
          null,
          0.8099151383414595,
          null,
          null,
          null,
          null,
          null,
          0.8978642063234163,
          null,
          0.86046284795157,
          null,
          null,
          0.7935028438914398,
          null,
          0.7649998121478152,
          null,
          null,
          0.8296764412090093,
          0.7347377843582379,
          null,
          null,
          null,
          null,
          null,
          null,
          null,
          null,
          null
         ]
        },
        {
         "connectgaps": true,
         "line": {
          "shape": "linear"
         },
         "mode": "lines+markers",
         "name": "damp-heat: Jan18",
         "type": "scatter",
         "x": [
          0,
          24,
          48,
          96,
          120,
          138,
          168,
          192,
          204,
          216,
          240,
          264,
          276,
          312,
          324,
          360,
          372,
          420,
          444,
          468,
          480,
          492,
          498,
          540,
          552,
          564,
          588,
          636,
          684,
          732,
          756,
          780,
          804,
          828,
          852,
          900,
          948
         ],
         "y": [
          1,
          null,
          0.7937463688640473,
          null,
          0.8113362641379667,
          null,
          0.753022334496726,
          null,
          null,
          null,
          null,
          0.6170466470609951,
          null,
          0.6385795250207126,
          null,
          null,
          null,
          null,
          null,
          null,
          null,
          null,
          null,
          null,
          null,
          null,
          null,
          null,
          null,
          null,
          null,
          null,
          null,
          null,
          null,
          null,
          null
         ]
        },
        {
         "connectgaps": true,
         "line": {
          "shape": "linear"
         },
         "mode": "lines+markers",
         "name": "damp-heat: Jan19Double",
         "type": "scatter",
         "x": [
          0,
          24,
          48,
          96,
          120,
          138,
          168,
          192,
          204,
          216,
          240,
          264,
          276,
          312,
          324,
          360,
          372,
          420,
          444,
          468,
          480,
          492,
          498,
          540,
          552,
          564,
          588,
          636,
          684,
          732,
          756,
          780,
          804,
          828,
          852,
          900,
          948
         ],
         "y": [
          1,
          null,
          0.6965297065590629,
          null,
          1.2404212816776552,
          null,
          1.3076205212249552,
          null,
          null,
          1.0071889186688996,
          null,
          null,
          null,
          null,
          null,
          null,
          null,
          null,
          null,
          null,
          null,
          null,
          null,
          null,
          null,
          null,
          null,
          null,
          null,
          null,
          null,
          null,
          null,
          null,
          null,
          null,
          null
         ]
        },
        {
         "connectgaps": true,
         "line": {
          "shape": "linear"
         },
         "mode": "lines+markers",
         "name": "damp-heat: silicon_The",
         "type": "scatter",
         "x": [
          0,
          24,
          48,
          96,
          120,
          138,
          168,
          192,
          204,
          216,
          240,
          264,
          276,
          312,
          324,
          360,
          372,
          420,
          444,
          468,
          480,
          492,
          498,
          540,
          552,
          564,
          588,
          636,
          684,
          732,
          756,
          780,
          804,
          828,
          852,
          900,
          948
         ],
         "y": [
          1,
          null,
          null,
          null,
          null,
          0.9492529291362802,
          null,
          null,
          0.9683468408878414,
          null,
          null,
          null,
          0.9980898198732805,
          null,
          0.9816742596990313,
          null,
          0.9578714477481048,
          0.9709142376347302,
          null,
          0.9701913727163134,
          null,
          null,
          null,
          null,
          null,
          null,
          null,
          null,
          null,
          null,
          null,
          null,
          null,
          null,
          null,
          null,
          null
         ]
        },
        {
         "connectgaps": true,
         "line": {
          "shape": "linear"
         },
         "mode": "lines+markers",
         "name": "damp-heat: silicon_Zhongshu",
         "type": "scatter",
         "x": [
          0,
          24,
          48,
          96,
          120,
          138,
          168,
          192,
          204,
          216,
          240,
          264,
          276,
          312,
          324,
          360,
          372,
          420,
          444,
          468,
          480,
          492,
          498,
          540,
          552,
          564,
          588,
          636,
          684,
          732,
          756,
          780,
          804,
          828,
          852,
          900,
          948
         ],
         "y": [
          1,
          null,
          null,
          null,
          null,
          null,
          null,
          null,
          null,
          null,
          null,
          null,
          null,
          null,
          null,
          0.9960335699902211,
          null,
          null,
          null,
          null,
          null,
          null,
          0.9981199142601268,
          null,
          null,
          1.020686186506139,
          null,
          1.0022640330367154,
          0.9675556214641368,
          0.9782141262504271,
          null,
          0.9492470332268551,
          null,
          0.9170339209367304,
          null,
          null,
          null
         ]
        },
        {
         "connectgaps": true,
         "line": {
          "shape": "linear"
         },
         "mode": "lines+markers",
         "name": "light-dark-cycle: Jan02Mask with UV filter",
         "type": "scatter",
         "x": [
          0,
          24,
          48,
          96,
          120,
          138,
          168,
          192,
          204,
          216,
          240,
          264,
          276,
          312,
          324,
          360,
          372,
          420,
          444,
          468,
          480,
          492,
          498,
          540,
          552,
          564,
          588,
          636,
          684,
          732,
          756,
          780,
          804,
          828,
          852,
          900,
          948
         ],
         "y": [
          1,
          0.9979172139682109,
          1.0507602152919757,
          1.0400994065691378,
          1.0328110417557894,
          null,
          1.0100250414258896,
          0.9393132868836361,
          null,
          1.079669629013715,
          null,
          1.0900023048083414,
          null,
          1.0807885305024476,
          null,
          null,
          null,
          null,
          null,
          null,
          1.0775974812783469,
          null,
          null,
          null,
          1.0769343674496095,
          null,
          null,
          1.054244805459187,
          1.0288366882501336,
          null,
          1.071876119171633,
          null,
          1.085415030457519,
          null,
          1.0565469976239394,
          1.0485577850270829,
          1.0357183970303625
         ]
        },
        {
         "connectgaps": true,
         "line": {
          "shape": "linear"
         },
         "mode": "lines+markers",
         "name": "light-dark-cycle: Jan16Mask with UV filter",
         "type": "scatter",
         "x": [
          0,
          24,
          48,
          96,
          120,
          138,
          168,
          192,
          204,
          216,
          240,
          264,
          276,
          312,
          324,
          360,
          372,
          420,
          444,
          468,
          480,
          492,
          498,
          540,
          552,
          564,
          588,
          636,
          684,
          732,
          756,
          780,
          804,
          828,
          852,
          900,
          948
         ],
         "y": [
          1,
          null,
          1.1415659852947488,
          null,
          0.9348196839662003,
          null,
          null,
          null,
          null,
          null,
          null,
          null,
          null,
          null,
          null,
          null,
          null,
          null,
          null,
          null,
          null,
          null,
          null,
          null,
          null,
          null,
          null,
          null,
          null,
          null,
          null,
          null,
          null,
          null,
          null,
          null,
          null
         ]
        },
        {
         "connectgaps": true,
         "line": {
          "shape": "linear"
         },
         "mode": "lines+markers",
         "name": "light-dark-cycle: Jan17Mask with UV filter",
         "type": "scatter",
         "x": [
          0,
          24,
          48,
          96,
          120,
          138,
          168,
          192,
          204,
          216,
          240,
          264,
          276,
          312,
          324,
          360,
          372,
          420,
          444,
          468,
          480,
          492,
          498,
          540,
          552,
          564,
          588,
          636,
          684,
          732,
          756,
          780,
          804,
          828,
          852,
          900,
          948
         ],
         "y": [
          1,
          null,
          null,
          null,
          0.04715427906087717,
          null,
          null,
          null,
          null,
          null,
          null,
          null,
          null,
          null,
          null,
          null,
          null,
          null,
          null,
          null,
          null,
          null,
          null,
          null,
          null,
          null,
          null,
          null,
          null,
          null,
          null,
          null,
          null,
          null,
          null,
          null,
          null
         ]
        }
       ],
       "layout": {
        "height": 600,
        "shapes": [
         {
          "type": "line",
          "x0": 0,
          "x1": 1,
          "xref": "x domain",
          "y0": 0.9,
          "y1": 0.9,
          "yref": "y"
         }
        ],
        "template": {
         "data": {
          "bar": [
           {
            "error_x": {
             "color": "#2a3f5f"
            },
            "error_y": {
             "color": "#2a3f5f"
            },
            "marker": {
             "line": {
              "color": "#E5ECF6",
              "width": 0.5
             },
             "pattern": {
              "fillmode": "overlay",
              "size": 10,
              "solidity": 0.2
             }
            },
            "type": "bar"
           }
          ],
          "barpolar": [
           {
            "marker": {
             "line": {
              "color": "#E5ECF6",
              "width": 0.5
             },
             "pattern": {
              "fillmode": "overlay",
              "size": 10,
              "solidity": 0.2
             }
            },
            "type": "barpolar"
           }
          ],
          "carpet": [
           {
            "aaxis": {
             "endlinecolor": "#2a3f5f",
             "gridcolor": "white",
             "linecolor": "white",
             "minorgridcolor": "white",
             "startlinecolor": "#2a3f5f"
            },
            "baxis": {
             "endlinecolor": "#2a3f5f",
             "gridcolor": "white",
             "linecolor": "white",
             "minorgridcolor": "white",
             "startlinecolor": "#2a3f5f"
            },
            "type": "carpet"
           }
          ],
          "choropleth": [
           {
            "colorbar": {
             "outlinewidth": 0,
             "ticks": ""
            },
            "type": "choropleth"
           }
          ],
          "contour": [
           {
            "colorbar": {
             "outlinewidth": 0,
             "ticks": ""
            },
            "colorscale": [
             [
              0,
              "#0d0887"
             ],
             [
              0.1111111111111111,
              "#46039f"
             ],
             [
              0.2222222222222222,
              "#7201a8"
             ],
             [
              0.3333333333333333,
              "#9c179e"
             ],
             [
              0.4444444444444444,
              "#bd3786"
             ],
             [
              0.5555555555555556,
              "#d8576b"
             ],
             [
              0.6666666666666666,
              "#ed7953"
             ],
             [
              0.7777777777777778,
              "#fb9f3a"
             ],
             [
              0.8888888888888888,
              "#fdca26"
             ],
             [
              1,
              "#f0f921"
             ]
            ],
            "type": "contour"
           }
          ],
          "contourcarpet": [
           {
            "colorbar": {
             "outlinewidth": 0,
             "ticks": ""
            },
            "type": "contourcarpet"
           }
          ],
          "heatmap": [
           {
            "colorbar": {
             "outlinewidth": 0,
             "ticks": ""
            },
            "colorscale": [
             [
              0,
              "#0d0887"
             ],
             [
              0.1111111111111111,
              "#46039f"
             ],
             [
              0.2222222222222222,
              "#7201a8"
             ],
             [
              0.3333333333333333,
              "#9c179e"
             ],
             [
              0.4444444444444444,
              "#bd3786"
             ],
             [
              0.5555555555555556,
              "#d8576b"
             ],
             [
              0.6666666666666666,
              "#ed7953"
             ],
             [
              0.7777777777777778,
              "#fb9f3a"
             ],
             [
              0.8888888888888888,
              "#fdca26"
             ],
             [
              1,
              "#f0f921"
             ]
            ],
            "type": "heatmap"
           }
          ],
          "heatmapgl": [
           {
            "colorbar": {
             "outlinewidth": 0,
             "ticks": ""
            },
            "colorscale": [
             [
              0,
              "#0d0887"
             ],
             [
              0.1111111111111111,
              "#46039f"
             ],
             [
              0.2222222222222222,
              "#7201a8"
             ],
             [
              0.3333333333333333,
              "#9c179e"
             ],
             [
              0.4444444444444444,
              "#bd3786"
             ],
             [
              0.5555555555555556,
              "#d8576b"
             ],
             [
              0.6666666666666666,
              "#ed7953"
             ],
             [
              0.7777777777777778,
              "#fb9f3a"
             ],
             [
              0.8888888888888888,
              "#fdca26"
             ],
             [
              1,
              "#f0f921"
             ]
            ],
            "type": "heatmapgl"
           }
          ],
          "histogram": [
           {
            "marker": {
             "pattern": {
              "fillmode": "overlay",
              "size": 10,
              "solidity": 0.2
             }
            },
            "type": "histogram"
           }
          ],
          "histogram2d": [
           {
            "colorbar": {
             "outlinewidth": 0,
             "ticks": ""
            },
            "colorscale": [
             [
              0,
              "#0d0887"
             ],
             [
              0.1111111111111111,
              "#46039f"
             ],
             [
              0.2222222222222222,
              "#7201a8"
             ],
             [
              0.3333333333333333,
              "#9c179e"
             ],
             [
              0.4444444444444444,
              "#bd3786"
             ],
             [
              0.5555555555555556,
              "#d8576b"
             ],
             [
              0.6666666666666666,
              "#ed7953"
             ],
             [
              0.7777777777777778,
              "#fb9f3a"
             ],
             [
              0.8888888888888888,
              "#fdca26"
             ],
             [
              1,
              "#f0f921"
             ]
            ],
            "type": "histogram2d"
           }
          ],
          "histogram2dcontour": [
           {
            "colorbar": {
             "outlinewidth": 0,
             "ticks": ""
            },
            "colorscale": [
             [
              0,
              "#0d0887"
             ],
             [
              0.1111111111111111,
              "#46039f"
             ],
             [
              0.2222222222222222,
              "#7201a8"
             ],
             [
              0.3333333333333333,
              "#9c179e"
             ],
             [
              0.4444444444444444,
              "#bd3786"
             ],
             [
              0.5555555555555556,
              "#d8576b"
             ],
             [
              0.6666666666666666,
              "#ed7953"
             ],
             [
              0.7777777777777778,
              "#fb9f3a"
             ],
             [
              0.8888888888888888,
              "#fdca26"
             ],
             [
              1,
              "#f0f921"
             ]
            ],
            "type": "histogram2dcontour"
           }
          ],
          "mesh3d": [
           {
            "colorbar": {
             "outlinewidth": 0,
             "ticks": ""
            },
            "type": "mesh3d"
           }
          ],
          "parcoords": [
           {
            "line": {
             "colorbar": {
              "outlinewidth": 0,
              "ticks": ""
             }
            },
            "type": "parcoords"
           }
          ],
          "pie": [
           {
            "automargin": true,
            "type": "pie"
           }
          ],
          "scatter": [
           {
            "fillpattern": {
             "fillmode": "overlay",
             "size": 10,
             "solidity": 0.2
            },
            "type": "scatter"
           }
          ],
          "scatter3d": [
           {
            "line": {
             "colorbar": {
              "outlinewidth": 0,
              "ticks": ""
             }
            },
            "marker": {
             "colorbar": {
              "outlinewidth": 0,
              "ticks": ""
             }
            },
            "type": "scatter3d"
           }
          ],
          "scattercarpet": [
           {
            "marker": {
             "colorbar": {
              "outlinewidth": 0,
              "ticks": ""
             }
            },
            "type": "scattercarpet"
           }
          ],
          "scattergeo": [
           {
            "marker": {
             "colorbar": {
              "outlinewidth": 0,
              "ticks": ""
             }
            },
            "type": "scattergeo"
           }
          ],
          "scattergl": [
           {
            "marker": {
             "colorbar": {
              "outlinewidth": 0,
              "ticks": ""
             }
            },
            "type": "scattergl"
           }
          ],
          "scattermapbox": [
           {
            "marker": {
             "colorbar": {
              "outlinewidth": 0,
              "ticks": ""
             }
            },
            "type": "scattermapbox"
           }
          ],
          "scatterpolar": [
           {
            "marker": {
             "colorbar": {
              "outlinewidth": 0,
              "ticks": ""
             }
            },
            "type": "scatterpolar"
           }
          ],
          "scatterpolargl": [
           {
            "marker": {
             "colorbar": {
              "outlinewidth": 0,
              "ticks": ""
             }
            },
            "type": "scatterpolargl"
           }
          ],
          "scatterternary": [
           {
            "marker": {
             "colorbar": {
              "outlinewidth": 0,
              "ticks": ""
             }
            },
            "type": "scatterternary"
           }
          ],
          "surface": [
           {
            "colorbar": {
             "outlinewidth": 0,
             "ticks": ""
            },
            "colorscale": [
             [
              0,
              "#0d0887"
             ],
             [
              0.1111111111111111,
              "#46039f"
             ],
             [
              0.2222222222222222,
              "#7201a8"
             ],
             [
              0.3333333333333333,
              "#9c179e"
             ],
             [
              0.4444444444444444,
              "#bd3786"
             ],
             [
              0.5555555555555556,
              "#d8576b"
             ],
             [
              0.6666666666666666,
              "#ed7953"
             ],
             [
              0.7777777777777778,
              "#fb9f3a"
             ],
             [
              0.8888888888888888,
              "#fdca26"
             ],
             [
              1,
              "#f0f921"
             ]
            ],
            "type": "surface"
           }
          ],
          "table": [
           {
            "cells": {
             "fill": {
              "color": "#EBF0F8"
             },
             "line": {
              "color": "white"
             }
            },
            "header": {
             "fill": {
              "color": "#C8D4E3"
             },
             "line": {
              "color": "white"
             }
            },
            "type": "table"
           }
          ]
         },
         "layout": {
          "annotationdefaults": {
           "arrowcolor": "#2a3f5f",
           "arrowhead": 0,
           "arrowwidth": 1
          },
          "autotypenumbers": "strict",
          "coloraxis": {
           "colorbar": {
            "outlinewidth": 0,
            "ticks": ""
           }
          },
          "colorscale": {
           "diverging": [
            [
             0,
             "#8e0152"
            ],
            [
             0.1,
             "#c51b7d"
            ],
            [
             0.2,
             "#de77ae"
            ],
            [
             0.3,
             "#f1b6da"
            ],
            [
             0.4,
             "#fde0ef"
            ],
            [
             0.5,
             "#f7f7f7"
            ],
            [
             0.6,
             "#e6f5d0"
            ],
            [
             0.7,
             "#b8e186"
            ],
            [
             0.8,
             "#7fbc41"
            ],
            [
             0.9,
             "#4d9221"
            ],
            [
             1,
             "#276419"
            ]
           ],
           "sequential": [
            [
             0,
             "#0d0887"
            ],
            [
             0.1111111111111111,
             "#46039f"
            ],
            [
             0.2222222222222222,
             "#7201a8"
            ],
            [
             0.3333333333333333,
             "#9c179e"
            ],
            [
             0.4444444444444444,
             "#bd3786"
            ],
            [
             0.5555555555555556,
             "#d8576b"
            ],
            [
             0.6666666666666666,
             "#ed7953"
            ],
            [
             0.7777777777777778,
             "#fb9f3a"
            ],
            [
             0.8888888888888888,
             "#fdca26"
            ],
            [
             1,
             "#f0f921"
            ]
           ],
           "sequentialminus": [
            [
             0,
             "#0d0887"
            ],
            [
             0.1111111111111111,
             "#46039f"
            ],
            [
             0.2222222222222222,
             "#7201a8"
            ],
            [
             0.3333333333333333,
             "#9c179e"
            ],
            [
             0.4444444444444444,
             "#bd3786"
            ],
            [
             0.5555555555555556,
             "#d8576b"
            ],
            [
             0.6666666666666666,
             "#ed7953"
            ],
            [
             0.7777777777777778,
             "#fb9f3a"
            ],
            [
             0.8888888888888888,
             "#fdca26"
            ],
            [
             1,
             "#f0f921"
            ]
           ]
          },
          "colorway": [
           "#636efa",
           "#EF553B",
           "#00cc96",
           "#ab63fa",
           "#FFA15A",
           "#19d3f3",
           "#FF6692",
           "#B6E880",
           "#FF97FF",
           "#FECB52"
          ],
          "font": {
           "color": "#2a3f5f"
          },
          "geo": {
           "bgcolor": "white",
           "lakecolor": "white",
           "landcolor": "#E5ECF6",
           "showlakes": true,
           "showland": true,
           "subunitcolor": "white"
          },
          "hoverlabel": {
           "align": "left"
          },
          "hovermode": "closest",
          "mapbox": {
           "style": "light"
          },
          "paper_bgcolor": "white",
          "plot_bgcolor": "#E5ECF6",
          "polar": {
           "angularaxis": {
            "gridcolor": "white",
            "linecolor": "white",
            "ticks": ""
           },
           "bgcolor": "#E5ECF6",
           "radialaxis": {
            "gridcolor": "white",
            "linecolor": "white",
            "ticks": ""
           }
          },
          "scene": {
           "xaxis": {
            "backgroundcolor": "#E5ECF6",
            "gridcolor": "white",
            "gridwidth": 2,
            "linecolor": "white",
            "showbackground": true,
            "ticks": "",
            "zerolinecolor": "white"
           },
           "yaxis": {
            "backgroundcolor": "#E5ECF6",
            "gridcolor": "white",
            "gridwidth": 2,
            "linecolor": "white",
            "showbackground": true,
            "ticks": "",
            "zerolinecolor": "white"
           },
           "zaxis": {
            "backgroundcolor": "#E5ECF6",
            "gridcolor": "white",
            "gridwidth": 2,
            "linecolor": "white",
            "showbackground": true,
            "ticks": "",
            "zerolinecolor": "white"
           }
          },
          "shapedefaults": {
           "line": {
            "color": "#2a3f5f"
           }
          },
          "ternary": {
           "aaxis": {
            "gridcolor": "white",
            "linecolor": "white",
            "ticks": ""
           },
           "baxis": {
            "gridcolor": "white",
            "linecolor": "white",
            "ticks": ""
           },
           "bgcolor": "#E5ECF6",
           "caxis": {
            "gridcolor": "white",
            "linecolor": "white",
            "ticks": ""
           }
          },
          "title": {
           "x": 0.05
          },
          "xaxis": {
           "automargin": true,
           "gridcolor": "white",
           "linecolor": "white",
           "ticks": "",
           "title": {
            "standoff": 15
           },
           "zerolinecolor": "white",
           "zerolinewidth": 2
          },
          "yaxis": {
           "automargin": true,
           "gridcolor": "white",
           "linecolor": "white",
           "ticks": "",
           "title": {
            "standoff": 15
           },
           "zerolinecolor": "white",
           "zerolinewidth": 2
          }
         }
        },
        "title": {
         "text": "PCE Ratio"
        },
        "xaxis": {
         "tickmode": "array",
         "tickvals": [
          0,
          24,
          48,
          96,
          120,
          138,
          168,
          192,
          204,
          216,
          240,
          264,
          276,
          312,
          324,
          360,
          372,
          420,
          444,
          468,
          480,
          492,
          498,
          540,
          552,
          564,
          588,
          636,
          684,
          732,
          756,
          780,
          804,
          828,
          852,
          900,
          948
         ]
        }
       }
      }
     },
     "metadata": {},
     "output_type": "display_data"
    }
   ],
   "source": [
    "mf.draw_cell_PCE_overview_ratio(data)"
   ]
  },
  {
   "attachments": {},
   "cell_type": "markdown",
   "metadata": {},
   "source": [
    "## Draw all cell performance change ratio"
   ]
  },
  {
   "cell_type": "code",
   "execution_count": 5,
   "metadata": {},
   "outputs": [
    {
     "data": {
      "application/vnd.plotly.v1+json": {
       "config": {
        "plotlyServerURL": "https://plot.ly"
       },
       "data": [
        {
         "name": "0.0",
         "r": [
          1,
          1,
          1,
          1,
          1,
          1,
          1,
          1
         ],
         "theta": [
          "Voc_r",
          "Jsc_r",
          "FF_r",
          "PCE_r",
          "Voc_f",
          "Jsc_f",
          "FF_f",
          "PCE_f"
         ],
         "type": "scatterpolar"
        },
        {
         "name": "168.0",
         "r": [
          0.9874585978579851,
          1.0060569271605493,
          0.9180070344298108,
          0.9119845068020838,
          0.9796366354872615,
          1.0134169707849132,
          0.900058435272459,
          0.8935603658375577
         ],
         "theta": [
          "Voc_r",
          "Jsc_r",
          "FF_r",
          "PCE_r",
          "Voc_f",
          "Jsc_f",
          "FF_f",
          "PCE_f"
         ],
         "type": "scatterpolar"
        },
        {
         "name": "240.0",
         "r": [
          0.9334279782043617,
          1.0048838115080148,
          0.8634612505582049,
          0.8099151383414595,
          0.9770180614079149,
          1.003890614573729,
          0.8511933006896418,
          0.8348667851008584
         ],
         "theta": [
          "Voc_r",
          "Jsc_r",
          "FF_r",
          "PCE_r",
          "Voc_f",
          "Jsc_f",
          "FF_f",
          "PCE_f"
         ],
         "type": "scatterpolar"
        },
        {
         "name": "372.0",
         "r": [
          0.9707071595388694,
          1.0223140568628322,
          0.9047697945614596,
          0.8978642063234163,
          0.9643613286741988,
          1.0355476233793464,
          0.8272618216711883,
          0.8261384679425
         ],
         "theta": [
          "Voc_r",
          "Jsc_r",
          "FF_r",
          "PCE_r",
          "Voc_f",
          "Jsc_f",
          "FF_f",
          "PCE_f"
         ],
         "type": "scatterpolar"
        },
        {
         "name": "444.0",
         "r": [
          0.9749976686979726,
          1.0041200614890249,
          0.8789069573859131,
          0.86046284795157,
          0.9676156456940816,
          1.0349068214809591,
          0.7758991231908062,
          0.7769791998322235
         ],
         "theta": [
          "Voc_r",
          "Jsc_r",
          "FF_r",
          "PCE_r",
          "Voc_f",
          "Jsc_f",
          "FF_f",
          "PCE_f"
         ],
         "type": "scatterpolar"
        },
        {
         "name": "492.0",
         "r": [
          0.9658731666119736,
          0.9221769621050049,
          0.890869556760341,
          0.7935028438914398,
          0.9615740410553096,
          0.9590539757302093,
          0.7559282829690624,
          0.697118126170153
         ],
         "theta": [
          "Voc_r",
          "Jsc_r",
          "FF_r",
          "PCE_r",
          "Voc_f",
          "Jsc_f",
          "FF_f",
          "PCE_f"
         ],
         "type": "scatterpolar"
        },
        {
         "name": "540.0",
         "r": [
          0.9700998974645053,
          0.917264139196439,
          0.8597069841412583,
          0.7649998121478152,
          0.9679006727262089,
          0.9712737941366982,
          0.7172449596274513,
          0.6742795183238582
         ],
         "theta": [
          "Voc_r",
          "Jsc_r",
          "FF_r",
          "PCE_r",
          "Voc_f",
          "Jsc_f",
          "FF_f",
          "PCE_f"
         ],
         "type": "scatterpolar"
        },
        {
         "name": "588.0",
         "r": [
          0.9638397150266061,
          0.8813266255221249,
          0.9767131846297816,
          0.8296764412090093,
          0.9591987100204789,
          0.9249464155096652,
          0.8310923224623192,
          0.7373512657149417
         ],
         "theta": [
          "Voc_r",
          "Jsc_r",
          "FF_r",
          "PCE_r",
          "Voc_f",
          "Jsc_f",
          "FF_f",
          "PCE_f"
         ],
         "type": "scatterpolar"
        },
        {
         "name": "636.0",
         "r": [
          0.9613032856110985,
          0.879889136422301,
          0.8686483357226708,
          0.7347377843582379,
          0.9571500477344026,
          0.9397763754571331,
          0.7339071559624621,
          0.6601546260673711
         ],
         "theta": [
          "Voc_r",
          "Jsc_r",
          "FF_r",
          "PCE_r",
          "Voc_f",
          "Jsc_f",
          "FF_f",
          "PCE_f"
         ],
         "type": "scatterpolar"
        }
       ],
       "layout": {
        "height": 600,
        "polar": {
         "radialaxis": {
          "title": {
           "font": {
            "size": 30
           },
           "text": "damp-heat: Jan15Double"
          },
          "visible": true
         }
        },
        "showlegend": true,
        "template": {
         "data": {
          "bar": [
           {
            "error_x": {
             "color": "#2a3f5f"
            },
            "error_y": {
             "color": "#2a3f5f"
            },
            "marker": {
             "line": {
              "color": "#E5ECF6",
              "width": 0.5
             },
             "pattern": {
              "fillmode": "overlay",
              "size": 10,
              "solidity": 0.2
             }
            },
            "type": "bar"
           }
          ],
          "barpolar": [
           {
            "marker": {
             "line": {
              "color": "#E5ECF6",
              "width": 0.5
             },
             "pattern": {
              "fillmode": "overlay",
              "size": 10,
              "solidity": 0.2
             }
            },
            "type": "barpolar"
           }
          ],
          "carpet": [
           {
            "aaxis": {
             "endlinecolor": "#2a3f5f",
             "gridcolor": "white",
             "linecolor": "white",
             "minorgridcolor": "white",
             "startlinecolor": "#2a3f5f"
            },
            "baxis": {
             "endlinecolor": "#2a3f5f",
             "gridcolor": "white",
             "linecolor": "white",
             "minorgridcolor": "white",
             "startlinecolor": "#2a3f5f"
            },
            "type": "carpet"
           }
          ],
          "choropleth": [
           {
            "colorbar": {
             "outlinewidth": 0,
             "ticks": ""
            },
            "type": "choropleth"
           }
          ],
          "contour": [
           {
            "colorbar": {
             "outlinewidth": 0,
             "ticks": ""
            },
            "colorscale": [
             [
              0,
              "#0d0887"
             ],
             [
              0.1111111111111111,
              "#46039f"
             ],
             [
              0.2222222222222222,
              "#7201a8"
             ],
             [
              0.3333333333333333,
              "#9c179e"
             ],
             [
              0.4444444444444444,
              "#bd3786"
             ],
             [
              0.5555555555555556,
              "#d8576b"
             ],
             [
              0.6666666666666666,
              "#ed7953"
             ],
             [
              0.7777777777777778,
              "#fb9f3a"
             ],
             [
              0.8888888888888888,
              "#fdca26"
             ],
             [
              1,
              "#f0f921"
             ]
            ],
            "type": "contour"
           }
          ],
          "contourcarpet": [
           {
            "colorbar": {
             "outlinewidth": 0,
             "ticks": ""
            },
            "type": "contourcarpet"
           }
          ],
          "heatmap": [
           {
            "colorbar": {
             "outlinewidth": 0,
             "ticks": ""
            },
            "colorscale": [
             [
              0,
              "#0d0887"
             ],
             [
              0.1111111111111111,
              "#46039f"
             ],
             [
              0.2222222222222222,
              "#7201a8"
             ],
             [
              0.3333333333333333,
              "#9c179e"
             ],
             [
              0.4444444444444444,
              "#bd3786"
             ],
             [
              0.5555555555555556,
              "#d8576b"
             ],
             [
              0.6666666666666666,
              "#ed7953"
             ],
             [
              0.7777777777777778,
              "#fb9f3a"
             ],
             [
              0.8888888888888888,
              "#fdca26"
             ],
             [
              1,
              "#f0f921"
             ]
            ],
            "type": "heatmap"
           }
          ],
          "heatmapgl": [
           {
            "colorbar": {
             "outlinewidth": 0,
             "ticks": ""
            },
            "colorscale": [
             [
              0,
              "#0d0887"
             ],
             [
              0.1111111111111111,
              "#46039f"
             ],
             [
              0.2222222222222222,
              "#7201a8"
             ],
             [
              0.3333333333333333,
              "#9c179e"
             ],
             [
              0.4444444444444444,
              "#bd3786"
             ],
             [
              0.5555555555555556,
              "#d8576b"
             ],
             [
              0.6666666666666666,
              "#ed7953"
             ],
             [
              0.7777777777777778,
              "#fb9f3a"
             ],
             [
              0.8888888888888888,
              "#fdca26"
             ],
             [
              1,
              "#f0f921"
             ]
            ],
            "type": "heatmapgl"
           }
          ],
          "histogram": [
           {
            "marker": {
             "pattern": {
              "fillmode": "overlay",
              "size": 10,
              "solidity": 0.2
             }
            },
            "type": "histogram"
           }
          ],
          "histogram2d": [
           {
            "colorbar": {
             "outlinewidth": 0,
             "ticks": ""
            },
            "colorscale": [
             [
              0,
              "#0d0887"
             ],
             [
              0.1111111111111111,
              "#46039f"
             ],
             [
              0.2222222222222222,
              "#7201a8"
             ],
             [
              0.3333333333333333,
              "#9c179e"
             ],
             [
              0.4444444444444444,
              "#bd3786"
             ],
             [
              0.5555555555555556,
              "#d8576b"
             ],
             [
              0.6666666666666666,
              "#ed7953"
             ],
             [
              0.7777777777777778,
              "#fb9f3a"
             ],
             [
              0.8888888888888888,
              "#fdca26"
             ],
             [
              1,
              "#f0f921"
             ]
            ],
            "type": "histogram2d"
           }
          ],
          "histogram2dcontour": [
           {
            "colorbar": {
             "outlinewidth": 0,
             "ticks": ""
            },
            "colorscale": [
             [
              0,
              "#0d0887"
             ],
             [
              0.1111111111111111,
              "#46039f"
             ],
             [
              0.2222222222222222,
              "#7201a8"
             ],
             [
              0.3333333333333333,
              "#9c179e"
             ],
             [
              0.4444444444444444,
              "#bd3786"
             ],
             [
              0.5555555555555556,
              "#d8576b"
             ],
             [
              0.6666666666666666,
              "#ed7953"
             ],
             [
              0.7777777777777778,
              "#fb9f3a"
             ],
             [
              0.8888888888888888,
              "#fdca26"
             ],
             [
              1,
              "#f0f921"
             ]
            ],
            "type": "histogram2dcontour"
           }
          ],
          "mesh3d": [
           {
            "colorbar": {
             "outlinewidth": 0,
             "ticks": ""
            },
            "type": "mesh3d"
           }
          ],
          "parcoords": [
           {
            "line": {
             "colorbar": {
              "outlinewidth": 0,
              "ticks": ""
             }
            },
            "type": "parcoords"
           }
          ],
          "pie": [
           {
            "automargin": true,
            "type": "pie"
           }
          ],
          "scatter": [
           {
            "fillpattern": {
             "fillmode": "overlay",
             "size": 10,
             "solidity": 0.2
            },
            "type": "scatter"
           }
          ],
          "scatter3d": [
           {
            "line": {
             "colorbar": {
              "outlinewidth": 0,
              "ticks": ""
             }
            },
            "marker": {
             "colorbar": {
              "outlinewidth": 0,
              "ticks": ""
             }
            },
            "type": "scatter3d"
           }
          ],
          "scattercarpet": [
           {
            "marker": {
             "colorbar": {
              "outlinewidth": 0,
              "ticks": ""
             }
            },
            "type": "scattercarpet"
           }
          ],
          "scattergeo": [
           {
            "marker": {
             "colorbar": {
              "outlinewidth": 0,
              "ticks": ""
             }
            },
            "type": "scattergeo"
           }
          ],
          "scattergl": [
           {
            "marker": {
             "colorbar": {
              "outlinewidth": 0,
              "ticks": ""
             }
            },
            "type": "scattergl"
           }
          ],
          "scattermapbox": [
           {
            "marker": {
             "colorbar": {
              "outlinewidth": 0,
              "ticks": ""
             }
            },
            "type": "scattermapbox"
           }
          ],
          "scatterpolar": [
           {
            "marker": {
             "colorbar": {
              "outlinewidth": 0,
              "ticks": ""
             }
            },
            "type": "scatterpolar"
           }
          ],
          "scatterpolargl": [
           {
            "marker": {
             "colorbar": {
              "outlinewidth": 0,
              "ticks": ""
             }
            },
            "type": "scatterpolargl"
           }
          ],
          "scatterternary": [
           {
            "marker": {
             "colorbar": {
              "outlinewidth": 0,
              "ticks": ""
             }
            },
            "type": "scatterternary"
           }
          ],
          "surface": [
           {
            "colorbar": {
             "outlinewidth": 0,
             "ticks": ""
            },
            "colorscale": [
             [
              0,
              "#0d0887"
             ],
             [
              0.1111111111111111,
              "#46039f"
             ],
             [
              0.2222222222222222,
              "#7201a8"
             ],
             [
              0.3333333333333333,
              "#9c179e"
             ],
             [
              0.4444444444444444,
              "#bd3786"
             ],
             [
              0.5555555555555556,
              "#d8576b"
             ],
             [
              0.6666666666666666,
              "#ed7953"
             ],
             [
              0.7777777777777778,
              "#fb9f3a"
             ],
             [
              0.8888888888888888,
              "#fdca26"
             ],
             [
              1,
              "#f0f921"
             ]
            ],
            "type": "surface"
           }
          ],
          "table": [
           {
            "cells": {
             "fill": {
              "color": "#EBF0F8"
             },
             "line": {
              "color": "white"
             }
            },
            "header": {
             "fill": {
              "color": "#C8D4E3"
             },
             "line": {
              "color": "white"
             }
            },
            "type": "table"
           }
          ]
         },
         "layout": {
          "annotationdefaults": {
           "arrowcolor": "#2a3f5f",
           "arrowhead": 0,
           "arrowwidth": 1
          },
          "autotypenumbers": "strict",
          "coloraxis": {
           "colorbar": {
            "outlinewidth": 0,
            "ticks": ""
           }
          },
          "colorscale": {
           "diverging": [
            [
             0,
             "#8e0152"
            ],
            [
             0.1,
             "#c51b7d"
            ],
            [
             0.2,
             "#de77ae"
            ],
            [
             0.3,
             "#f1b6da"
            ],
            [
             0.4,
             "#fde0ef"
            ],
            [
             0.5,
             "#f7f7f7"
            ],
            [
             0.6,
             "#e6f5d0"
            ],
            [
             0.7,
             "#b8e186"
            ],
            [
             0.8,
             "#7fbc41"
            ],
            [
             0.9,
             "#4d9221"
            ],
            [
             1,
             "#276419"
            ]
           ],
           "sequential": [
            [
             0,
             "#0d0887"
            ],
            [
             0.1111111111111111,
             "#46039f"
            ],
            [
             0.2222222222222222,
             "#7201a8"
            ],
            [
             0.3333333333333333,
             "#9c179e"
            ],
            [
             0.4444444444444444,
             "#bd3786"
            ],
            [
             0.5555555555555556,
             "#d8576b"
            ],
            [
             0.6666666666666666,
             "#ed7953"
            ],
            [
             0.7777777777777778,
             "#fb9f3a"
            ],
            [
             0.8888888888888888,
             "#fdca26"
            ],
            [
             1,
             "#f0f921"
            ]
           ],
           "sequentialminus": [
            [
             0,
             "#0d0887"
            ],
            [
             0.1111111111111111,
             "#46039f"
            ],
            [
             0.2222222222222222,
             "#7201a8"
            ],
            [
             0.3333333333333333,
             "#9c179e"
            ],
            [
             0.4444444444444444,
             "#bd3786"
            ],
            [
             0.5555555555555556,
             "#d8576b"
            ],
            [
             0.6666666666666666,
             "#ed7953"
            ],
            [
             0.7777777777777778,
             "#fb9f3a"
            ],
            [
             0.8888888888888888,
             "#fdca26"
            ],
            [
             1,
             "#f0f921"
            ]
           ]
          },
          "colorway": [
           "#636efa",
           "#EF553B",
           "#00cc96",
           "#ab63fa",
           "#FFA15A",
           "#19d3f3",
           "#FF6692",
           "#B6E880",
           "#FF97FF",
           "#FECB52"
          ],
          "font": {
           "color": "#2a3f5f"
          },
          "geo": {
           "bgcolor": "white",
           "lakecolor": "white",
           "landcolor": "#E5ECF6",
           "showlakes": true,
           "showland": true,
           "subunitcolor": "white"
          },
          "hoverlabel": {
           "align": "left"
          },
          "hovermode": "closest",
          "mapbox": {
           "style": "light"
          },
          "paper_bgcolor": "white",
          "plot_bgcolor": "#E5ECF6",
          "polar": {
           "angularaxis": {
            "gridcolor": "white",
            "linecolor": "white",
            "ticks": ""
           },
           "bgcolor": "#E5ECF6",
           "radialaxis": {
            "gridcolor": "white",
            "linecolor": "white",
            "ticks": ""
           }
          },
          "scene": {
           "xaxis": {
            "backgroundcolor": "#E5ECF6",
            "gridcolor": "white",
            "gridwidth": 2,
            "linecolor": "white",
            "showbackground": true,
            "ticks": "",
            "zerolinecolor": "white"
           },
           "yaxis": {
            "backgroundcolor": "#E5ECF6",
            "gridcolor": "white",
            "gridwidth": 2,
            "linecolor": "white",
            "showbackground": true,
            "ticks": "",
            "zerolinecolor": "white"
           },
           "zaxis": {
            "backgroundcolor": "#E5ECF6",
            "gridcolor": "white",
            "gridwidth": 2,
            "linecolor": "white",
            "showbackground": true,
            "ticks": "",
            "zerolinecolor": "white"
           }
          },
          "shapedefaults": {
           "line": {
            "color": "#2a3f5f"
           }
          },
          "ternary": {
           "aaxis": {
            "gridcolor": "white",
            "linecolor": "white",
            "ticks": ""
           },
           "baxis": {
            "gridcolor": "white",
            "linecolor": "white",
            "ticks": ""
           },
           "bgcolor": "#E5ECF6",
           "caxis": {
            "gridcolor": "white",
            "linecolor": "white",
            "ticks": ""
           }
          },
          "title": {
           "x": 0.05
          },
          "xaxis": {
           "automargin": true,
           "gridcolor": "white",
           "linecolor": "white",
           "ticks": "",
           "title": {
            "standoff": 15
           },
           "zerolinecolor": "white",
           "zerolinewidth": 2
          },
          "yaxis": {
           "automargin": true,
           "gridcolor": "white",
           "linecolor": "white",
           "ticks": "",
           "title": {
            "standoff": 15
           },
           "zerolinecolor": "white",
           "zerolinewidth": 2
          }
         }
        }
       }
      }
     },
     "metadata": {},
     "output_type": "display_data"
    },
    {
     "data": {
      "text/html": [
       "<div>\n",
       "<style scoped>\n",
       "    .dataframe tbody tr th:only-of-type {\n",
       "        vertical-align: middle;\n",
       "    }\n",
       "\n",
       "    .dataframe tbody tr th {\n",
       "        vertical-align: top;\n",
       "    }\n",
       "\n",
       "    .dataframe thead th {\n",
       "        text-align: right;\n",
       "    }\n",
       "</style>\n",
       "<table border=\"1\" class=\"dataframe\">\n",
       "  <thead>\n",
       "    <tr style=\"text-align: right;\">\n",
       "      <th></th>\n",
       "      <th>Hours</th>\n",
       "      <th>Voc_r</th>\n",
       "      <th>Jsc_r</th>\n",
       "      <th>FF_r</th>\n",
       "      <th>PCE_r</th>\n",
       "      <th>Voc_f</th>\n",
       "      <th>Jsc_f</th>\n",
       "      <th>FF_f</th>\n",
       "      <th>PCE_f</th>\n",
       "    </tr>\n",
       "  </thead>\n",
       "  <tbody>\n",
       "    <tr>\n",
       "      <th>0</th>\n",
       "      <td>0.0</td>\n",
       "      <td>1.712035</td>\n",
       "      <td>15.890500</td>\n",
       "      <td>0.727282</td>\n",
       "      <td>19.785769</td>\n",
       "      <td>1.712663</td>\n",
       "      <td>15.835798</td>\n",
       "      <td>0.711558</td>\n",
       "      <td>19.298447</td>\n",
       "    </tr>\n",
       "    <tr>\n",
       "      <th>1</th>\n",
       "      <td>168.0</td>\n",
       "      <td>1.690564</td>\n",
       "      <td>15.986748</td>\n",
       "      <td>0.667650</td>\n",
       "      <td>18.044315</td>\n",
       "      <td>1.677788</td>\n",
       "      <td>16.048266</td>\n",
       "      <td>0.640444</td>\n",
       "      <td>17.244328</td>\n",
       "    </tr>\n",
       "    <tr>\n",
       "      <th>2</th>\n",
       "      <td>240.0</td>\n",
       "      <td>1.598062</td>\n",
       "      <td>15.968106</td>\n",
       "      <td>0.627980</td>\n",
       "      <td>16.024794</td>\n",
       "      <td>1.673303</td>\n",
       "      <td>15.897409</td>\n",
       "      <td>0.605674</td>\n",
       "      <td>16.111633</td>\n",
       "    </tr>\n",
       "    <tr>\n",
       "      <th>3</th>\n",
       "      <td>372.0</td>\n",
       "      <td>1.661885</td>\n",
       "      <td>16.245082</td>\n",
       "      <td>0.658023</td>\n",
       "      <td>17.764934</td>\n",
       "      <td>1.651626</td>\n",
       "      <td>16.398723</td>\n",
       "      <td>0.588645</td>\n",
       "      <td>15.943190</td>\n",
       "    </tr>\n",
       "    <tr>\n",
       "      <th>4</th>\n",
       "      <td>444.0</td>\n",
       "      <td>1.669230</td>\n",
       "      <td>15.955970</td>\n",
       "      <td>0.639213</td>\n",
       "      <td>17.024919</td>\n",
       "      <td>1.657200</td>\n",
       "      <td>16.388575</td>\n",
       "      <td>0.552097</td>\n",
       "      <td>14.994492</td>\n",
       "    </tr>\n",
       "    <tr>\n",
       "      <th>5</th>\n",
       "      <td>492.0</td>\n",
       "      <td>1.653609</td>\n",
       "      <td>14.653853</td>\n",
       "      <td>0.647913</td>\n",
       "      <td>15.700064</td>\n",
       "      <td>1.646852</td>\n",
       "      <td>15.187385</td>\n",
       "      <td>0.537887</td>\n",
       "      <td>13.453297</td>\n",
       "    </tr>\n",
       "    <tr>\n",
       "      <th>6</th>\n",
       "      <td>540.0</td>\n",
       "      <td>1.660845</td>\n",
       "      <td>14.575786</td>\n",
       "      <td>0.625249</td>\n",
       "      <td>15.136110</td>\n",
       "      <td>1.657688</td>\n",
       "      <td>15.380895</td>\n",
       "      <td>0.510362</td>\n",
       "      <td>13.012548</td>\n",
       "    </tr>\n",
       "    <tr>\n",
       "      <th>7</th>\n",
       "      <td>588.0</td>\n",
       "      <td>1.650128</td>\n",
       "      <td>14.004721</td>\n",
       "      <td>0.710346</td>\n",
       "      <td>16.415787</td>\n",
       "      <td>1.642784</td>\n",
       "      <td>14.647264</td>\n",
       "      <td>0.591371</td>\n",
       "      <td>14.229734</td>\n",
       "    </tr>\n",
       "    <tr>\n",
       "      <th>8</th>\n",
       "      <td>636.0</td>\n",
       "      <td>1.645785</td>\n",
       "      <td>13.981878</td>\n",
       "      <td>0.631752</td>\n",
       "      <td>14.537352</td>\n",
       "      <td>1.639276</td>\n",
       "      <td>14.882108</td>\n",
       "      <td>0.522218</td>\n",
       "      <td>12.739959</td>\n",
       "    </tr>\n",
       "  </tbody>\n",
       "</table>\n",
       "</div>"
      ],
      "text/plain": [
       "   Hours     Voc_r      Jsc_r      FF_r      PCE_r     Voc_f      Jsc_f  \\\n",
       "0    0.0  1.712035  15.890500  0.727282  19.785769  1.712663  15.835798   \n",
       "1  168.0  1.690564  15.986748  0.667650  18.044315  1.677788  16.048266   \n",
       "2  240.0  1.598062  15.968106  0.627980  16.024794  1.673303  15.897409   \n",
       "3  372.0  1.661885  16.245082  0.658023  17.764934  1.651626  16.398723   \n",
       "4  444.0  1.669230  15.955970  0.639213  17.024919  1.657200  16.388575   \n",
       "5  492.0  1.653609  14.653853  0.647913  15.700064  1.646852  15.187385   \n",
       "6  540.0  1.660845  14.575786  0.625249  15.136110  1.657688  15.380895   \n",
       "7  588.0  1.650128  14.004721  0.710346  16.415787  1.642784  14.647264   \n",
       "8  636.0  1.645785  13.981878  0.631752  14.537352  1.639276  14.882108   \n",
       "\n",
       "       FF_f      PCE_f  \n",
       "0  0.711558  19.298447  \n",
       "1  0.640444  17.244328  \n",
       "2  0.605674  16.111633  \n",
       "3  0.588645  15.943190  \n",
       "4  0.552097  14.994492  \n",
       "5  0.537887  13.453297  \n",
       "6  0.510362  13.012548  \n",
       "7  0.591371  14.229734  \n",
       "8  0.522218  12.739959  "
      ]
     },
     "metadata": {},
     "output_type": "display_data"
    },
    {
     "data": {
      "application/vnd.plotly.v1+json": {
       "config": {
        "plotlyServerURL": "https://plot.ly"
       },
       "data": [
        {
         "name": "0.0",
         "r": [
          1,
          1,
          1,
          1,
          1,
          1,
          1,
          1
         ],
         "theta": [
          "Voc_r",
          "Jsc_r",
          "FF_r",
          "PCE_r",
          "Voc_f",
          "Jsc_f",
          "FF_f",
          "PCE_f"
         ],
         "type": "scatterpolar"
        },
        {
         "name": "48.0",
         "r": [
          0.943263689337103,
          0.968460553827385,
          0.8688938005014978,
          0.7937463688640473,
          0.9441395987229878,
          0.9569364823801098,
          0.8840143481866741,
          0.7986907211293592
         ],
         "theta": [
          "Voc_r",
          "Jsc_r",
          "FF_r",
          "PCE_r",
          "Voc_f",
          "Jsc_f",
          "FF_f",
          "PCE_f"
         ],
         "type": "scatterpolar"
        },
        {
         "name": "120.0",
         "r": [
          0.9493692840655624,
          1.0233615772089821,
          0.8350963865305111,
          0.8113362641379667,
          0.9449077872301961,
          1.0120294113047426,
          0.817485585840277,
          0.7817405966791378
         ],
         "theta": [
          "Voc_r",
          "Jsc_r",
          "FF_r",
          "PCE_r",
          "Voc_f",
          "Jsc_f",
          "FF_f",
          "PCE_f"
         ],
         "type": "scatterpolar"
        },
        {
         "name": "168.0",
         "r": [
          0.9462354788200723,
          0.9312946460663503,
          0.8545186062741549,
          0.753022334496726,
          0.9421139509954248,
          0.9301873095564422,
          0.8076864334371303,
          0.7078099009413575
         ],
         "theta": [
          "Voc_r",
          "Jsc_r",
          "FF_r",
          "PCE_r",
          "Voc_f",
          "Jsc_f",
          "FF_f",
          "PCE_f"
         ],
         "type": "scatterpolar"
        },
        {
         "name": "264.0",
         "r": [
          0.9130163500517614,
          0.7734745972385294,
          0.8737624701090922,
          0.6170466470609951,
          0.9059321391767787,
          0.9108923077464559,
          0.4950015172865363,
          0.40847852744851715
         ],
         "theta": [
          "Voc_r",
          "Jsc_r",
          "FF_r",
          "PCE_r",
          "Voc_f",
          "Jsc_f",
          "FF_f",
          "PCE_f"
         ],
         "type": "scatterpolar"
        },
        {
         "name": "312.0",
         "r": [
          0.9376959313626103,
          0.9272690821982564,
          0.7344245375715014,
          0.6385795250207126,
          0.9365965607341445,
          0.9231886089827909,
          0.5779783902920335,
          0.49975206462751576
         ],
         "theta": [
          "Voc_r",
          "Jsc_r",
          "FF_r",
          "PCE_r",
          "Voc_f",
          "Jsc_f",
          "FF_f",
          "PCE_f"
         ],
         "type": "scatterpolar"
        }
       ],
       "layout": {
        "height": 600,
        "polar": {
         "radialaxis": {
          "title": {
           "font": {
            "size": 30
           },
           "text": "damp-heat: Jan18"
          },
          "visible": true
         }
        },
        "showlegend": true,
        "template": {
         "data": {
          "bar": [
           {
            "error_x": {
             "color": "#2a3f5f"
            },
            "error_y": {
             "color": "#2a3f5f"
            },
            "marker": {
             "line": {
              "color": "#E5ECF6",
              "width": 0.5
             },
             "pattern": {
              "fillmode": "overlay",
              "size": 10,
              "solidity": 0.2
             }
            },
            "type": "bar"
           }
          ],
          "barpolar": [
           {
            "marker": {
             "line": {
              "color": "#E5ECF6",
              "width": 0.5
             },
             "pattern": {
              "fillmode": "overlay",
              "size": 10,
              "solidity": 0.2
             }
            },
            "type": "barpolar"
           }
          ],
          "carpet": [
           {
            "aaxis": {
             "endlinecolor": "#2a3f5f",
             "gridcolor": "white",
             "linecolor": "white",
             "minorgridcolor": "white",
             "startlinecolor": "#2a3f5f"
            },
            "baxis": {
             "endlinecolor": "#2a3f5f",
             "gridcolor": "white",
             "linecolor": "white",
             "minorgridcolor": "white",
             "startlinecolor": "#2a3f5f"
            },
            "type": "carpet"
           }
          ],
          "choropleth": [
           {
            "colorbar": {
             "outlinewidth": 0,
             "ticks": ""
            },
            "type": "choropleth"
           }
          ],
          "contour": [
           {
            "colorbar": {
             "outlinewidth": 0,
             "ticks": ""
            },
            "colorscale": [
             [
              0,
              "#0d0887"
             ],
             [
              0.1111111111111111,
              "#46039f"
             ],
             [
              0.2222222222222222,
              "#7201a8"
             ],
             [
              0.3333333333333333,
              "#9c179e"
             ],
             [
              0.4444444444444444,
              "#bd3786"
             ],
             [
              0.5555555555555556,
              "#d8576b"
             ],
             [
              0.6666666666666666,
              "#ed7953"
             ],
             [
              0.7777777777777778,
              "#fb9f3a"
             ],
             [
              0.8888888888888888,
              "#fdca26"
             ],
             [
              1,
              "#f0f921"
             ]
            ],
            "type": "contour"
           }
          ],
          "contourcarpet": [
           {
            "colorbar": {
             "outlinewidth": 0,
             "ticks": ""
            },
            "type": "contourcarpet"
           }
          ],
          "heatmap": [
           {
            "colorbar": {
             "outlinewidth": 0,
             "ticks": ""
            },
            "colorscale": [
             [
              0,
              "#0d0887"
             ],
             [
              0.1111111111111111,
              "#46039f"
             ],
             [
              0.2222222222222222,
              "#7201a8"
             ],
             [
              0.3333333333333333,
              "#9c179e"
             ],
             [
              0.4444444444444444,
              "#bd3786"
             ],
             [
              0.5555555555555556,
              "#d8576b"
             ],
             [
              0.6666666666666666,
              "#ed7953"
             ],
             [
              0.7777777777777778,
              "#fb9f3a"
             ],
             [
              0.8888888888888888,
              "#fdca26"
             ],
             [
              1,
              "#f0f921"
             ]
            ],
            "type": "heatmap"
           }
          ],
          "heatmapgl": [
           {
            "colorbar": {
             "outlinewidth": 0,
             "ticks": ""
            },
            "colorscale": [
             [
              0,
              "#0d0887"
             ],
             [
              0.1111111111111111,
              "#46039f"
             ],
             [
              0.2222222222222222,
              "#7201a8"
             ],
             [
              0.3333333333333333,
              "#9c179e"
             ],
             [
              0.4444444444444444,
              "#bd3786"
             ],
             [
              0.5555555555555556,
              "#d8576b"
             ],
             [
              0.6666666666666666,
              "#ed7953"
             ],
             [
              0.7777777777777778,
              "#fb9f3a"
             ],
             [
              0.8888888888888888,
              "#fdca26"
             ],
             [
              1,
              "#f0f921"
             ]
            ],
            "type": "heatmapgl"
           }
          ],
          "histogram": [
           {
            "marker": {
             "pattern": {
              "fillmode": "overlay",
              "size": 10,
              "solidity": 0.2
             }
            },
            "type": "histogram"
           }
          ],
          "histogram2d": [
           {
            "colorbar": {
             "outlinewidth": 0,
             "ticks": ""
            },
            "colorscale": [
             [
              0,
              "#0d0887"
             ],
             [
              0.1111111111111111,
              "#46039f"
             ],
             [
              0.2222222222222222,
              "#7201a8"
             ],
             [
              0.3333333333333333,
              "#9c179e"
             ],
             [
              0.4444444444444444,
              "#bd3786"
             ],
             [
              0.5555555555555556,
              "#d8576b"
             ],
             [
              0.6666666666666666,
              "#ed7953"
             ],
             [
              0.7777777777777778,
              "#fb9f3a"
             ],
             [
              0.8888888888888888,
              "#fdca26"
             ],
             [
              1,
              "#f0f921"
             ]
            ],
            "type": "histogram2d"
           }
          ],
          "histogram2dcontour": [
           {
            "colorbar": {
             "outlinewidth": 0,
             "ticks": ""
            },
            "colorscale": [
             [
              0,
              "#0d0887"
             ],
             [
              0.1111111111111111,
              "#46039f"
             ],
             [
              0.2222222222222222,
              "#7201a8"
             ],
             [
              0.3333333333333333,
              "#9c179e"
             ],
             [
              0.4444444444444444,
              "#bd3786"
             ],
             [
              0.5555555555555556,
              "#d8576b"
             ],
             [
              0.6666666666666666,
              "#ed7953"
             ],
             [
              0.7777777777777778,
              "#fb9f3a"
             ],
             [
              0.8888888888888888,
              "#fdca26"
             ],
             [
              1,
              "#f0f921"
             ]
            ],
            "type": "histogram2dcontour"
           }
          ],
          "mesh3d": [
           {
            "colorbar": {
             "outlinewidth": 0,
             "ticks": ""
            },
            "type": "mesh3d"
           }
          ],
          "parcoords": [
           {
            "line": {
             "colorbar": {
              "outlinewidth": 0,
              "ticks": ""
             }
            },
            "type": "parcoords"
           }
          ],
          "pie": [
           {
            "automargin": true,
            "type": "pie"
           }
          ],
          "scatter": [
           {
            "fillpattern": {
             "fillmode": "overlay",
             "size": 10,
             "solidity": 0.2
            },
            "type": "scatter"
           }
          ],
          "scatter3d": [
           {
            "line": {
             "colorbar": {
              "outlinewidth": 0,
              "ticks": ""
             }
            },
            "marker": {
             "colorbar": {
              "outlinewidth": 0,
              "ticks": ""
             }
            },
            "type": "scatter3d"
           }
          ],
          "scattercarpet": [
           {
            "marker": {
             "colorbar": {
              "outlinewidth": 0,
              "ticks": ""
             }
            },
            "type": "scattercarpet"
           }
          ],
          "scattergeo": [
           {
            "marker": {
             "colorbar": {
              "outlinewidth": 0,
              "ticks": ""
             }
            },
            "type": "scattergeo"
           }
          ],
          "scattergl": [
           {
            "marker": {
             "colorbar": {
              "outlinewidth": 0,
              "ticks": ""
             }
            },
            "type": "scattergl"
           }
          ],
          "scattermapbox": [
           {
            "marker": {
             "colorbar": {
              "outlinewidth": 0,
              "ticks": ""
             }
            },
            "type": "scattermapbox"
           }
          ],
          "scatterpolar": [
           {
            "marker": {
             "colorbar": {
              "outlinewidth": 0,
              "ticks": ""
             }
            },
            "type": "scatterpolar"
           }
          ],
          "scatterpolargl": [
           {
            "marker": {
             "colorbar": {
              "outlinewidth": 0,
              "ticks": ""
             }
            },
            "type": "scatterpolargl"
           }
          ],
          "scatterternary": [
           {
            "marker": {
             "colorbar": {
              "outlinewidth": 0,
              "ticks": ""
             }
            },
            "type": "scatterternary"
           }
          ],
          "surface": [
           {
            "colorbar": {
             "outlinewidth": 0,
             "ticks": ""
            },
            "colorscale": [
             [
              0,
              "#0d0887"
             ],
             [
              0.1111111111111111,
              "#46039f"
             ],
             [
              0.2222222222222222,
              "#7201a8"
             ],
             [
              0.3333333333333333,
              "#9c179e"
             ],
             [
              0.4444444444444444,
              "#bd3786"
             ],
             [
              0.5555555555555556,
              "#d8576b"
             ],
             [
              0.6666666666666666,
              "#ed7953"
             ],
             [
              0.7777777777777778,
              "#fb9f3a"
             ],
             [
              0.8888888888888888,
              "#fdca26"
             ],
             [
              1,
              "#f0f921"
             ]
            ],
            "type": "surface"
           }
          ],
          "table": [
           {
            "cells": {
             "fill": {
              "color": "#EBF0F8"
             },
             "line": {
              "color": "white"
             }
            },
            "header": {
             "fill": {
              "color": "#C8D4E3"
             },
             "line": {
              "color": "white"
             }
            },
            "type": "table"
           }
          ]
         },
         "layout": {
          "annotationdefaults": {
           "arrowcolor": "#2a3f5f",
           "arrowhead": 0,
           "arrowwidth": 1
          },
          "autotypenumbers": "strict",
          "coloraxis": {
           "colorbar": {
            "outlinewidth": 0,
            "ticks": ""
           }
          },
          "colorscale": {
           "diverging": [
            [
             0,
             "#8e0152"
            ],
            [
             0.1,
             "#c51b7d"
            ],
            [
             0.2,
             "#de77ae"
            ],
            [
             0.3,
             "#f1b6da"
            ],
            [
             0.4,
             "#fde0ef"
            ],
            [
             0.5,
             "#f7f7f7"
            ],
            [
             0.6,
             "#e6f5d0"
            ],
            [
             0.7,
             "#b8e186"
            ],
            [
             0.8,
             "#7fbc41"
            ],
            [
             0.9,
             "#4d9221"
            ],
            [
             1,
             "#276419"
            ]
           ],
           "sequential": [
            [
             0,
             "#0d0887"
            ],
            [
             0.1111111111111111,
             "#46039f"
            ],
            [
             0.2222222222222222,
             "#7201a8"
            ],
            [
             0.3333333333333333,
             "#9c179e"
            ],
            [
             0.4444444444444444,
             "#bd3786"
            ],
            [
             0.5555555555555556,
             "#d8576b"
            ],
            [
             0.6666666666666666,
             "#ed7953"
            ],
            [
             0.7777777777777778,
             "#fb9f3a"
            ],
            [
             0.8888888888888888,
             "#fdca26"
            ],
            [
             1,
             "#f0f921"
            ]
           ],
           "sequentialminus": [
            [
             0,
             "#0d0887"
            ],
            [
             0.1111111111111111,
             "#46039f"
            ],
            [
             0.2222222222222222,
             "#7201a8"
            ],
            [
             0.3333333333333333,
             "#9c179e"
            ],
            [
             0.4444444444444444,
             "#bd3786"
            ],
            [
             0.5555555555555556,
             "#d8576b"
            ],
            [
             0.6666666666666666,
             "#ed7953"
            ],
            [
             0.7777777777777778,
             "#fb9f3a"
            ],
            [
             0.8888888888888888,
             "#fdca26"
            ],
            [
             1,
             "#f0f921"
            ]
           ]
          },
          "colorway": [
           "#636efa",
           "#EF553B",
           "#00cc96",
           "#ab63fa",
           "#FFA15A",
           "#19d3f3",
           "#FF6692",
           "#B6E880",
           "#FF97FF",
           "#FECB52"
          ],
          "font": {
           "color": "#2a3f5f"
          },
          "geo": {
           "bgcolor": "white",
           "lakecolor": "white",
           "landcolor": "#E5ECF6",
           "showlakes": true,
           "showland": true,
           "subunitcolor": "white"
          },
          "hoverlabel": {
           "align": "left"
          },
          "hovermode": "closest",
          "mapbox": {
           "style": "light"
          },
          "paper_bgcolor": "white",
          "plot_bgcolor": "#E5ECF6",
          "polar": {
           "angularaxis": {
            "gridcolor": "white",
            "linecolor": "white",
            "ticks": ""
           },
           "bgcolor": "#E5ECF6",
           "radialaxis": {
            "gridcolor": "white",
            "linecolor": "white",
            "ticks": ""
           }
          },
          "scene": {
           "xaxis": {
            "backgroundcolor": "#E5ECF6",
            "gridcolor": "white",
            "gridwidth": 2,
            "linecolor": "white",
            "showbackground": true,
            "ticks": "",
            "zerolinecolor": "white"
           },
           "yaxis": {
            "backgroundcolor": "#E5ECF6",
            "gridcolor": "white",
            "gridwidth": 2,
            "linecolor": "white",
            "showbackground": true,
            "ticks": "",
            "zerolinecolor": "white"
           },
           "zaxis": {
            "backgroundcolor": "#E5ECF6",
            "gridcolor": "white",
            "gridwidth": 2,
            "linecolor": "white",
            "showbackground": true,
            "ticks": "",
            "zerolinecolor": "white"
           }
          },
          "shapedefaults": {
           "line": {
            "color": "#2a3f5f"
           }
          },
          "ternary": {
           "aaxis": {
            "gridcolor": "white",
            "linecolor": "white",
            "ticks": ""
           },
           "baxis": {
            "gridcolor": "white",
            "linecolor": "white",
            "ticks": ""
           },
           "bgcolor": "#E5ECF6",
           "caxis": {
            "gridcolor": "white",
            "linecolor": "white",
            "ticks": ""
           }
          },
          "title": {
           "x": 0.05
          },
          "xaxis": {
           "automargin": true,
           "gridcolor": "white",
           "linecolor": "white",
           "ticks": "",
           "title": {
            "standoff": 15
           },
           "zerolinecolor": "white",
           "zerolinewidth": 2
          },
          "yaxis": {
           "automargin": true,
           "gridcolor": "white",
           "linecolor": "white",
           "ticks": "",
           "title": {
            "standoff": 15
           },
           "zerolinecolor": "white",
           "zerolinewidth": 2
          }
         }
        }
       }
      }
     },
     "metadata": {},
     "output_type": "display_data"
    },
    {
     "data": {
      "text/html": [
       "<div>\n",
       "<style scoped>\n",
       "    .dataframe tbody tr th:only-of-type {\n",
       "        vertical-align: middle;\n",
       "    }\n",
       "\n",
       "    .dataframe tbody tr th {\n",
       "        vertical-align: top;\n",
       "    }\n",
       "\n",
       "    .dataframe thead th {\n",
       "        text-align: right;\n",
       "    }\n",
       "</style>\n",
       "<table border=\"1\" class=\"dataframe\">\n",
       "  <thead>\n",
       "    <tr style=\"text-align: right;\">\n",
       "      <th></th>\n",
       "      <th>Hours</th>\n",
       "      <th>Voc_r</th>\n",
       "      <th>Jsc_r</th>\n",
       "      <th>FF_r</th>\n",
       "      <th>PCE_r</th>\n",
       "      <th>Voc_f</th>\n",
       "      <th>Jsc_f</th>\n",
       "      <th>FF_f</th>\n",
       "      <th>PCE_f</th>\n",
       "    </tr>\n",
       "  </thead>\n",
       "  <tbody>\n",
       "    <tr>\n",
       "      <th>0</th>\n",
       "      <td>0.0</td>\n",
       "      <td>1.759376</td>\n",
       "      <td>16.814458</td>\n",
       "      <td>0.807146</td>\n",
       "      <td>23.877771</td>\n",
       "      <td>1.743004</td>\n",
       "      <td>17.050903</td>\n",
       "      <td>0.754962</td>\n",
       "      <td>22.437312</td>\n",
       "    </tr>\n",
       "    <tr>\n",
       "      <th>1</th>\n",
       "      <td>48.0</td>\n",
       "      <td>1.659555</td>\n",
       "      <td>16.284139</td>\n",
       "      <td>0.701325</td>\n",
       "      <td>18.952894</td>\n",
       "      <td>1.645639</td>\n",
       "      <td>16.316631</td>\n",
       "      <td>0.667397</td>\n",
       "      <td>17.920473</td>\n",
       "    </tr>\n",
       "    <tr>\n",
       "      <th>2</th>\n",
       "      <td>120.0</td>\n",
       "      <td>1.670297</td>\n",
       "      <td>17.207270</td>\n",
       "      <td>0.674045</td>\n",
       "      <td>19.372901</td>\n",
       "      <td>1.646978</td>\n",
       "      <td>17.256015</td>\n",
       "      <td>0.617171</td>\n",
       "      <td>17.540158</td>\n",
       "    </tr>\n",
       "    <tr>\n",
       "      <th>3</th>\n",
       "      <td>168.0</td>\n",
       "      <td>1.664784</td>\n",
       "      <td>15.659214</td>\n",
       "      <td>0.689722</td>\n",
       "      <td>17.980495</td>\n",
       "      <td>1.642108</td>\n",
       "      <td>15.860533</td>\n",
       "      <td>0.609773</td>\n",
       "      <td>15.881352</td>\n",
       "    </tr>\n",
       "    <tr>\n",
       "      <th>4</th>\n",
       "      <td>264.0</td>\n",
       "      <td>1.606339</td>\n",
       "      <td>13.005556</td>\n",
       "      <td>0.705254</td>\n",
       "      <td>14.733698</td>\n",
       "      <td>1.579043</td>\n",
       "      <td>15.531536</td>\n",
       "      <td>0.373707</td>\n",
       "      <td>9.165160</td>\n",
       "    </tr>\n",
       "    <tr>\n",
       "      <th>5</th>\n",
       "      <td>312.0</td>\n",
       "      <td>1.649759</td>\n",
       "      <td>15.591527</td>\n",
       "      <td>0.592788</td>\n",
       "      <td>15.247855</td>\n",
       "      <td>1.632491</td>\n",
       "      <td>15.741199</td>\n",
       "      <td>0.436352</td>\n",
       "      <td>11.213093</td>\n",
       "    </tr>\n",
       "  </tbody>\n",
       "</table>\n",
       "</div>"
      ],
      "text/plain": [
       "   Hours     Voc_r      Jsc_r      FF_r      PCE_r     Voc_f      Jsc_f  \\\n",
       "0    0.0  1.759376  16.814458  0.807146  23.877771  1.743004  17.050903   \n",
       "1   48.0  1.659555  16.284139  0.701325  18.952894  1.645639  16.316631   \n",
       "2  120.0  1.670297  17.207270  0.674045  19.372901  1.646978  17.256015   \n",
       "3  168.0  1.664784  15.659214  0.689722  17.980495  1.642108  15.860533   \n",
       "4  264.0  1.606339  13.005556  0.705254  14.733698  1.579043  15.531536   \n",
       "5  312.0  1.649759  15.591527  0.592788  15.247855  1.632491  15.741199   \n",
       "\n",
       "       FF_f      PCE_f  \n",
       "0  0.754962  22.437312  \n",
       "1  0.667397  17.920473  \n",
       "2  0.617171  17.540158  \n",
       "3  0.609773  15.881352  \n",
       "4  0.373707   9.165160  \n",
       "5  0.436352  11.213093  "
      ]
     },
     "metadata": {},
     "output_type": "display_data"
    },
    {
     "data": {
      "application/vnd.plotly.v1+json": {
       "config": {
        "plotlyServerURL": "https://plot.ly"
       },
       "data": [
        {
         "name": "0.0",
         "r": [
          1,
          1,
          1,
          1,
          1,
          1,
          1,
          1
         ],
         "theta": [
          "Voc_r",
          "Jsc_r",
          "FF_r",
          "PCE_r",
          "Voc_f",
          "Jsc_f",
          "FF_f",
          "PCE_f"
         ],
         "type": "scatterpolar"
        },
        {
         "name": "48.0",
         "r": [
          0.9432998825747861,
          1.295815709898893,
          0.569831721983482,
          0.6965297065590629,
          0.9278533964807489,
          1.2943662785553567,
          0.5721351798618353,
          0.6871241371697171
         ],
         "theta": [
          "Voc_r",
          "Jsc_r",
          "FF_r",
          "PCE_r",
          "Voc_f",
          "Jsc_f",
          "FF_f",
          "PCE_f"
         ],
         "type": "scatterpolar"
        },
        {
         "name": "120.0",
         "r": [
          0.9602011123305237,
          1.136290996347011,
          1.136887361437598,
          1.2404212816776552,
          0.9624133776855517,
          1.1244138516687423,
          1.1718685634359591,
          1.268138659159502
         ],
         "theta": [
          "Voc_r",
          "Jsc_r",
          "FF_r",
          "PCE_r",
          "Voc_f",
          "Jsc_f",
          "FF_f",
          "PCE_f"
         ],
         "type": "scatterpolar"
        },
        {
         "name": "168.0",
         "r": [
          0.9775118154153919,
          1.1710683253266716,
          1.1422929004583575,
          1.3076205212249552,
          0.9750020879996901,
          1.1601015618326949,
          1.1769366342411962,
          1.3312347277561365
         ],
         "theta": [
          "Voc_r",
          "Jsc_r",
          "FF_r",
          "PCE_r",
          "Voc_f",
          "Jsc_f",
          "FF_f",
          "PCE_f"
         ],
         "type": "scatterpolar"
        },
        {
         "name": "216.0",
         "r": [
          0.9831094474652183,
          0.8525581061346382,
          1.2016696188584965,
          1.0071889186688996,
          0.9785863552470871,
          0.9374615420207064,
          1.102237363091633,
          1.0111783089285853
         ],
         "theta": [
          "Voc_r",
          "Jsc_r",
          "FF_r",
          "PCE_r",
          "Voc_f",
          "Jsc_f",
          "FF_f",
          "PCE_f"
         ],
         "type": "scatterpolar"
        }
       ],
       "layout": {
        "height": 600,
        "polar": {
         "radialaxis": {
          "title": {
           "font": {
            "size": 30
           },
           "text": "damp-heat: Jan19Double"
          },
          "visible": true
         }
        },
        "showlegend": true,
        "template": {
         "data": {
          "bar": [
           {
            "error_x": {
             "color": "#2a3f5f"
            },
            "error_y": {
             "color": "#2a3f5f"
            },
            "marker": {
             "line": {
              "color": "#E5ECF6",
              "width": 0.5
             },
             "pattern": {
              "fillmode": "overlay",
              "size": 10,
              "solidity": 0.2
             }
            },
            "type": "bar"
           }
          ],
          "barpolar": [
           {
            "marker": {
             "line": {
              "color": "#E5ECF6",
              "width": 0.5
             },
             "pattern": {
              "fillmode": "overlay",
              "size": 10,
              "solidity": 0.2
             }
            },
            "type": "barpolar"
           }
          ],
          "carpet": [
           {
            "aaxis": {
             "endlinecolor": "#2a3f5f",
             "gridcolor": "white",
             "linecolor": "white",
             "minorgridcolor": "white",
             "startlinecolor": "#2a3f5f"
            },
            "baxis": {
             "endlinecolor": "#2a3f5f",
             "gridcolor": "white",
             "linecolor": "white",
             "minorgridcolor": "white",
             "startlinecolor": "#2a3f5f"
            },
            "type": "carpet"
           }
          ],
          "choropleth": [
           {
            "colorbar": {
             "outlinewidth": 0,
             "ticks": ""
            },
            "type": "choropleth"
           }
          ],
          "contour": [
           {
            "colorbar": {
             "outlinewidth": 0,
             "ticks": ""
            },
            "colorscale": [
             [
              0,
              "#0d0887"
             ],
             [
              0.1111111111111111,
              "#46039f"
             ],
             [
              0.2222222222222222,
              "#7201a8"
             ],
             [
              0.3333333333333333,
              "#9c179e"
             ],
             [
              0.4444444444444444,
              "#bd3786"
             ],
             [
              0.5555555555555556,
              "#d8576b"
             ],
             [
              0.6666666666666666,
              "#ed7953"
             ],
             [
              0.7777777777777778,
              "#fb9f3a"
             ],
             [
              0.8888888888888888,
              "#fdca26"
             ],
             [
              1,
              "#f0f921"
             ]
            ],
            "type": "contour"
           }
          ],
          "contourcarpet": [
           {
            "colorbar": {
             "outlinewidth": 0,
             "ticks": ""
            },
            "type": "contourcarpet"
           }
          ],
          "heatmap": [
           {
            "colorbar": {
             "outlinewidth": 0,
             "ticks": ""
            },
            "colorscale": [
             [
              0,
              "#0d0887"
             ],
             [
              0.1111111111111111,
              "#46039f"
             ],
             [
              0.2222222222222222,
              "#7201a8"
             ],
             [
              0.3333333333333333,
              "#9c179e"
             ],
             [
              0.4444444444444444,
              "#bd3786"
             ],
             [
              0.5555555555555556,
              "#d8576b"
             ],
             [
              0.6666666666666666,
              "#ed7953"
             ],
             [
              0.7777777777777778,
              "#fb9f3a"
             ],
             [
              0.8888888888888888,
              "#fdca26"
             ],
             [
              1,
              "#f0f921"
             ]
            ],
            "type": "heatmap"
           }
          ],
          "heatmapgl": [
           {
            "colorbar": {
             "outlinewidth": 0,
             "ticks": ""
            },
            "colorscale": [
             [
              0,
              "#0d0887"
             ],
             [
              0.1111111111111111,
              "#46039f"
             ],
             [
              0.2222222222222222,
              "#7201a8"
             ],
             [
              0.3333333333333333,
              "#9c179e"
             ],
             [
              0.4444444444444444,
              "#bd3786"
             ],
             [
              0.5555555555555556,
              "#d8576b"
             ],
             [
              0.6666666666666666,
              "#ed7953"
             ],
             [
              0.7777777777777778,
              "#fb9f3a"
             ],
             [
              0.8888888888888888,
              "#fdca26"
             ],
             [
              1,
              "#f0f921"
             ]
            ],
            "type": "heatmapgl"
           }
          ],
          "histogram": [
           {
            "marker": {
             "pattern": {
              "fillmode": "overlay",
              "size": 10,
              "solidity": 0.2
             }
            },
            "type": "histogram"
           }
          ],
          "histogram2d": [
           {
            "colorbar": {
             "outlinewidth": 0,
             "ticks": ""
            },
            "colorscale": [
             [
              0,
              "#0d0887"
             ],
             [
              0.1111111111111111,
              "#46039f"
             ],
             [
              0.2222222222222222,
              "#7201a8"
             ],
             [
              0.3333333333333333,
              "#9c179e"
             ],
             [
              0.4444444444444444,
              "#bd3786"
             ],
             [
              0.5555555555555556,
              "#d8576b"
             ],
             [
              0.6666666666666666,
              "#ed7953"
             ],
             [
              0.7777777777777778,
              "#fb9f3a"
             ],
             [
              0.8888888888888888,
              "#fdca26"
             ],
             [
              1,
              "#f0f921"
             ]
            ],
            "type": "histogram2d"
           }
          ],
          "histogram2dcontour": [
           {
            "colorbar": {
             "outlinewidth": 0,
             "ticks": ""
            },
            "colorscale": [
             [
              0,
              "#0d0887"
             ],
             [
              0.1111111111111111,
              "#46039f"
             ],
             [
              0.2222222222222222,
              "#7201a8"
             ],
             [
              0.3333333333333333,
              "#9c179e"
             ],
             [
              0.4444444444444444,
              "#bd3786"
             ],
             [
              0.5555555555555556,
              "#d8576b"
             ],
             [
              0.6666666666666666,
              "#ed7953"
             ],
             [
              0.7777777777777778,
              "#fb9f3a"
             ],
             [
              0.8888888888888888,
              "#fdca26"
             ],
             [
              1,
              "#f0f921"
             ]
            ],
            "type": "histogram2dcontour"
           }
          ],
          "mesh3d": [
           {
            "colorbar": {
             "outlinewidth": 0,
             "ticks": ""
            },
            "type": "mesh3d"
           }
          ],
          "parcoords": [
           {
            "line": {
             "colorbar": {
              "outlinewidth": 0,
              "ticks": ""
             }
            },
            "type": "parcoords"
           }
          ],
          "pie": [
           {
            "automargin": true,
            "type": "pie"
           }
          ],
          "scatter": [
           {
            "fillpattern": {
             "fillmode": "overlay",
             "size": 10,
             "solidity": 0.2
            },
            "type": "scatter"
           }
          ],
          "scatter3d": [
           {
            "line": {
             "colorbar": {
              "outlinewidth": 0,
              "ticks": ""
             }
            },
            "marker": {
             "colorbar": {
              "outlinewidth": 0,
              "ticks": ""
             }
            },
            "type": "scatter3d"
           }
          ],
          "scattercarpet": [
           {
            "marker": {
             "colorbar": {
              "outlinewidth": 0,
              "ticks": ""
             }
            },
            "type": "scattercarpet"
           }
          ],
          "scattergeo": [
           {
            "marker": {
             "colorbar": {
              "outlinewidth": 0,
              "ticks": ""
             }
            },
            "type": "scattergeo"
           }
          ],
          "scattergl": [
           {
            "marker": {
             "colorbar": {
              "outlinewidth": 0,
              "ticks": ""
             }
            },
            "type": "scattergl"
           }
          ],
          "scattermapbox": [
           {
            "marker": {
             "colorbar": {
              "outlinewidth": 0,
              "ticks": ""
             }
            },
            "type": "scattermapbox"
           }
          ],
          "scatterpolar": [
           {
            "marker": {
             "colorbar": {
              "outlinewidth": 0,
              "ticks": ""
             }
            },
            "type": "scatterpolar"
           }
          ],
          "scatterpolargl": [
           {
            "marker": {
             "colorbar": {
              "outlinewidth": 0,
              "ticks": ""
             }
            },
            "type": "scatterpolargl"
           }
          ],
          "scatterternary": [
           {
            "marker": {
             "colorbar": {
              "outlinewidth": 0,
              "ticks": ""
             }
            },
            "type": "scatterternary"
           }
          ],
          "surface": [
           {
            "colorbar": {
             "outlinewidth": 0,
             "ticks": ""
            },
            "colorscale": [
             [
              0,
              "#0d0887"
             ],
             [
              0.1111111111111111,
              "#46039f"
             ],
             [
              0.2222222222222222,
              "#7201a8"
             ],
             [
              0.3333333333333333,
              "#9c179e"
             ],
             [
              0.4444444444444444,
              "#bd3786"
             ],
             [
              0.5555555555555556,
              "#d8576b"
             ],
             [
              0.6666666666666666,
              "#ed7953"
             ],
             [
              0.7777777777777778,
              "#fb9f3a"
             ],
             [
              0.8888888888888888,
              "#fdca26"
             ],
             [
              1,
              "#f0f921"
             ]
            ],
            "type": "surface"
           }
          ],
          "table": [
           {
            "cells": {
             "fill": {
              "color": "#EBF0F8"
             },
             "line": {
              "color": "white"
             }
            },
            "header": {
             "fill": {
              "color": "#C8D4E3"
             },
             "line": {
              "color": "white"
             }
            },
            "type": "table"
           }
          ]
         },
         "layout": {
          "annotationdefaults": {
           "arrowcolor": "#2a3f5f",
           "arrowhead": 0,
           "arrowwidth": 1
          },
          "autotypenumbers": "strict",
          "coloraxis": {
           "colorbar": {
            "outlinewidth": 0,
            "ticks": ""
           }
          },
          "colorscale": {
           "diverging": [
            [
             0,
             "#8e0152"
            ],
            [
             0.1,
             "#c51b7d"
            ],
            [
             0.2,
             "#de77ae"
            ],
            [
             0.3,
             "#f1b6da"
            ],
            [
             0.4,
             "#fde0ef"
            ],
            [
             0.5,
             "#f7f7f7"
            ],
            [
             0.6,
             "#e6f5d0"
            ],
            [
             0.7,
             "#b8e186"
            ],
            [
             0.8,
             "#7fbc41"
            ],
            [
             0.9,
             "#4d9221"
            ],
            [
             1,
             "#276419"
            ]
           ],
           "sequential": [
            [
             0,
             "#0d0887"
            ],
            [
             0.1111111111111111,
             "#46039f"
            ],
            [
             0.2222222222222222,
             "#7201a8"
            ],
            [
             0.3333333333333333,
             "#9c179e"
            ],
            [
             0.4444444444444444,
             "#bd3786"
            ],
            [
             0.5555555555555556,
             "#d8576b"
            ],
            [
             0.6666666666666666,
             "#ed7953"
            ],
            [
             0.7777777777777778,
             "#fb9f3a"
            ],
            [
             0.8888888888888888,
             "#fdca26"
            ],
            [
             1,
             "#f0f921"
            ]
           ],
           "sequentialminus": [
            [
             0,
             "#0d0887"
            ],
            [
             0.1111111111111111,
             "#46039f"
            ],
            [
             0.2222222222222222,
             "#7201a8"
            ],
            [
             0.3333333333333333,
             "#9c179e"
            ],
            [
             0.4444444444444444,
             "#bd3786"
            ],
            [
             0.5555555555555556,
             "#d8576b"
            ],
            [
             0.6666666666666666,
             "#ed7953"
            ],
            [
             0.7777777777777778,
             "#fb9f3a"
            ],
            [
             0.8888888888888888,
             "#fdca26"
            ],
            [
             1,
             "#f0f921"
            ]
           ]
          },
          "colorway": [
           "#636efa",
           "#EF553B",
           "#00cc96",
           "#ab63fa",
           "#FFA15A",
           "#19d3f3",
           "#FF6692",
           "#B6E880",
           "#FF97FF",
           "#FECB52"
          ],
          "font": {
           "color": "#2a3f5f"
          },
          "geo": {
           "bgcolor": "white",
           "lakecolor": "white",
           "landcolor": "#E5ECF6",
           "showlakes": true,
           "showland": true,
           "subunitcolor": "white"
          },
          "hoverlabel": {
           "align": "left"
          },
          "hovermode": "closest",
          "mapbox": {
           "style": "light"
          },
          "paper_bgcolor": "white",
          "plot_bgcolor": "#E5ECF6",
          "polar": {
           "angularaxis": {
            "gridcolor": "white",
            "linecolor": "white",
            "ticks": ""
           },
           "bgcolor": "#E5ECF6",
           "radialaxis": {
            "gridcolor": "white",
            "linecolor": "white",
            "ticks": ""
           }
          },
          "scene": {
           "xaxis": {
            "backgroundcolor": "#E5ECF6",
            "gridcolor": "white",
            "gridwidth": 2,
            "linecolor": "white",
            "showbackground": true,
            "ticks": "",
            "zerolinecolor": "white"
           },
           "yaxis": {
            "backgroundcolor": "#E5ECF6",
            "gridcolor": "white",
            "gridwidth": 2,
            "linecolor": "white",
            "showbackground": true,
            "ticks": "",
            "zerolinecolor": "white"
           },
           "zaxis": {
            "backgroundcolor": "#E5ECF6",
            "gridcolor": "white",
            "gridwidth": 2,
            "linecolor": "white",
            "showbackground": true,
            "ticks": "",
            "zerolinecolor": "white"
           }
          },
          "shapedefaults": {
           "line": {
            "color": "#2a3f5f"
           }
          },
          "ternary": {
           "aaxis": {
            "gridcolor": "white",
            "linecolor": "white",
            "ticks": ""
           },
           "baxis": {
            "gridcolor": "white",
            "linecolor": "white",
            "ticks": ""
           },
           "bgcolor": "#E5ECF6",
           "caxis": {
            "gridcolor": "white",
            "linecolor": "white",
            "ticks": ""
           }
          },
          "title": {
           "x": 0.05
          },
          "xaxis": {
           "automargin": true,
           "gridcolor": "white",
           "linecolor": "white",
           "ticks": "",
           "title": {
            "standoff": 15
           },
           "zerolinecolor": "white",
           "zerolinewidth": 2
          },
          "yaxis": {
           "automargin": true,
           "gridcolor": "white",
           "linecolor": "white",
           "ticks": "",
           "title": {
            "standoff": 15
           },
           "zerolinecolor": "white",
           "zerolinewidth": 2
          }
         }
        }
       }
      }
     },
     "metadata": {},
     "output_type": "display_data"
    },
    {
     "data": {
      "text/html": [
       "<div>\n",
       "<style scoped>\n",
       "    .dataframe tbody tr th:only-of-type {\n",
       "        vertical-align: middle;\n",
       "    }\n",
       "\n",
       "    .dataframe tbody tr th {\n",
       "        vertical-align: top;\n",
       "    }\n",
       "\n",
       "    .dataframe thead th {\n",
       "        text-align: right;\n",
       "    }\n",
       "</style>\n",
       "<table border=\"1\" class=\"dataframe\">\n",
       "  <thead>\n",
       "    <tr style=\"text-align: right;\">\n",
       "      <th></th>\n",
       "      <th>Hours</th>\n",
       "      <th>Voc_r</th>\n",
       "      <th>Jsc_r</th>\n",
       "      <th>FF_r</th>\n",
       "      <th>PCE_r</th>\n",
       "      <th>Voc_f</th>\n",
       "      <th>Jsc_f</th>\n",
       "      <th>FF_f</th>\n",
       "      <th>PCE_f</th>\n",
       "    </tr>\n",
       "  </thead>\n",
       "  <tbody>\n",
       "    <tr>\n",
       "      <th>0</th>\n",
       "      <td>0.0</td>\n",
       "      <td>1.781712</td>\n",
       "      <td>15.796142</td>\n",
       "      <td>0.621914</td>\n",
       "      <td>17.503258</td>\n",
       "      <td>1.782985</td>\n",
       "      <td>15.897106</td>\n",
       "      <td>0.603632</td>\n",
       "      <td>17.109544</td>\n",
       "    </tr>\n",
       "    <tr>\n",
       "      <th>1</th>\n",
       "      <td>48.0</td>\n",
       "      <td>1.680688</td>\n",
       "      <td>20.468889</td>\n",
       "      <td>0.354386</td>\n",
       "      <td>12.191539</td>\n",
       "      <td>1.654349</td>\n",
       "      <td>20.576678</td>\n",
       "      <td>0.345359</td>\n",
       "      <td>11.756381</td>\n",
       "    </tr>\n",
       "    <tr>\n",
       "      <th>2</th>\n",
       "      <td>120.0</td>\n",
       "      <td>1.710801</td>\n",
       "      <td>17.949014</td>\n",
       "      <td>0.707046</td>\n",
       "      <td>21.711414</td>\n",
       "      <td>1.715969</td>\n",
       "      <td>17.874926</td>\n",
       "      <td>0.707378</td>\n",
       "      <td>21.697274</td>\n",
       "    </tr>\n",
       "    <tr>\n",
       "      <th>3</th>\n",
       "      <td>168.0</td>\n",
       "      <td>1.741644</td>\n",
       "      <td>18.498361</td>\n",
       "      <td>0.710408</td>\n",
       "      <td>22.887620</td>\n",
       "      <td>1.738414</td>\n",
       "      <td>18.442258</td>\n",
       "      <td>0.710437</td>\n",
       "      <td>22.776819</td>\n",
       "    </tr>\n",
       "    <tr>\n",
       "      <th>4</th>\n",
       "      <td>216.0</td>\n",
       "      <td>1.751617</td>\n",
       "      <td>13.467129</td>\n",
       "      <td>0.747335</td>\n",
       "      <td>17.629088</td>\n",
       "      <td>1.744805</td>\n",
       "      <td>14.902926</td>\n",
       "      <td>0.665346</td>\n",
       "      <td>17.300800</td>\n",
       "    </tr>\n",
       "  </tbody>\n",
       "</table>\n",
       "</div>"
      ],
      "text/plain": [
       "   Hours     Voc_r      Jsc_r      FF_r      PCE_r     Voc_f      Jsc_f  \\\n",
       "0    0.0  1.781712  15.796142  0.621914  17.503258  1.782985  15.897106   \n",
       "1   48.0  1.680688  20.468889  0.354386  12.191539  1.654349  20.576678   \n",
       "2  120.0  1.710801  17.949014  0.707046  21.711414  1.715969  17.874926   \n",
       "3  168.0  1.741644  18.498361  0.710408  22.887620  1.738414  18.442258   \n",
       "4  216.0  1.751617  13.467129  0.747335  17.629088  1.744805  14.902926   \n",
       "\n",
       "       FF_f      PCE_f  \n",
       "0  0.603632  17.109544  \n",
       "1  0.345359  11.756381  \n",
       "2  0.707378  21.697274  \n",
       "3  0.710437  22.776819  \n",
       "4  0.665346  17.300800  "
      ]
     },
     "metadata": {},
     "output_type": "display_data"
    },
    {
     "data": {
      "application/vnd.plotly.v1+json": {
       "config": {
        "plotlyServerURL": "https://plot.ly"
       },
       "data": [
        {
         "name": "0.0",
         "r": [
          1,
          1,
          1,
          1,
          1,
          1,
          1,
          1
         ],
         "theta": [
          "Voc_r",
          "Jsc_r",
          "FF_r",
          "PCE_r",
          "Voc_f",
          "Jsc_f",
          "FF_f",
          "PCE_f"
         ],
         "type": "scatterpolar"
        },
        {
         "name": "138.0",
         "r": [
          0.9914934332982375,
          0.9859376280231036,
          0.9710523912893215,
          0.9492529291362802,
          0.9923431367395772,
          0.9847945845826778,
          0.9744140484957312,
          0.9522501698936487
         ],
         "theta": [
          "Voc_r",
          "Jsc_r",
          "FF_r",
          "PCE_r",
          "Voc_f",
          "Jsc_f",
          "FF_f",
          "PCE_f"
         ],
         "type": "scatterpolar"
        },
        {
         "name": "204.0",
         "r": [
          1.005327864690786,
          0.9634019416936789,
          0.9998059171536787,
          0.9683468408878414,
          1.0054920602905486,
          0.9622212398807405,
          1.0020122469511303,
          0.9694526775733564
         ],
         "theta": [
          "Voc_r",
          "Jsc_r",
          "FF_r",
          "PCE_r",
          "Voc_f",
          "Jsc_f",
          "FF_f",
          "PCE_f"
         ],
         "type": "scatterpolar"
        },
        {
         "name": "276.0",
         "r": [
          1.0009787013060643,
          1.004309085219439,
          0.9928357293879833,
          0.9980898198732805,
          0.9937096499604616,
          0.9986554945858043,
          0.9917077910871264,
          0.9841446327289115
         ],
         "theta": [
          "Voc_r",
          "Jsc_r",
          "FF_r",
          "PCE_r",
          "Voc_f",
          "Jsc_f",
          "FF_f",
          "PCE_f"
         ],
         "type": "scatterpolar"
        },
        {
         "name": "324.0",
         "r": [
          0.9976436025085645,
          0.9908294536649439,
          0.9931002096783825,
          0.9816742596990313,
          0.999136091242415,
          0.9859906814669315,
          0.9986736681200372,
          0.9838322543855719
         ],
         "theta": [
          "Voc_r",
          "Jsc_r",
          "FF_r",
          "PCE_r",
          "Voc_f",
          "Jsc_f",
          "FF_f",
          "PCE_f"
         ],
         "type": "scatterpolar"
        },
        {
         "name": "372.0",
         "r": [
          1.0035318074993143,
          0.9595726171611907,
          0.9947140208377955,
          0.9578714477481048,
          1.0026004998368887,
          0.9565288349153811,
          0.9978169121517636,
          0.9569226711899761
         ],
         "theta": [
          "Voc_r",
          "Jsc_r",
          "FF_r",
          "PCE_r",
          "Voc_f",
          "Jsc_f",
          "FF_f",
          "PCE_f"
         ],
         "type": "scatterpolar"
        },
        {
         "name": "420.0",
         "r": [
          0.9992889358328126,
          0.983325831439619,
          0.9880805325651935,
          0.9709142376347302,
          0.9971103018739949,
          0.9817318703938946,
          0.9941175716508347,
          0.9731366821745259
         ],
         "theta": [
          "Voc_r",
          "Jsc_r",
          "FF_r",
          "PCE_r",
          "Voc_f",
          "Jsc_f",
          "FF_f",
          "PCE_f"
         ],
         "type": "scatterpolar"
        },
        {
         "name": "468.0",
         "r": [
          1.0019804588242376,
          0.9771062808884923,
          0.9909605181848344,
          0.9701913727163134,
          0.9985840325432012,
          0.9727044176365303,
          0.9944905368494618,
          0.9659756089724064
         ],
         "theta": [
          "Voc_r",
          "Jsc_r",
          "FF_r",
          "PCE_r",
          "Voc_f",
          "Jsc_f",
          "FF_f",
          "PCE_f"
         ],
         "type": "scatterpolar"
        }
       ],
       "layout": {
        "height": 600,
        "polar": {
         "radialaxis": {
          "title": {
           "font": {
            "size": 30
           },
           "text": "damp-heat: silicon_The"
          },
          "visible": true
         }
        },
        "showlegend": true,
        "template": {
         "data": {
          "bar": [
           {
            "error_x": {
             "color": "#2a3f5f"
            },
            "error_y": {
             "color": "#2a3f5f"
            },
            "marker": {
             "line": {
              "color": "#E5ECF6",
              "width": 0.5
             },
             "pattern": {
              "fillmode": "overlay",
              "size": 10,
              "solidity": 0.2
             }
            },
            "type": "bar"
           }
          ],
          "barpolar": [
           {
            "marker": {
             "line": {
              "color": "#E5ECF6",
              "width": 0.5
             },
             "pattern": {
              "fillmode": "overlay",
              "size": 10,
              "solidity": 0.2
             }
            },
            "type": "barpolar"
           }
          ],
          "carpet": [
           {
            "aaxis": {
             "endlinecolor": "#2a3f5f",
             "gridcolor": "white",
             "linecolor": "white",
             "minorgridcolor": "white",
             "startlinecolor": "#2a3f5f"
            },
            "baxis": {
             "endlinecolor": "#2a3f5f",
             "gridcolor": "white",
             "linecolor": "white",
             "minorgridcolor": "white",
             "startlinecolor": "#2a3f5f"
            },
            "type": "carpet"
           }
          ],
          "choropleth": [
           {
            "colorbar": {
             "outlinewidth": 0,
             "ticks": ""
            },
            "type": "choropleth"
           }
          ],
          "contour": [
           {
            "colorbar": {
             "outlinewidth": 0,
             "ticks": ""
            },
            "colorscale": [
             [
              0,
              "#0d0887"
             ],
             [
              0.1111111111111111,
              "#46039f"
             ],
             [
              0.2222222222222222,
              "#7201a8"
             ],
             [
              0.3333333333333333,
              "#9c179e"
             ],
             [
              0.4444444444444444,
              "#bd3786"
             ],
             [
              0.5555555555555556,
              "#d8576b"
             ],
             [
              0.6666666666666666,
              "#ed7953"
             ],
             [
              0.7777777777777778,
              "#fb9f3a"
             ],
             [
              0.8888888888888888,
              "#fdca26"
             ],
             [
              1,
              "#f0f921"
             ]
            ],
            "type": "contour"
           }
          ],
          "contourcarpet": [
           {
            "colorbar": {
             "outlinewidth": 0,
             "ticks": ""
            },
            "type": "contourcarpet"
           }
          ],
          "heatmap": [
           {
            "colorbar": {
             "outlinewidth": 0,
             "ticks": ""
            },
            "colorscale": [
             [
              0,
              "#0d0887"
             ],
             [
              0.1111111111111111,
              "#46039f"
             ],
             [
              0.2222222222222222,
              "#7201a8"
             ],
             [
              0.3333333333333333,
              "#9c179e"
             ],
             [
              0.4444444444444444,
              "#bd3786"
             ],
             [
              0.5555555555555556,
              "#d8576b"
             ],
             [
              0.6666666666666666,
              "#ed7953"
             ],
             [
              0.7777777777777778,
              "#fb9f3a"
             ],
             [
              0.8888888888888888,
              "#fdca26"
             ],
             [
              1,
              "#f0f921"
             ]
            ],
            "type": "heatmap"
           }
          ],
          "heatmapgl": [
           {
            "colorbar": {
             "outlinewidth": 0,
             "ticks": ""
            },
            "colorscale": [
             [
              0,
              "#0d0887"
             ],
             [
              0.1111111111111111,
              "#46039f"
             ],
             [
              0.2222222222222222,
              "#7201a8"
             ],
             [
              0.3333333333333333,
              "#9c179e"
             ],
             [
              0.4444444444444444,
              "#bd3786"
             ],
             [
              0.5555555555555556,
              "#d8576b"
             ],
             [
              0.6666666666666666,
              "#ed7953"
             ],
             [
              0.7777777777777778,
              "#fb9f3a"
             ],
             [
              0.8888888888888888,
              "#fdca26"
             ],
             [
              1,
              "#f0f921"
             ]
            ],
            "type": "heatmapgl"
           }
          ],
          "histogram": [
           {
            "marker": {
             "pattern": {
              "fillmode": "overlay",
              "size": 10,
              "solidity": 0.2
             }
            },
            "type": "histogram"
           }
          ],
          "histogram2d": [
           {
            "colorbar": {
             "outlinewidth": 0,
             "ticks": ""
            },
            "colorscale": [
             [
              0,
              "#0d0887"
             ],
             [
              0.1111111111111111,
              "#46039f"
             ],
             [
              0.2222222222222222,
              "#7201a8"
             ],
             [
              0.3333333333333333,
              "#9c179e"
             ],
             [
              0.4444444444444444,
              "#bd3786"
             ],
             [
              0.5555555555555556,
              "#d8576b"
             ],
             [
              0.6666666666666666,
              "#ed7953"
             ],
             [
              0.7777777777777778,
              "#fb9f3a"
             ],
             [
              0.8888888888888888,
              "#fdca26"
             ],
             [
              1,
              "#f0f921"
             ]
            ],
            "type": "histogram2d"
           }
          ],
          "histogram2dcontour": [
           {
            "colorbar": {
             "outlinewidth": 0,
             "ticks": ""
            },
            "colorscale": [
             [
              0,
              "#0d0887"
             ],
             [
              0.1111111111111111,
              "#46039f"
             ],
             [
              0.2222222222222222,
              "#7201a8"
             ],
             [
              0.3333333333333333,
              "#9c179e"
             ],
             [
              0.4444444444444444,
              "#bd3786"
             ],
             [
              0.5555555555555556,
              "#d8576b"
             ],
             [
              0.6666666666666666,
              "#ed7953"
             ],
             [
              0.7777777777777778,
              "#fb9f3a"
             ],
             [
              0.8888888888888888,
              "#fdca26"
             ],
             [
              1,
              "#f0f921"
             ]
            ],
            "type": "histogram2dcontour"
           }
          ],
          "mesh3d": [
           {
            "colorbar": {
             "outlinewidth": 0,
             "ticks": ""
            },
            "type": "mesh3d"
           }
          ],
          "parcoords": [
           {
            "line": {
             "colorbar": {
              "outlinewidth": 0,
              "ticks": ""
             }
            },
            "type": "parcoords"
           }
          ],
          "pie": [
           {
            "automargin": true,
            "type": "pie"
           }
          ],
          "scatter": [
           {
            "fillpattern": {
             "fillmode": "overlay",
             "size": 10,
             "solidity": 0.2
            },
            "type": "scatter"
           }
          ],
          "scatter3d": [
           {
            "line": {
             "colorbar": {
              "outlinewidth": 0,
              "ticks": ""
             }
            },
            "marker": {
             "colorbar": {
              "outlinewidth": 0,
              "ticks": ""
             }
            },
            "type": "scatter3d"
           }
          ],
          "scattercarpet": [
           {
            "marker": {
             "colorbar": {
              "outlinewidth": 0,
              "ticks": ""
             }
            },
            "type": "scattercarpet"
           }
          ],
          "scattergeo": [
           {
            "marker": {
             "colorbar": {
              "outlinewidth": 0,
              "ticks": ""
             }
            },
            "type": "scattergeo"
           }
          ],
          "scattergl": [
           {
            "marker": {
             "colorbar": {
              "outlinewidth": 0,
              "ticks": ""
             }
            },
            "type": "scattergl"
           }
          ],
          "scattermapbox": [
           {
            "marker": {
             "colorbar": {
              "outlinewidth": 0,
              "ticks": ""
             }
            },
            "type": "scattermapbox"
           }
          ],
          "scatterpolar": [
           {
            "marker": {
             "colorbar": {
              "outlinewidth": 0,
              "ticks": ""
             }
            },
            "type": "scatterpolar"
           }
          ],
          "scatterpolargl": [
           {
            "marker": {
             "colorbar": {
              "outlinewidth": 0,
              "ticks": ""
             }
            },
            "type": "scatterpolargl"
           }
          ],
          "scatterternary": [
           {
            "marker": {
             "colorbar": {
              "outlinewidth": 0,
              "ticks": ""
             }
            },
            "type": "scatterternary"
           }
          ],
          "surface": [
           {
            "colorbar": {
             "outlinewidth": 0,
             "ticks": ""
            },
            "colorscale": [
             [
              0,
              "#0d0887"
             ],
             [
              0.1111111111111111,
              "#46039f"
             ],
             [
              0.2222222222222222,
              "#7201a8"
             ],
             [
              0.3333333333333333,
              "#9c179e"
             ],
             [
              0.4444444444444444,
              "#bd3786"
             ],
             [
              0.5555555555555556,
              "#d8576b"
             ],
             [
              0.6666666666666666,
              "#ed7953"
             ],
             [
              0.7777777777777778,
              "#fb9f3a"
             ],
             [
              0.8888888888888888,
              "#fdca26"
             ],
             [
              1,
              "#f0f921"
             ]
            ],
            "type": "surface"
           }
          ],
          "table": [
           {
            "cells": {
             "fill": {
              "color": "#EBF0F8"
             },
             "line": {
              "color": "white"
             }
            },
            "header": {
             "fill": {
              "color": "#C8D4E3"
             },
             "line": {
              "color": "white"
             }
            },
            "type": "table"
           }
          ]
         },
         "layout": {
          "annotationdefaults": {
           "arrowcolor": "#2a3f5f",
           "arrowhead": 0,
           "arrowwidth": 1
          },
          "autotypenumbers": "strict",
          "coloraxis": {
           "colorbar": {
            "outlinewidth": 0,
            "ticks": ""
           }
          },
          "colorscale": {
           "diverging": [
            [
             0,
             "#8e0152"
            ],
            [
             0.1,
             "#c51b7d"
            ],
            [
             0.2,
             "#de77ae"
            ],
            [
             0.3,
             "#f1b6da"
            ],
            [
             0.4,
             "#fde0ef"
            ],
            [
             0.5,
             "#f7f7f7"
            ],
            [
             0.6,
             "#e6f5d0"
            ],
            [
             0.7,
             "#b8e186"
            ],
            [
             0.8,
             "#7fbc41"
            ],
            [
             0.9,
             "#4d9221"
            ],
            [
             1,
             "#276419"
            ]
           ],
           "sequential": [
            [
             0,
             "#0d0887"
            ],
            [
             0.1111111111111111,
             "#46039f"
            ],
            [
             0.2222222222222222,
             "#7201a8"
            ],
            [
             0.3333333333333333,
             "#9c179e"
            ],
            [
             0.4444444444444444,
             "#bd3786"
            ],
            [
             0.5555555555555556,
             "#d8576b"
            ],
            [
             0.6666666666666666,
             "#ed7953"
            ],
            [
             0.7777777777777778,
             "#fb9f3a"
            ],
            [
             0.8888888888888888,
             "#fdca26"
            ],
            [
             1,
             "#f0f921"
            ]
           ],
           "sequentialminus": [
            [
             0,
             "#0d0887"
            ],
            [
             0.1111111111111111,
             "#46039f"
            ],
            [
             0.2222222222222222,
             "#7201a8"
            ],
            [
             0.3333333333333333,
             "#9c179e"
            ],
            [
             0.4444444444444444,
             "#bd3786"
            ],
            [
             0.5555555555555556,
             "#d8576b"
            ],
            [
             0.6666666666666666,
             "#ed7953"
            ],
            [
             0.7777777777777778,
             "#fb9f3a"
            ],
            [
             0.8888888888888888,
             "#fdca26"
            ],
            [
             1,
             "#f0f921"
            ]
           ]
          },
          "colorway": [
           "#636efa",
           "#EF553B",
           "#00cc96",
           "#ab63fa",
           "#FFA15A",
           "#19d3f3",
           "#FF6692",
           "#B6E880",
           "#FF97FF",
           "#FECB52"
          ],
          "font": {
           "color": "#2a3f5f"
          },
          "geo": {
           "bgcolor": "white",
           "lakecolor": "white",
           "landcolor": "#E5ECF6",
           "showlakes": true,
           "showland": true,
           "subunitcolor": "white"
          },
          "hoverlabel": {
           "align": "left"
          },
          "hovermode": "closest",
          "mapbox": {
           "style": "light"
          },
          "paper_bgcolor": "white",
          "plot_bgcolor": "#E5ECF6",
          "polar": {
           "angularaxis": {
            "gridcolor": "white",
            "linecolor": "white",
            "ticks": ""
           },
           "bgcolor": "#E5ECF6",
           "radialaxis": {
            "gridcolor": "white",
            "linecolor": "white",
            "ticks": ""
           }
          },
          "scene": {
           "xaxis": {
            "backgroundcolor": "#E5ECF6",
            "gridcolor": "white",
            "gridwidth": 2,
            "linecolor": "white",
            "showbackground": true,
            "ticks": "",
            "zerolinecolor": "white"
           },
           "yaxis": {
            "backgroundcolor": "#E5ECF6",
            "gridcolor": "white",
            "gridwidth": 2,
            "linecolor": "white",
            "showbackground": true,
            "ticks": "",
            "zerolinecolor": "white"
           },
           "zaxis": {
            "backgroundcolor": "#E5ECF6",
            "gridcolor": "white",
            "gridwidth": 2,
            "linecolor": "white",
            "showbackground": true,
            "ticks": "",
            "zerolinecolor": "white"
           }
          },
          "shapedefaults": {
           "line": {
            "color": "#2a3f5f"
           }
          },
          "ternary": {
           "aaxis": {
            "gridcolor": "white",
            "linecolor": "white",
            "ticks": ""
           },
           "baxis": {
            "gridcolor": "white",
            "linecolor": "white",
            "ticks": ""
           },
           "bgcolor": "#E5ECF6",
           "caxis": {
            "gridcolor": "white",
            "linecolor": "white",
            "ticks": ""
           }
          },
          "title": {
           "x": 0.05
          },
          "xaxis": {
           "automargin": true,
           "gridcolor": "white",
           "linecolor": "white",
           "ticks": "",
           "title": {
            "standoff": 15
           },
           "zerolinecolor": "white",
           "zerolinewidth": 2
          },
          "yaxis": {
           "automargin": true,
           "gridcolor": "white",
           "linecolor": "white",
           "ticks": "",
           "title": {
            "standoff": 15
           },
           "zerolinecolor": "white",
           "zerolinewidth": 2
          }
         }
        }
       }
      }
     },
     "metadata": {},
     "output_type": "display_data"
    },
    {
     "data": {
      "text/html": [
       "<div>\n",
       "<style scoped>\n",
       "    .dataframe tbody tr th:only-of-type {\n",
       "        vertical-align: middle;\n",
       "    }\n",
       "\n",
       "    .dataframe tbody tr th {\n",
       "        vertical-align: top;\n",
       "    }\n",
       "\n",
       "    .dataframe thead th {\n",
       "        text-align: right;\n",
       "    }\n",
       "</style>\n",
       "<table border=\"1\" class=\"dataframe\">\n",
       "  <thead>\n",
       "    <tr style=\"text-align: right;\">\n",
       "      <th></th>\n",
       "      <th>Hours</th>\n",
       "      <th>Voc_r</th>\n",
       "      <th>Jsc_r</th>\n",
       "      <th>FF_r</th>\n",
       "      <th>PCE_r</th>\n",
       "      <th>Voc_f</th>\n",
       "      <th>Jsc_f</th>\n",
       "      <th>FF_f</th>\n",
       "      <th>PCE_f</th>\n",
       "    </tr>\n",
       "  </thead>\n",
       "  <tbody>\n",
       "    <tr>\n",
       "      <th>0</th>\n",
       "      <td>0.0</td>\n",
       "      <td>0.685669</td>\n",
       "      <td>36.037997</td>\n",
       "      <td>0.763718</td>\n",
       "      <td>18.871577</td>\n",
       "      <td>0.685164</td>\n",
       "      <td>36.139097</td>\n",
       "      <td>0.761021</td>\n",
       "      <td>18.843787</td>\n",
       "    </tr>\n",
       "    <tr>\n",
       "      <th>1</th>\n",
       "      <td>138.0</td>\n",
       "      <td>0.679836</td>\n",
       "      <td>35.531217</td>\n",
       "      <td>0.741610</td>\n",
       "      <td>17.913900</td>\n",
       "      <td>0.679918</td>\n",
       "      <td>35.589587</td>\n",
       "      <td>0.741549</td>\n",
       "      <td>17.944000</td>\n",
       "    </tr>\n",
       "    <tr>\n",
       "      <th>2</th>\n",
       "      <td>204.0</td>\n",
       "      <td>0.689322</td>\n",
       "      <td>34.719076</td>\n",
       "      <td>0.763570</td>\n",
       "      <td>18.274232</td>\n",
       "      <td>0.688927</td>\n",
       "      <td>34.773807</td>\n",
       "      <td>0.762552</td>\n",
       "      <td>18.268160</td>\n",
       "    </tr>\n",
       "    <tr>\n",
       "      <th>3</th>\n",
       "      <td>276.0</td>\n",
       "      <td>0.686340</td>\n",
       "      <td>36.193288</td>\n",
       "      <td>0.758246</td>\n",
       "      <td>18.835529</td>\n",
       "      <td>0.680854</td>\n",
       "      <td>36.090508</td>\n",
       "      <td>0.754710</td>\n",
       "      <td>18.545012</td>\n",
       "    </tr>\n",
       "    <tr>\n",
       "      <th>4</th>\n",
       "      <td>324.0</td>\n",
       "      <td>0.684053</td>\n",
       "      <td>35.707509</td>\n",
       "      <td>0.758448</td>\n",
       "      <td>18.525741</td>\n",
       "      <td>0.684572</td>\n",
       "      <td>35.632813</td>\n",
       "      <td>0.760011</td>\n",
       "      <td>18.539126</td>\n",
       "    </tr>\n",
       "    <tr>\n",
       "      <th>5</th>\n",
       "      <td>372.0</td>\n",
       "      <td>0.688091</td>\n",
       "      <td>34.581075</td>\n",
       "      <td>0.759681</td>\n",
       "      <td>18.076545</td>\n",
       "      <td>0.686946</td>\n",
       "      <td>34.568088</td>\n",
       "      <td>0.759359</td>\n",
       "      <td>18.032047</td>\n",
       "    </tr>\n",
       "    <tr>\n",
       "      <th>6</th>\n",
       "      <td>420.0</td>\n",
       "      <td>0.685182</td>\n",
       "      <td>35.437093</td>\n",
       "      <td>0.754615</td>\n",
       "      <td>18.322683</td>\n",
       "      <td>0.683184</td>\n",
       "      <td>35.478903</td>\n",
       "      <td>0.756544</td>\n",
       "      <td>18.337581</td>\n",
       "    </tr>\n",
       "    <tr>\n",
       "      <th>7</th>\n",
       "      <td>468.0</td>\n",
       "      <td>0.687027</td>\n",
       "      <td>35.212953</td>\n",
       "      <td>0.756814</td>\n",
       "      <td>18.309041</td>\n",
       "      <td>0.684194</td>\n",
       "      <td>35.152659</td>\n",
       "      <td>0.756828</td>\n",
       "      <td>18.202639</td>\n",
       "    </tr>\n",
       "  </tbody>\n",
       "</table>\n",
       "</div>"
      ],
      "text/plain": [
       "   Hours     Voc_r      Jsc_r      FF_r      PCE_r     Voc_f      Jsc_f  \\\n",
       "0    0.0  0.685669  36.037997  0.763718  18.871577  0.685164  36.139097   \n",
       "1  138.0  0.679836  35.531217  0.741610  17.913900  0.679918  35.589587   \n",
       "2  204.0  0.689322  34.719076  0.763570  18.274232  0.688927  34.773807   \n",
       "3  276.0  0.686340  36.193288  0.758246  18.835529  0.680854  36.090508   \n",
       "4  324.0  0.684053  35.707509  0.758448  18.525741  0.684572  35.632813   \n",
       "5  372.0  0.688091  34.581075  0.759681  18.076545  0.686946  34.568088   \n",
       "6  420.0  0.685182  35.437093  0.754615  18.322683  0.683184  35.478903   \n",
       "7  468.0  0.687027  35.212953  0.756814  18.309041  0.684194  35.152659   \n",
       "\n",
       "       FF_f      PCE_f  \n",
       "0  0.761021  18.843787  \n",
       "1  0.741549  17.944000  \n",
       "2  0.762552  18.268160  \n",
       "3  0.754710  18.545012  \n",
       "4  0.760011  18.539126  \n",
       "5  0.759359  18.032047  \n",
       "6  0.756544  18.337581  \n",
       "7  0.756828  18.202639  "
      ]
     },
     "metadata": {},
     "output_type": "display_data"
    },
    {
     "data": {
      "application/vnd.plotly.v1+json": {
       "config": {
        "plotlyServerURL": "https://plot.ly"
       },
       "data": [
        {
         "name": "0.0",
         "r": [
          1,
          1,
          1,
          1,
          1,
          1,
          1,
          1
         ],
         "theta": [
          "Voc_r",
          "Jsc_r",
          "FF_r",
          "PCE_r",
          "Voc_f",
          "Jsc_f",
          "FF_f",
          "PCE_f"
         ],
         "type": "scatterpolar"
        },
        {
         "name": "360.0",
         "r": [
          0.9990930336068748,
          1.0084276218577526,
          0.9886061601497156,
          0.9960335699902211,
          0.9929198275401275,
          1.0071420955678656,
          0.9842716865981226,
          0.9842828638295655
         ],
         "theta": [
          "Voc_r",
          "Jsc_r",
          "FF_r",
          "PCE_r",
          "Voc_f",
          "Jsc_f",
          "FF_f",
          "PCE_f"
         ],
         "type": "scatterpolar"
        },
        {
         "name": "498.0",
         "r": [
          0.9611095886650131,
          1.131843187355708,
          0.9175369219166909,
          0.9981199142601268,
          0.9640164545599011,
          1.1345127546787004,
          0.9173622456157327,
          1.0033089634865981
         ],
         "theta": [
          "Voc_r",
          "Jsc_r",
          "FF_r",
          "PCE_r",
          "Voc_f",
          "Jsc_f",
          "FF_f",
          "PCE_f"
         ],
         "type": "scatterpolar"
        },
        {
         "name": "564.0",
         "r": [
          0.9723119894454363,
          1.133813949162527,
          0.9258588889966807,
          1.020686186506139,
          0.974153643913921,
          1.1362623457094247,
          0.9234760086768973,
          1.022190149665515
         ],
         "theta": [
          "Voc_r",
          "Jsc_r",
          "FF_r",
          "PCE_r",
          "Voc_f",
          "Jsc_f",
          "FF_f",
          "PCE_f"
         ],
         "type": "scatterpolar"
        },
        {
         "name": "636.0",
         "r": [
          0.9753161732127664,
          1.140315771770172,
          0.9011800908207205,
          1.0022640330367154,
          0.9726196469496077,
          1.141109108401229,
          0.9017550464944643,
          1.0008264892497944
         ],
         "theta": [
          "Voc_r",
          "Jsc_r",
          "FF_r",
          "PCE_r",
          "Voc_f",
          "Jsc_f",
          "FF_f",
          "PCE_f"
         ],
         "type": "scatterpolar"
        },
        {
         "name": "684.0",
         "r": [
          0.9722929265487129,
          1.14182351618281,
          0.8715249629854027,
          0.9675556214641368,
          0.9720798688716256,
          1.1424373178766616,
          0.8491592316921799,
          0.9430255633281958
         ],
         "theta": [
          "Voc_r",
          "Jsc_r",
          "FF_r",
          "PCE_r",
          "Voc_f",
          "Jsc_f",
          "FF_f",
          "PCE_f"
         ],
         "type": "scatterpolar"
        },
        {
         "name": "732.0",
         "r": [
          0.9833301848158398,
          1.1419407931187302,
          0.871146050577598,
          0.9782141262504271,
          0.9800939931435532,
          1.1457261128166665,
          0.8610085097990159,
          0.9668430567233732
         ],
         "theta": [
          "Voc_r",
          "Jsc_r",
          "FF_r",
          "PCE_r",
          "Voc_f",
          "Jsc_f",
          "FF_f",
          "PCE_f"
         ],
         "type": "scatterpolar"
        },
        {
         "name": "780.0",
         "r": [
          0.9727171247833533,
          1.1194942442833473,
          0.871707578451643,
          0.9492470332268551,
          0.972177560582432,
          1.12383304295417,
          0.8655364460680902,
          0.9456550576051515
         ],
         "theta": [
          "Voc_r",
          "Jsc_r",
          "FF_r",
          "PCE_r",
          "Voc_f",
          "Jsc_f",
          "FF_f",
          "PCE_f"
         ],
         "type": "scatterpolar"
        },
        {
         "name": "828.0",
         "r": [
          0.9718279126645615,
          1.1127099110755627,
          0.848035583161087,
          0.9170339209367304,
          0.9743030596391504,
          1.113729346714804,
          0.8465424649787863,
          0.9185916180809381
         ],
         "theta": [
          "Voc_r",
          "Jsc_r",
          "FF_r",
          "PCE_r",
          "Voc_f",
          "Jsc_f",
          "FF_f",
          "PCE_f"
         ],
         "type": "scatterpolar"
        }
       ],
       "layout": {
        "height": 600,
        "polar": {
         "radialaxis": {
          "title": {
           "font": {
            "size": 30
           },
           "text": "damp-heat: silicon_Zhongshu"
          },
          "visible": true
         }
        },
        "showlegend": true,
        "template": {
         "data": {
          "bar": [
           {
            "error_x": {
             "color": "#2a3f5f"
            },
            "error_y": {
             "color": "#2a3f5f"
            },
            "marker": {
             "line": {
              "color": "#E5ECF6",
              "width": 0.5
             },
             "pattern": {
              "fillmode": "overlay",
              "size": 10,
              "solidity": 0.2
             }
            },
            "type": "bar"
           }
          ],
          "barpolar": [
           {
            "marker": {
             "line": {
              "color": "#E5ECF6",
              "width": 0.5
             },
             "pattern": {
              "fillmode": "overlay",
              "size": 10,
              "solidity": 0.2
             }
            },
            "type": "barpolar"
           }
          ],
          "carpet": [
           {
            "aaxis": {
             "endlinecolor": "#2a3f5f",
             "gridcolor": "white",
             "linecolor": "white",
             "minorgridcolor": "white",
             "startlinecolor": "#2a3f5f"
            },
            "baxis": {
             "endlinecolor": "#2a3f5f",
             "gridcolor": "white",
             "linecolor": "white",
             "minorgridcolor": "white",
             "startlinecolor": "#2a3f5f"
            },
            "type": "carpet"
           }
          ],
          "choropleth": [
           {
            "colorbar": {
             "outlinewidth": 0,
             "ticks": ""
            },
            "type": "choropleth"
           }
          ],
          "contour": [
           {
            "colorbar": {
             "outlinewidth": 0,
             "ticks": ""
            },
            "colorscale": [
             [
              0,
              "#0d0887"
             ],
             [
              0.1111111111111111,
              "#46039f"
             ],
             [
              0.2222222222222222,
              "#7201a8"
             ],
             [
              0.3333333333333333,
              "#9c179e"
             ],
             [
              0.4444444444444444,
              "#bd3786"
             ],
             [
              0.5555555555555556,
              "#d8576b"
             ],
             [
              0.6666666666666666,
              "#ed7953"
             ],
             [
              0.7777777777777778,
              "#fb9f3a"
             ],
             [
              0.8888888888888888,
              "#fdca26"
             ],
             [
              1,
              "#f0f921"
             ]
            ],
            "type": "contour"
           }
          ],
          "contourcarpet": [
           {
            "colorbar": {
             "outlinewidth": 0,
             "ticks": ""
            },
            "type": "contourcarpet"
           }
          ],
          "heatmap": [
           {
            "colorbar": {
             "outlinewidth": 0,
             "ticks": ""
            },
            "colorscale": [
             [
              0,
              "#0d0887"
             ],
             [
              0.1111111111111111,
              "#46039f"
             ],
             [
              0.2222222222222222,
              "#7201a8"
             ],
             [
              0.3333333333333333,
              "#9c179e"
             ],
             [
              0.4444444444444444,
              "#bd3786"
             ],
             [
              0.5555555555555556,
              "#d8576b"
             ],
             [
              0.6666666666666666,
              "#ed7953"
             ],
             [
              0.7777777777777778,
              "#fb9f3a"
             ],
             [
              0.8888888888888888,
              "#fdca26"
             ],
             [
              1,
              "#f0f921"
             ]
            ],
            "type": "heatmap"
           }
          ],
          "heatmapgl": [
           {
            "colorbar": {
             "outlinewidth": 0,
             "ticks": ""
            },
            "colorscale": [
             [
              0,
              "#0d0887"
             ],
             [
              0.1111111111111111,
              "#46039f"
             ],
             [
              0.2222222222222222,
              "#7201a8"
             ],
             [
              0.3333333333333333,
              "#9c179e"
             ],
             [
              0.4444444444444444,
              "#bd3786"
             ],
             [
              0.5555555555555556,
              "#d8576b"
             ],
             [
              0.6666666666666666,
              "#ed7953"
             ],
             [
              0.7777777777777778,
              "#fb9f3a"
             ],
             [
              0.8888888888888888,
              "#fdca26"
             ],
             [
              1,
              "#f0f921"
             ]
            ],
            "type": "heatmapgl"
           }
          ],
          "histogram": [
           {
            "marker": {
             "pattern": {
              "fillmode": "overlay",
              "size": 10,
              "solidity": 0.2
             }
            },
            "type": "histogram"
           }
          ],
          "histogram2d": [
           {
            "colorbar": {
             "outlinewidth": 0,
             "ticks": ""
            },
            "colorscale": [
             [
              0,
              "#0d0887"
             ],
             [
              0.1111111111111111,
              "#46039f"
             ],
             [
              0.2222222222222222,
              "#7201a8"
             ],
             [
              0.3333333333333333,
              "#9c179e"
             ],
             [
              0.4444444444444444,
              "#bd3786"
             ],
             [
              0.5555555555555556,
              "#d8576b"
             ],
             [
              0.6666666666666666,
              "#ed7953"
             ],
             [
              0.7777777777777778,
              "#fb9f3a"
             ],
             [
              0.8888888888888888,
              "#fdca26"
             ],
             [
              1,
              "#f0f921"
             ]
            ],
            "type": "histogram2d"
           }
          ],
          "histogram2dcontour": [
           {
            "colorbar": {
             "outlinewidth": 0,
             "ticks": ""
            },
            "colorscale": [
             [
              0,
              "#0d0887"
             ],
             [
              0.1111111111111111,
              "#46039f"
             ],
             [
              0.2222222222222222,
              "#7201a8"
             ],
             [
              0.3333333333333333,
              "#9c179e"
             ],
             [
              0.4444444444444444,
              "#bd3786"
             ],
             [
              0.5555555555555556,
              "#d8576b"
             ],
             [
              0.6666666666666666,
              "#ed7953"
             ],
             [
              0.7777777777777778,
              "#fb9f3a"
             ],
             [
              0.8888888888888888,
              "#fdca26"
             ],
             [
              1,
              "#f0f921"
             ]
            ],
            "type": "histogram2dcontour"
           }
          ],
          "mesh3d": [
           {
            "colorbar": {
             "outlinewidth": 0,
             "ticks": ""
            },
            "type": "mesh3d"
           }
          ],
          "parcoords": [
           {
            "line": {
             "colorbar": {
              "outlinewidth": 0,
              "ticks": ""
             }
            },
            "type": "parcoords"
           }
          ],
          "pie": [
           {
            "automargin": true,
            "type": "pie"
           }
          ],
          "scatter": [
           {
            "fillpattern": {
             "fillmode": "overlay",
             "size": 10,
             "solidity": 0.2
            },
            "type": "scatter"
           }
          ],
          "scatter3d": [
           {
            "line": {
             "colorbar": {
              "outlinewidth": 0,
              "ticks": ""
             }
            },
            "marker": {
             "colorbar": {
              "outlinewidth": 0,
              "ticks": ""
             }
            },
            "type": "scatter3d"
           }
          ],
          "scattercarpet": [
           {
            "marker": {
             "colorbar": {
              "outlinewidth": 0,
              "ticks": ""
             }
            },
            "type": "scattercarpet"
           }
          ],
          "scattergeo": [
           {
            "marker": {
             "colorbar": {
              "outlinewidth": 0,
              "ticks": ""
             }
            },
            "type": "scattergeo"
           }
          ],
          "scattergl": [
           {
            "marker": {
             "colorbar": {
              "outlinewidth": 0,
              "ticks": ""
             }
            },
            "type": "scattergl"
           }
          ],
          "scattermapbox": [
           {
            "marker": {
             "colorbar": {
              "outlinewidth": 0,
              "ticks": ""
             }
            },
            "type": "scattermapbox"
           }
          ],
          "scatterpolar": [
           {
            "marker": {
             "colorbar": {
              "outlinewidth": 0,
              "ticks": ""
             }
            },
            "type": "scatterpolar"
           }
          ],
          "scatterpolargl": [
           {
            "marker": {
             "colorbar": {
              "outlinewidth": 0,
              "ticks": ""
             }
            },
            "type": "scatterpolargl"
           }
          ],
          "scatterternary": [
           {
            "marker": {
             "colorbar": {
              "outlinewidth": 0,
              "ticks": ""
             }
            },
            "type": "scatterternary"
           }
          ],
          "surface": [
           {
            "colorbar": {
             "outlinewidth": 0,
             "ticks": ""
            },
            "colorscale": [
             [
              0,
              "#0d0887"
             ],
             [
              0.1111111111111111,
              "#46039f"
             ],
             [
              0.2222222222222222,
              "#7201a8"
             ],
             [
              0.3333333333333333,
              "#9c179e"
             ],
             [
              0.4444444444444444,
              "#bd3786"
             ],
             [
              0.5555555555555556,
              "#d8576b"
             ],
             [
              0.6666666666666666,
              "#ed7953"
             ],
             [
              0.7777777777777778,
              "#fb9f3a"
             ],
             [
              0.8888888888888888,
              "#fdca26"
             ],
             [
              1,
              "#f0f921"
             ]
            ],
            "type": "surface"
           }
          ],
          "table": [
           {
            "cells": {
             "fill": {
              "color": "#EBF0F8"
             },
             "line": {
              "color": "white"
             }
            },
            "header": {
             "fill": {
              "color": "#C8D4E3"
             },
             "line": {
              "color": "white"
             }
            },
            "type": "table"
           }
          ]
         },
         "layout": {
          "annotationdefaults": {
           "arrowcolor": "#2a3f5f",
           "arrowhead": 0,
           "arrowwidth": 1
          },
          "autotypenumbers": "strict",
          "coloraxis": {
           "colorbar": {
            "outlinewidth": 0,
            "ticks": ""
           }
          },
          "colorscale": {
           "diverging": [
            [
             0,
             "#8e0152"
            ],
            [
             0.1,
             "#c51b7d"
            ],
            [
             0.2,
             "#de77ae"
            ],
            [
             0.3,
             "#f1b6da"
            ],
            [
             0.4,
             "#fde0ef"
            ],
            [
             0.5,
             "#f7f7f7"
            ],
            [
             0.6,
             "#e6f5d0"
            ],
            [
             0.7,
             "#b8e186"
            ],
            [
             0.8,
             "#7fbc41"
            ],
            [
             0.9,
             "#4d9221"
            ],
            [
             1,
             "#276419"
            ]
           ],
           "sequential": [
            [
             0,
             "#0d0887"
            ],
            [
             0.1111111111111111,
             "#46039f"
            ],
            [
             0.2222222222222222,
             "#7201a8"
            ],
            [
             0.3333333333333333,
             "#9c179e"
            ],
            [
             0.4444444444444444,
             "#bd3786"
            ],
            [
             0.5555555555555556,
             "#d8576b"
            ],
            [
             0.6666666666666666,
             "#ed7953"
            ],
            [
             0.7777777777777778,
             "#fb9f3a"
            ],
            [
             0.8888888888888888,
             "#fdca26"
            ],
            [
             1,
             "#f0f921"
            ]
           ],
           "sequentialminus": [
            [
             0,
             "#0d0887"
            ],
            [
             0.1111111111111111,
             "#46039f"
            ],
            [
             0.2222222222222222,
             "#7201a8"
            ],
            [
             0.3333333333333333,
             "#9c179e"
            ],
            [
             0.4444444444444444,
             "#bd3786"
            ],
            [
             0.5555555555555556,
             "#d8576b"
            ],
            [
             0.6666666666666666,
             "#ed7953"
            ],
            [
             0.7777777777777778,
             "#fb9f3a"
            ],
            [
             0.8888888888888888,
             "#fdca26"
            ],
            [
             1,
             "#f0f921"
            ]
           ]
          },
          "colorway": [
           "#636efa",
           "#EF553B",
           "#00cc96",
           "#ab63fa",
           "#FFA15A",
           "#19d3f3",
           "#FF6692",
           "#B6E880",
           "#FF97FF",
           "#FECB52"
          ],
          "font": {
           "color": "#2a3f5f"
          },
          "geo": {
           "bgcolor": "white",
           "lakecolor": "white",
           "landcolor": "#E5ECF6",
           "showlakes": true,
           "showland": true,
           "subunitcolor": "white"
          },
          "hoverlabel": {
           "align": "left"
          },
          "hovermode": "closest",
          "mapbox": {
           "style": "light"
          },
          "paper_bgcolor": "white",
          "plot_bgcolor": "#E5ECF6",
          "polar": {
           "angularaxis": {
            "gridcolor": "white",
            "linecolor": "white",
            "ticks": ""
           },
           "bgcolor": "#E5ECF6",
           "radialaxis": {
            "gridcolor": "white",
            "linecolor": "white",
            "ticks": ""
           }
          },
          "scene": {
           "xaxis": {
            "backgroundcolor": "#E5ECF6",
            "gridcolor": "white",
            "gridwidth": 2,
            "linecolor": "white",
            "showbackground": true,
            "ticks": "",
            "zerolinecolor": "white"
           },
           "yaxis": {
            "backgroundcolor": "#E5ECF6",
            "gridcolor": "white",
            "gridwidth": 2,
            "linecolor": "white",
            "showbackground": true,
            "ticks": "",
            "zerolinecolor": "white"
           },
           "zaxis": {
            "backgroundcolor": "#E5ECF6",
            "gridcolor": "white",
            "gridwidth": 2,
            "linecolor": "white",
            "showbackground": true,
            "ticks": "",
            "zerolinecolor": "white"
           }
          },
          "shapedefaults": {
           "line": {
            "color": "#2a3f5f"
           }
          },
          "ternary": {
           "aaxis": {
            "gridcolor": "white",
            "linecolor": "white",
            "ticks": ""
           },
           "baxis": {
            "gridcolor": "white",
            "linecolor": "white",
            "ticks": ""
           },
           "bgcolor": "#E5ECF6",
           "caxis": {
            "gridcolor": "white",
            "linecolor": "white",
            "ticks": ""
           }
          },
          "title": {
           "x": 0.05
          },
          "xaxis": {
           "automargin": true,
           "gridcolor": "white",
           "linecolor": "white",
           "ticks": "",
           "title": {
            "standoff": 15
           },
           "zerolinecolor": "white",
           "zerolinewidth": 2
          },
          "yaxis": {
           "automargin": true,
           "gridcolor": "white",
           "linecolor": "white",
           "ticks": "",
           "title": {
            "standoff": 15
           },
           "zerolinecolor": "white",
           "zerolinewidth": 2
          }
         }
        }
       }
      }
     },
     "metadata": {},
     "output_type": "display_data"
    },
    {
     "data": {
      "text/html": [
       "<div>\n",
       "<style scoped>\n",
       "    .dataframe tbody tr th:only-of-type {\n",
       "        vertical-align: middle;\n",
       "    }\n",
       "\n",
       "    .dataframe tbody tr th {\n",
       "        vertical-align: top;\n",
       "    }\n",
       "\n",
       "    .dataframe thead th {\n",
       "        text-align: right;\n",
       "    }\n",
       "</style>\n",
       "<table border=\"1\" class=\"dataframe\">\n",
       "  <thead>\n",
       "    <tr style=\"text-align: right;\">\n",
       "      <th></th>\n",
       "      <th>Hours</th>\n",
       "      <th>Voc_r</th>\n",
       "      <th>Jsc_r</th>\n",
       "      <th>FF_r</th>\n",
       "      <th>PCE_r</th>\n",
       "      <th>Voc_f</th>\n",
       "      <th>Jsc_f</th>\n",
       "      <th>FF_f</th>\n",
       "      <th>PCE_f</th>\n",
       "    </tr>\n",
       "  </thead>\n",
       "  <tbody>\n",
       "    <tr>\n",
       "      <th>0</th>\n",
       "      <td>0.0</td>\n",
       "      <td>0.625115</td>\n",
       "      <td>38.465577</td>\n",
       "      <td>0.706224</td>\n",
       "      <td>16.981434</td>\n",
       "      <td>0.623327</td>\n",
       "      <td>38.407106</td>\n",
       "      <td>0.706087</td>\n",
       "      <td>16.903846</td>\n",
       "    </tr>\n",
       "    <tr>\n",
       "      <th>1</th>\n",
       "      <td>360.0</td>\n",
       "      <td>0.624548</td>\n",
       "      <td>38.789750</td>\n",
       "      <td>0.698177</td>\n",
       "      <td>16.914078</td>\n",
       "      <td>0.618913</td>\n",
       "      <td>38.681413</td>\n",
       "      <td>0.694981</td>\n",
       "      <td>16.638166</td>\n",
       "    </tr>\n",
       "    <tr>\n",
       "      <th>2</th>\n",
       "      <td>498.0</td>\n",
       "      <td>0.600804</td>\n",
       "      <td>43.537001</td>\n",
       "      <td>0.647986</td>\n",
       "      <td>16.949507</td>\n",
       "      <td>0.600897</td>\n",
       "      <td>43.573351</td>\n",
       "      <td>0.647738</td>\n",
       "      <td>16.959780</td>\n",
       "    </tr>\n",
       "    <tr>\n",
       "      <th>3</th>\n",
       "      <td>564.0</td>\n",
       "      <td>0.607807</td>\n",
       "      <td>43.612807</td>\n",
       "      <td>0.653864</td>\n",
       "      <td>17.332715</td>\n",
       "      <td>0.607216</td>\n",
       "      <td>43.640548</td>\n",
       "      <td>0.652054</td>\n",
       "      <td>17.278945</td>\n",
       "    </tr>\n",
       "    <tr>\n",
       "      <th>4</th>\n",
       "      <td>636.0</td>\n",
       "      <td>0.609684</td>\n",
       "      <td>43.862904</td>\n",
       "      <td>0.636435</td>\n",
       "      <td>17.019881</td>\n",
       "      <td>0.606260</td>\n",
       "      <td>43.826698</td>\n",
       "      <td>0.636718</td>\n",
       "      <td>16.917817</td>\n",
       "    </tr>\n",
       "    <tr>\n",
       "      <th>5</th>\n",
       "      <td>684.0</td>\n",
       "      <td>0.607795</td>\n",
       "      <td>43.920900</td>\n",
       "      <td>0.615492</td>\n",
       "      <td>16.430482</td>\n",
       "      <td>0.605923</td>\n",
       "      <td>43.877711</td>\n",
       "      <td>0.599580</td>\n",
       "      <td>15.940759</td>\n",
       "    </tr>\n",
       "    <tr>\n",
       "      <th>6</th>\n",
       "      <td>732.0</td>\n",
       "      <td>0.614694</td>\n",
       "      <td>43.925411</td>\n",
       "      <td>0.615224</td>\n",
       "      <td>16.611479</td>\n",
       "      <td>0.610919</td>\n",
       "      <td>44.004024</td>\n",
       "      <td>0.607947</td>\n",
       "      <td>16.343366</td>\n",
       "    </tr>\n",
       "    <tr>\n",
       "      <th>7</th>\n",
       "      <td>780.0</td>\n",
       "      <td>0.608060</td>\n",
       "      <td>43.061992</td>\n",
       "      <td>0.615621</td>\n",
       "      <td>16.119576</td>\n",
       "      <td>0.605984</td>\n",
       "      <td>43.163174</td>\n",
       "      <td>0.611144</td>\n",
       "      <td>15.985207</td>\n",
       "    </tr>\n",
       "    <tr>\n",
       "      <th>8</th>\n",
       "      <td>828.0</td>\n",
       "      <td>0.607504</td>\n",
       "      <td>42.801028</td>\n",
       "      <td>0.598903</td>\n",
       "      <td>15.572551</td>\n",
       "      <td>0.607309</td>\n",
       "      <td>42.775121</td>\n",
       "      <td>0.597733</td>\n",
       "      <td>15.527731</td>\n",
       "    </tr>\n",
       "  </tbody>\n",
       "</table>\n",
       "</div>"
      ],
      "text/plain": [
       "   Hours     Voc_r      Jsc_r      FF_r      PCE_r     Voc_f      Jsc_f  \\\n",
       "0    0.0  0.625115  38.465577  0.706224  16.981434  0.623327  38.407106   \n",
       "1  360.0  0.624548  38.789750  0.698177  16.914078  0.618913  38.681413   \n",
       "2  498.0  0.600804  43.537001  0.647986  16.949507  0.600897  43.573351   \n",
       "3  564.0  0.607807  43.612807  0.653864  17.332715  0.607216  43.640548   \n",
       "4  636.0  0.609684  43.862904  0.636435  17.019881  0.606260  43.826698   \n",
       "5  684.0  0.607795  43.920900  0.615492  16.430482  0.605923  43.877711   \n",
       "6  732.0  0.614694  43.925411  0.615224  16.611479  0.610919  44.004024   \n",
       "7  780.0  0.608060  43.061992  0.615621  16.119576  0.605984  43.163174   \n",
       "8  828.0  0.607504  42.801028  0.598903  15.572551  0.607309  42.775121   \n",
       "\n",
       "       FF_f      PCE_f  \n",
       "0  0.706087  16.903846  \n",
       "1  0.694981  16.638166  \n",
       "2  0.647738  16.959780  \n",
       "3  0.652054  17.278945  \n",
       "4  0.636718  16.917817  \n",
       "5  0.599580  15.940759  \n",
       "6  0.607947  16.343366  \n",
       "7  0.611144  15.985207  \n",
       "8  0.597733  15.527731  "
      ]
     },
     "metadata": {},
     "output_type": "display_data"
    },
    {
     "data": {
      "application/vnd.plotly.v1+json": {
       "config": {
        "plotlyServerURL": "https://plot.ly"
       },
       "data": [
        {
         "name": "0.0",
         "r": [
          1,
          1,
          1,
          1,
          1,
          1,
          1,
          1
         ],
         "theta": [
          "Voc_r",
          "Jsc_r",
          "FF_r",
          "PCE_r",
          "Voc_f",
          "Jsc_f",
          "FF_f",
          "PCE_f"
         ],
         "type": "scatterpolar"
        },
        {
         "name": "24.0",
         "r": [
          1.0214327279363302,
          0.9702411162177372,
          1.006943424522399,
          0.9979172139682109,
          1.0150180662302162,
          0.9104973249305652,
          1.1779577911023849,
          1.0886347054722776
         ],
         "theta": [
          "Voc_r",
          "Jsc_r",
          "FF_r",
          "PCE_r",
          "Voc_f",
          "Jsc_f",
          "FF_f",
          "PCE_f"
         ],
         "type": "scatterpolar"
        },
        {
         "name": "48.0",
         "r": [
          1.0274313060841112,
          1.0156193356785423,
          1.0069777293553097,
          1.0507602152919757,
          1.017134890971579,
          0.9566387596295919,
          1.1611665076272963,
          1.1298506138380737
         ],
         "theta": [
          "Voc_r",
          "Jsc_r",
          "FF_r",
          "PCE_r",
          "Voc_f",
          "Jsc_f",
          "FF_f",
          "PCE_f"
         ],
         "type": "scatterpolar"
        },
        {
         "name": "96.0",
         "r": [
          1.0361110118172314,
          1.0023660193565562,
          1.0014798686511621,
          1.0400994065691378,
          1.0205702846546663,
          0.9441710381833989,
          1.1652543073436885,
          1.1228307833118933
         ],
         "theta": [
          "Voc_r",
          "Jsc_r",
          "FF_r",
          "PCE_r",
          "Voc_f",
          "Jsc_f",
          "FF_f",
          "PCE_f"
         ],
         "type": "scatterpolar"
        },
        {
         "name": "120.0",
         "r": [
          1.0315469170551508,
          0.9877764908419439,
          1.0136154022077917,
          1.0328110417557894,
          1.0155768148762088,
          0.9294695093943537,
          1.1705491161876753,
          1.1049371270876005
         ],
         "theta": [
          "Voc_r",
          "Jsc_r",
          "FF_r",
          "PCE_r",
          "Voc_f",
          "Jsc_f",
          "FF_f",
          "PCE_f"
         ],
         "type": "scatterpolar"
        },
        {
         "name": "168.0",
         "r": [
          1.031572951806736,
          1.0017717124866077,
          0.9773799618423203,
          1.0100250414258896,
          0.9622317811643472,
          0.9877135229195165,
          1.2208587662906927,
          1.1603155772811753
         ],
         "theta": [
          "Voc_r",
          "Jsc_r",
          "FF_r",
          "PCE_r",
          "Voc_f",
          "Jsc_f",
          "FF_f",
          "PCE_f"
         ],
         "type": "scatterpolar"
        },
        {
         "name": "192.0",
         "r": [
          1.030481062283211,
          0.9898962774242395,
          0.9208327558901305,
          0.9393132868836361,
          1.0117161061334496,
          0.926294568900526,
          1.0425971635131739,
          0.9770669440997155
         ],
         "theta": [
          "Voc_r",
          "Jsc_r",
          "FF_r",
          "PCE_r",
          "Voc_f",
          "Jsc_f",
          "FF_f",
          "PCE_f"
         ],
         "type": "scatterpolar"
        },
        {
         "name": "216.0",
         "r": [
          1.037226240496313,
          1.036945083754415,
          1.0038333792279779,
          1.079669629013715,
          1.0168781458862464,
          0.9733956563899421,
          1.2272975930909413,
          1.2148095581507703
         ],
         "theta": [
          "Voc_r",
          "Jsc_r",
          "FF_r",
          "PCE_r",
          "Voc_f",
          "Jsc_f",
          "FF_f",
          "PCE_f"
         ],
         "type": "scatterpolar"
        },
        {
         "name": "264.0",
         "r": [
          1.0352616229039693,
          1.0172560620643134,
          1.0350158835921957,
          1.0900023048083414,
          1.0150392706912696,
          0.956084799149953,
          1.2588628878730812,
          1.2216806317847972
         ],
         "theta": [
          "Voc_r",
          "Jsc_r",
          "FF_r",
          "PCE_r",
          "Voc_f",
          "Jsc_f",
          "FF_f",
          "PCE_f"
         ],
         "type": "scatterpolar"
        },
        {
         "name": "312.0",
         "r": [
          1.037428847580394,
          1.013682272069357,
          1.0277336010731672,
          1.0807885305024476,
          1.0148656870831962,
          0.9540789190659387,
          1.252574346135342,
          1.2128200885906881
         ],
         "theta": [
          "Voc_r",
          "Jsc_r",
          "FF_r",
          "PCE_r",
          "Voc_f",
          "Jsc_f",
          "FF_f",
          "PCE_f"
         ],
         "type": "scatterpolar"
        },
        {
         "name": "480.0",
         "r": [
          1.027620600459816,
          1.0063316642483031,
          1.0420357711724295,
          1.0775974812783469,
          1.0047105960949558,
          0.9490165007597262,
          1.2706283656704602,
          1.2115275448681344
         ],
         "theta": [
          "Voc_r",
          "Jsc_r",
          "FF_r",
          "PCE_r",
          "Voc_f",
          "Jsc_f",
          "FF_f",
          "PCE_f"
         ],
         "type": "scatterpolar"
        },
        {
         "name": "552.0",
         "r": [
          1.0178971184672168,
          1.023109984225483,
          1.0341011682091068,
          1.0769343674496095,
          1.0044542670165109,
          0.9608024595619528,
          1.2508880420137152,
          1.2072096963120653
         ],
         "theta": [
          "Voc_r",
          "Jsc_r",
          "FF_r",
          "PCE_r",
          "Voc_f",
          "Jsc_f",
          "FF_f",
          "PCE_f"
         ],
         "type": "scatterpolar"
        },
        {
         "name": "636.0",
         "r": [
          1.0151909049390129,
          1.0062657240900355,
          1.0320032660678964,
          1.054244805459187,
          0.9992626718797925,
          0.9456830102678578,
          1.258047516631701,
          1.1888369528811842
         ],
         "theta": [
          "Voc_r",
          "Jsc_r",
          "FF_r",
          "PCE_r",
          "Voc_f",
          "Jsc_f",
          "FF_f",
          "PCE_f"
         ],
         "type": "scatterpolar"
        },
        {
         "name": "684.0",
         "r": [
          1.0139917771787716,
          1.0061772477780286,
          1.0084108666819482,
          1.0288366882501336,
          0.9791857529386069,
          0.9458872904059705,
          1.2213800917229072,
          1.131241457623136
         ],
         "theta": [
          "Voc_r",
          "Jsc_r",
          "FF_r",
          "PCE_r",
          "Voc_f",
          "Jsc_f",
          "FF_f",
          "PCE_f"
         ],
         "type": "scatterpolar"
        },
        {
         "name": "756.0",
         "r": [
          1.009148991815209,
          1.0285224450978638,
          1.0327032194167187,
          1.071876119171633,
          0.9896052113118167,
          0.9742210999052133,
          1.2535408179416054,
          1.2085315291101062
         ],
         "theta": [
          "Voc_r",
          "Jsc_r",
          "FF_r",
          "PCE_r",
          "Voc_f",
          "Jsc_f",
          "FF_f",
          "PCE_f"
         ],
         "type": "scatterpolar"
        },
        {
         "name": "804.0",
         "r": [
          1.0112208132361218,
          1.0495940065440645,
          1.0226534535859937,
          1.085415030457519,
          0.9904945552557707,
          0.9758941792526818,
          1.2616495805052685,
          1.2195330315261688
         ],
         "theta": [
          "Voc_r",
          "Jsc_r",
          "FF_r",
          "PCE_r",
          "Voc_f",
          "Jsc_f",
          "FF_f",
          "PCE_f"
         ],
         "type": "scatterpolar"
        },
        {
         "name": "852.0",
         "r": [
          0.9975611544717142,
          1.0250405274779069,
          1.033256757975832,
          1.0565469976239394,
          0.9646755227169425,
          0.9659860801493897,
          1.2626530242014318,
          1.176619795202644
         ],
         "theta": [
          "Voc_r",
          "Jsc_r",
          "FF_r",
          "PCE_r",
          "Voc_f",
          "Jsc_f",
          "FF_f",
          "PCE_f"
         ],
         "type": "scatterpolar"
        },
        {
         "name": "900.0",
         "r": [
          0.9928784130203295,
          1.0226692911930355,
          1.0326688703159006,
          1.0485577850270829,
          0.9660580116438384,
          0.9619766304399574,
          1.25834156109856,
          1.1694085617569052
         ],
         "theta": [
          "Voc_r",
          "Jsc_r",
          "FF_r",
          "PCE_r",
          "Voc_f",
          "Jsc_f",
          "FF_f",
          "PCE_f"
         ],
         "type": "scatterpolar"
        },
        {
         "name": "948.0",
         "r": [
          0.9914300384718782,
          1.0119228371641882,
          1.0323624989595128,
          1.0357183970303625,
          0.9682571282065592,
          0.9542133105220375,
          1.2581255201795147,
          1.16241216148234
         ],
         "theta": [
          "Voc_r",
          "Jsc_r",
          "FF_r",
          "PCE_r",
          "Voc_f",
          "Jsc_f",
          "FF_f",
          "PCE_f"
         ],
         "type": "scatterpolar"
        }
       ],
       "layout": {
        "height": 600,
        "polar": {
         "radialaxis": {
          "title": {
           "font": {
            "size": 30
           },
           "text": "light-dark-cycle: Jan02Mask with UV filter"
          },
          "visible": true
         }
        },
        "showlegend": true,
        "template": {
         "data": {
          "bar": [
           {
            "error_x": {
             "color": "#2a3f5f"
            },
            "error_y": {
             "color": "#2a3f5f"
            },
            "marker": {
             "line": {
              "color": "#E5ECF6",
              "width": 0.5
             },
             "pattern": {
              "fillmode": "overlay",
              "size": 10,
              "solidity": 0.2
             }
            },
            "type": "bar"
           }
          ],
          "barpolar": [
           {
            "marker": {
             "line": {
              "color": "#E5ECF6",
              "width": 0.5
             },
             "pattern": {
              "fillmode": "overlay",
              "size": 10,
              "solidity": 0.2
             }
            },
            "type": "barpolar"
           }
          ],
          "carpet": [
           {
            "aaxis": {
             "endlinecolor": "#2a3f5f",
             "gridcolor": "white",
             "linecolor": "white",
             "minorgridcolor": "white",
             "startlinecolor": "#2a3f5f"
            },
            "baxis": {
             "endlinecolor": "#2a3f5f",
             "gridcolor": "white",
             "linecolor": "white",
             "minorgridcolor": "white",
             "startlinecolor": "#2a3f5f"
            },
            "type": "carpet"
           }
          ],
          "choropleth": [
           {
            "colorbar": {
             "outlinewidth": 0,
             "ticks": ""
            },
            "type": "choropleth"
           }
          ],
          "contour": [
           {
            "colorbar": {
             "outlinewidth": 0,
             "ticks": ""
            },
            "colorscale": [
             [
              0,
              "#0d0887"
             ],
             [
              0.1111111111111111,
              "#46039f"
             ],
             [
              0.2222222222222222,
              "#7201a8"
             ],
             [
              0.3333333333333333,
              "#9c179e"
             ],
             [
              0.4444444444444444,
              "#bd3786"
             ],
             [
              0.5555555555555556,
              "#d8576b"
             ],
             [
              0.6666666666666666,
              "#ed7953"
             ],
             [
              0.7777777777777778,
              "#fb9f3a"
             ],
             [
              0.8888888888888888,
              "#fdca26"
             ],
             [
              1,
              "#f0f921"
             ]
            ],
            "type": "contour"
           }
          ],
          "contourcarpet": [
           {
            "colorbar": {
             "outlinewidth": 0,
             "ticks": ""
            },
            "type": "contourcarpet"
           }
          ],
          "heatmap": [
           {
            "colorbar": {
             "outlinewidth": 0,
             "ticks": ""
            },
            "colorscale": [
             [
              0,
              "#0d0887"
             ],
             [
              0.1111111111111111,
              "#46039f"
             ],
             [
              0.2222222222222222,
              "#7201a8"
             ],
             [
              0.3333333333333333,
              "#9c179e"
             ],
             [
              0.4444444444444444,
              "#bd3786"
             ],
             [
              0.5555555555555556,
              "#d8576b"
             ],
             [
              0.6666666666666666,
              "#ed7953"
             ],
             [
              0.7777777777777778,
              "#fb9f3a"
             ],
             [
              0.8888888888888888,
              "#fdca26"
             ],
             [
              1,
              "#f0f921"
             ]
            ],
            "type": "heatmap"
           }
          ],
          "heatmapgl": [
           {
            "colorbar": {
             "outlinewidth": 0,
             "ticks": ""
            },
            "colorscale": [
             [
              0,
              "#0d0887"
             ],
             [
              0.1111111111111111,
              "#46039f"
             ],
             [
              0.2222222222222222,
              "#7201a8"
             ],
             [
              0.3333333333333333,
              "#9c179e"
             ],
             [
              0.4444444444444444,
              "#bd3786"
             ],
             [
              0.5555555555555556,
              "#d8576b"
             ],
             [
              0.6666666666666666,
              "#ed7953"
             ],
             [
              0.7777777777777778,
              "#fb9f3a"
             ],
             [
              0.8888888888888888,
              "#fdca26"
             ],
             [
              1,
              "#f0f921"
             ]
            ],
            "type": "heatmapgl"
           }
          ],
          "histogram": [
           {
            "marker": {
             "pattern": {
              "fillmode": "overlay",
              "size": 10,
              "solidity": 0.2
             }
            },
            "type": "histogram"
           }
          ],
          "histogram2d": [
           {
            "colorbar": {
             "outlinewidth": 0,
             "ticks": ""
            },
            "colorscale": [
             [
              0,
              "#0d0887"
             ],
             [
              0.1111111111111111,
              "#46039f"
             ],
             [
              0.2222222222222222,
              "#7201a8"
             ],
             [
              0.3333333333333333,
              "#9c179e"
             ],
             [
              0.4444444444444444,
              "#bd3786"
             ],
             [
              0.5555555555555556,
              "#d8576b"
             ],
             [
              0.6666666666666666,
              "#ed7953"
             ],
             [
              0.7777777777777778,
              "#fb9f3a"
             ],
             [
              0.8888888888888888,
              "#fdca26"
             ],
             [
              1,
              "#f0f921"
             ]
            ],
            "type": "histogram2d"
           }
          ],
          "histogram2dcontour": [
           {
            "colorbar": {
             "outlinewidth": 0,
             "ticks": ""
            },
            "colorscale": [
             [
              0,
              "#0d0887"
             ],
             [
              0.1111111111111111,
              "#46039f"
             ],
             [
              0.2222222222222222,
              "#7201a8"
             ],
             [
              0.3333333333333333,
              "#9c179e"
             ],
             [
              0.4444444444444444,
              "#bd3786"
             ],
             [
              0.5555555555555556,
              "#d8576b"
             ],
             [
              0.6666666666666666,
              "#ed7953"
             ],
             [
              0.7777777777777778,
              "#fb9f3a"
             ],
             [
              0.8888888888888888,
              "#fdca26"
             ],
             [
              1,
              "#f0f921"
             ]
            ],
            "type": "histogram2dcontour"
           }
          ],
          "mesh3d": [
           {
            "colorbar": {
             "outlinewidth": 0,
             "ticks": ""
            },
            "type": "mesh3d"
           }
          ],
          "parcoords": [
           {
            "line": {
             "colorbar": {
              "outlinewidth": 0,
              "ticks": ""
             }
            },
            "type": "parcoords"
           }
          ],
          "pie": [
           {
            "automargin": true,
            "type": "pie"
           }
          ],
          "scatter": [
           {
            "fillpattern": {
             "fillmode": "overlay",
             "size": 10,
             "solidity": 0.2
            },
            "type": "scatter"
           }
          ],
          "scatter3d": [
           {
            "line": {
             "colorbar": {
              "outlinewidth": 0,
              "ticks": ""
             }
            },
            "marker": {
             "colorbar": {
              "outlinewidth": 0,
              "ticks": ""
             }
            },
            "type": "scatter3d"
           }
          ],
          "scattercarpet": [
           {
            "marker": {
             "colorbar": {
              "outlinewidth": 0,
              "ticks": ""
             }
            },
            "type": "scattercarpet"
           }
          ],
          "scattergeo": [
           {
            "marker": {
             "colorbar": {
              "outlinewidth": 0,
              "ticks": ""
             }
            },
            "type": "scattergeo"
           }
          ],
          "scattergl": [
           {
            "marker": {
             "colorbar": {
              "outlinewidth": 0,
              "ticks": ""
             }
            },
            "type": "scattergl"
           }
          ],
          "scattermapbox": [
           {
            "marker": {
             "colorbar": {
              "outlinewidth": 0,
              "ticks": ""
             }
            },
            "type": "scattermapbox"
           }
          ],
          "scatterpolar": [
           {
            "marker": {
             "colorbar": {
              "outlinewidth": 0,
              "ticks": ""
             }
            },
            "type": "scatterpolar"
           }
          ],
          "scatterpolargl": [
           {
            "marker": {
             "colorbar": {
              "outlinewidth": 0,
              "ticks": ""
             }
            },
            "type": "scatterpolargl"
           }
          ],
          "scatterternary": [
           {
            "marker": {
             "colorbar": {
              "outlinewidth": 0,
              "ticks": ""
             }
            },
            "type": "scatterternary"
           }
          ],
          "surface": [
           {
            "colorbar": {
             "outlinewidth": 0,
             "ticks": ""
            },
            "colorscale": [
             [
              0,
              "#0d0887"
             ],
             [
              0.1111111111111111,
              "#46039f"
             ],
             [
              0.2222222222222222,
              "#7201a8"
             ],
             [
              0.3333333333333333,
              "#9c179e"
             ],
             [
              0.4444444444444444,
              "#bd3786"
             ],
             [
              0.5555555555555556,
              "#d8576b"
             ],
             [
              0.6666666666666666,
              "#ed7953"
             ],
             [
              0.7777777777777778,
              "#fb9f3a"
             ],
             [
              0.8888888888888888,
              "#fdca26"
             ],
             [
              1,
              "#f0f921"
             ]
            ],
            "type": "surface"
           }
          ],
          "table": [
           {
            "cells": {
             "fill": {
              "color": "#EBF0F8"
             },
             "line": {
              "color": "white"
             }
            },
            "header": {
             "fill": {
              "color": "#C8D4E3"
             },
             "line": {
              "color": "white"
             }
            },
            "type": "table"
           }
          ]
         },
         "layout": {
          "annotationdefaults": {
           "arrowcolor": "#2a3f5f",
           "arrowhead": 0,
           "arrowwidth": 1
          },
          "autotypenumbers": "strict",
          "coloraxis": {
           "colorbar": {
            "outlinewidth": 0,
            "ticks": ""
           }
          },
          "colorscale": {
           "diverging": [
            [
             0,
             "#8e0152"
            ],
            [
             0.1,
             "#c51b7d"
            ],
            [
             0.2,
             "#de77ae"
            ],
            [
             0.3,
             "#f1b6da"
            ],
            [
             0.4,
             "#fde0ef"
            ],
            [
             0.5,
             "#f7f7f7"
            ],
            [
             0.6,
             "#e6f5d0"
            ],
            [
             0.7,
             "#b8e186"
            ],
            [
             0.8,
             "#7fbc41"
            ],
            [
             0.9,
             "#4d9221"
            ],
            [
             1,
             "#276419"
            ]
           ],
           "sequential": [
            [
             0,
             "#0d0887"
            ],
            [
             0.1111111111111111,
             "#46039f"
            ],
            [
             0.2222222222222222,
             "#7201a8"
            ],
            [
             0.3333333333333333,
             "#9c179e"
            ],
            [
             0.4444444444444444,
             "#bd3786"
            ],
            [
             0.5555555555555556,
             "#d8576b"
            ],
            [
             0.6666666666666666,
             "#ed7953"
            ],
            [
             0.7777777777777778,
             "#fb9f3a"
            ],
            [
             0.8888888888888888,
             "#fdca26"
            ],
            [
             1,
             "#f0f921"
            ]
           ],
           "sequentialminus": [
            [
             0,
             "#0d0887"
            ],
            [
             0.1111111111111111,
             "#46039f"
            ],
            [
             0.2222222222222222,
             "#7201a8"
            ],
            [
             0.3333333333333333,
             "#9c179e"
            ],
            [
             0.4444444444444444,
             "#bd3786"
            ],
            [
             0.5555555555555556,
             "#d8576b"
            ],
            [
             0.6666666666666666,
             "#ed7953"
            ],
            [
             0.7777777777777778,
             "#fb9f3a"
            ],
            [
             0.8888888888888888,
             "#fdca26"
            ],
            [
             1,
             "#f0f921"
            ]
           ]
          },
          "colorway": [
           "#636efa",
           "#EF553B",
           "#00cc96",
           "#ab63fa",
           "#FFA15A",
           "#19d3f3",
           "#FF6692",
           "#B6E880",
           "#FF97FF",
           "#FECB52"
          ],
          "font": {
           "color": "#2a3f5f"
          },
          "geo": {
           "bgcolor": "white",
           "lakecolor": "white",
           "landcolor": "#E5ECF6",
           "showlakes": true,
           "showland": true,
           "subunitcolor": "white"
          },
          "hoverlabel": {
           "align": "left"
          },
          "hovermode": "closest",
          "mapbox": {
           "style": "light"
          },
          "paper_bgcolor": "white",
          "plot_bgcolor": "#E5ECF6",
          "polar": {
           "angularaxis": {
            "gridcolor": "white",
            "linecolor": "white",
            "ticks": ""
           },
           "bgcolor": "#E5ECF6",
           "radialaxis": {
            "gridcolor": "white",
            "linecolor": "white",
            "ticks": ""
           }
          },
          "scene": {
           "xaxis": {
            "backgroundcolor": "#E5ECF6",
            "gridcolor": "white",
            "gridwidth": 2,
            "linecolor": "white",
            "showbackground": true,
            "ticks": "",
            "zerolinecolor": "white"
           },
           "yaxis": {
            "backgroundcolor": "#E5ECF6",
            "gridcolor": "white",
            "gridwidth": 2,
            "linecolor": "white",
            "showbackground": true,
            "ticks": "",
            "zerolinecolor": "white"
           },
           "zaxis": {
            "backgroundcolor": "#E5ECF6",
            "gridcolor": "white",
            "gridwidth": 2,
            "linecolor": "white",
            "showbackground": true,
            "ticks": "",
            "zerolinecolor": "white"
           }
          },
          "shapedefaults": {
           "line": {
            "color": "#2a3f5f"
           }
          },
          "ternary": {
           "aaxis": {
            "gridcolor": "white",
            "linecolor": "white",
            "ticks": ""
           },
           "baxis": {
            "gridcolor": "white",
            "linecolor": "white",
            "ticks": ""
           },
           "bgcolor": "#E5ECF6",
           "caxis": {
            "gridcolor": "white",
            "linecolor": "white",
            "ticks": ""
           }
          },
          "title": {
           "x": 0.05
          },
          "xaxis": {
           "automargin": true,
           "gridcolor": "white",
           "linecolor": "white",
           "ticks": "",
           "title": {
            "standoff": 15
           },
           "zerolinecolor": "white",
           "zerolinewidth": 2
          },
          "yaxis": {
           "automargin": true,
           "gridcolor": "white",
           "linecolor": "white",
           "ticks": "",
           "title": {
            "standoff": 15
           },
           "zerolinecolor": "white",
           "zerolinewidth": 2
          }
         }
        }
       }
      }
     },
     "metadata": {},
     "output_type": "display_data"
    },
    {
     "data": {
      "text/html": [
       "<div>\n",
       "<style scoped>\n",
       "    .dataframe tbody tr th:only-of-type {\n",
       "        vertical-align: middle;\n",
       "    }\n",
       "\n",
       "    .dataframe tbody tr th {\n",
       "        vertical-align: top;\n",
       "    }\n",
       "\n",
       "    .dataframe thead th {\n",
       "        text-align: right;\n",
       "    }\n",
       "</style>\n",
       "<table border=\"1\" class=\"dataframe\">\n",
       "  <thead>\n",
       "    <tr style=\"text-align: right;\">\n",
       "      <th></th>\n",
       "      <th>Hours</th>\n",
       "      <th>Voc_r</th>\n",
       "      <th>Jsc_r</th>\n",
       "      <th>FF_r</th>\n",
       "      <th>PCE_r</th>\n",
       "      <th>Voc_f</th>\n",
       "      <th>Jsc_f</th>\n",
       "      <th>FF_f</th>\n",
       "      <th>PCE_f</th>\n",
       "    </tr>\n",
       "  </thead>\n",
       "  <tbody>\n",
       "    <tr>\n",
       "      <th>0</th>\n",
       "      <td>0.0</td>\n",
       "      <td>1.753282</td>\n",
       "      <td>16.657488</td>\n",
       "      <td>0.851528</td>\n",
       "      <td>24.869113</td>\n",
       "      <td>1.763732</td>\n",
       "      <td>17.651579</td>\n",
       "      <td>0.700507</td>\n",
       "      <td>21.808643</td>\n",
       "    </tr>\n",
       "    <tr>\n",
       "      <th>1</th>\n",
       "      <td>24.0</td>\n",
       "      <td>1.790859</td>\n",
       "      <td>16.161779</td>\n",
       "      <td>0.857441</td>\n",
       "      <td>24.817316</td>\n",
       "      <td>1.790220</td>\n",
       "      <td>16.071716</td>\n",
       "      <td>0.825167</td>\n",
       "      <td>23.741646</td>\n",
       "    </tr>\n",
       "    <tr>\n",
       "      <th>2</th>\n",
       "      <td>48.0</td>\n",
       "      <td>1.801377</td>\n",
       "      <td>16.917667</td>\n",
       "      <td>0.857470</td>\n",
       "      <td>26.131475</td>\n",
       "      <td>1.793954</td>\n",
       "      <td>16.886185</td>\n",
       "      <td>0.813405</td>\n",
       "      <td>24.640509</td>\n",
       "    </tr>\n",
       "    <tr>\n",
       "      <th>3</th>\n",
       "      <td>96.0</td>\n",
       "      <td>1.816594</td>\n",
       "      <td>16.696900</td>\n",
       "      <td>0.852788</td>\n",
       "      <td>25.866350</td>\n",
       "      <td>1.800013</td>\n",
       "      <td>16.666110</td>\n",
       "      <td>0.816269</td>\n",
       "      <td>24.487416</td>\n",
       "    </tr>\n",
       "    <tr>\n",
       "      <th>4</th>\n",
       "      <td>120.0</td>\n",
       "      <td>1.808592</td>\n",
       "      <td>16.453875</td>\n",
       "      <td>0.863122</td>\n",
       "      <td>25.685095</td>\n",
       "      <td>1.791206</td>\n",
       "      <td>16.406605</td>\n",
       "      <td>0.819978</td>\n",
       "      <td>24.097180</td>\n",
       "    </tr>\n",
       "    <tr>\n",
       "      <th>5</th>\n",
       "      <td>168.0</td>\n",
       "      <td>1.808638</td>\n",
       "      <td>16.687000</td>\n",
       "      <td>0.832267</td>\n",
       "      <td>25.118427</td>\n",
       "      <td>1.697119</td>\n",
       "      <td>17.434704</td>\n",
       "      <td>0.855220</td>\n",
       "      <td>25.304909</td>\n",
       "    </tr>\n",
       "    <tr>\n",
       "      <th>6</th>\n",
       "      <td>192.0</td>\n",
       "      <td>1.806724</td>\n",
       "      <td>16.489185</td>\n",
       "      <td>0.784115</td>\n",
       "      <td>23.359889</td>\n",
       "      <td>1.784396</td>\n",
       "      <td>16.350562</td>\n",
       "      <td>0.730346</td>\n",
       "      <td>21.308504</td>\n",
       "    </tr>\n",
       "    <tr>\n",
       "      <th>7</th>\n",
       "      <td>216.0</td>\n",
       "      <td>1.818550</td>\n",
       "      <td>17.272900</td>\n",
       "      <td>0.854793</td>\n",
       "      <td>26.850426</td>\n",
       "      <td>1.793501</td>\n",
       "      <td>17.181971</td>\n",
       "      <td>0.859730</td>\n",
       "      <td>26.493348</td>\n",
       "    </tr>\n",
       "    <tr>\n",
       "      <th>8</th>\n",
       "      <td>264.0</td>\n",
       "      <td>1.815105</td>\n",
       "      <td>16.944930</td>\n",
       "      <td>0.881345</td>\n",
       "      <td>27.107391</td>\n",
       "      <td>1.790258</td>\n",
       "      <td>16.876407</td>\n",
       "      <td>0.881842</td>\n",
       "      <td>26.643197</td>\n",
       "    </tr>\n",
       "    <tr>\n",
       "      <th>9</th>\n",
       "      <td>312.0</td>\n",
       "      <td>1.818905</td>\n",
       "      <td>16.885400</td>\n",
       "      <td>0.875144</td>\n",
       "      <td>26.878253</td>\n",
       "      <td>1.789952</td>\n",
       "      <td>16.841000</td>\n",
       "      <td>0.877437</td>\n",
       "      <td>26.449961</td>\n",
       "    </tr>\n",
       "    <tr>\n",
       "      <th>10</th>\n",
       "      <td>480.0</td>\n",
       "      <td>1.801708</td>\n",
       "      <td>16.762957</td>\n",
       "      <td>0.887323</td>\n",
       "      <td>26.798894</td>\n",
       "      <td>1.772041</td>\n",
       "      <td>16.751640</td>\n",
       "      <td>0.890084</td>\n",
       "      <td>26.421772</td>\n",
       "    </tr>\n",
       "    <tr>\n",
       "      <th>11</th>\n",
       "      <td>552.0</td>\n",
       "      <td>1.784660</td>\n",
       "      <td>17.042442</td>\n",
       "      <td>0.880566</td>\n",
       "      <td>26.782403</td>\n",
       "      <td>1.771589</td>\n",
       "      <td>16.959681</td>\n",
       "      <td>0.876256</td>\n",
       "      <td>26.327606</td>\n",
       "    </tr>\n",
       "    <tr>\n",
       "      <th>12</th>\n",
       "      <td>636.0</td>\n",
       "      <td>1.779916</td>\n",
       "      <td>16.761859</td>\n",
       "      <td>0.878780</td>\n",
       "      <td>26.218134</td>\n",
       "      <td>1.762432</td>\n",
       "      <td>16.692799</td>\n",
       "      <td>0.881271</td>\n",
       "      <td>25.926921</td>\n",
       "    </tr>\n",
       "    <tr>\n",
       "      <th>13</th>\n",
       "      <td>684.0</td>\n",
       "      <td>1.777813</td>\n",
       "      <td>16.760385</td>\n",
       "      <td>0.858690</td>\n",
       "      <td>25.586256</td>\n",
       "      <td>1.727022</td>\n",
       "      <td>16.696405</td>\n",
       "      <td>0.855585</td>\n",
       "      <td>24.670841</td>\n",
       "    </tr>\n",
       "    <tr>\n",
       "      <th>14</th>\n",
       "      <td>756.0</td>\n",
       "      <td>1.769322</td>\n",
       "      <td>17.132600</td>\n",
       "      <td>0.879376</td>\n",
       "      <td>26.656609</td>\n",
       "      <td>1.745399</td>\n",
       "      <td>17.196541</td>\n",
       "      <td>0.878114</td>\n",
       "      <td>26.356433</td>\n",
       "    </tr>\n",
       "    <tr>\n",
       "      <th>15</th>\n",
       "      <td>804.0</td>\n",
       "      <td>1.772955</td>\n",
       "      <td>17.483599</td>\n",
       "      <td>0.870818</td>\n",
       "      <td>26.993309</td>\n",
       "      <td>1.746967</td>\n",
       "      <td>17.226074</td>\n",
       "      <td>0.883794</td>\n",
       "      <td>26.596361</td>\n",
       "    </tr>\n",
       "    <tr>\n",
       "      <th>16</th>\n",
       "      <td>852.0</td>\n",
       "      <td>1.749006</td>\n",
       "      <td>17.074600</td>\n",
       "      <td>0.879847</td>\n",
       "      <td>26.275387</td>\n",
       "      <td>1.701429</td>\n",
       "      <td>17.051180</td>\n",
       "      <td>0.884497</td>\n",
       "      <td>25.660481</td>\n",
       "    </tr>\n",
       "    <tr>\n",
       "      <th>17</th>\n",
       "      <td>900.0</td>\n",
       "      <td>1.740796</td>\n",
       "      <td>17.035101</td>\n",
       "      <td>0.879347</td>\n",
       "      <td>26.076702</td>\n",
       "      <td>1.703868</td>\n",
       "      <td>16.980407</td>\n",
       "      <td>0.881477</td>\n",
       "      <td>25.503214</td>\n",
       "    </tr>\n",
       "    <tr>\n",
       "      <th>18</th>\n",
       "      <td>948.0</td>\n",
       "      <td>1.738256</td>\n",
       "      <td>16.856092</td>\n",
       "      <td>0.879086</td>\n",
       "      <td>25.757398</td>\n",
       "      <td>1.707746</td>\n",
       "      <td>16.843372</td>\n",
       "      <td>0.881326</td>\n",
       "      <td>25.350632</td>\n",
       "    </tr>\n",
       "  </tbody>\n",
       "</table>\n",
       "</div>"
      ],
      "text/plain": [
       "    Hours     Voc_r      Jsc_r      FF_r      PCE_r     Voc_f      Jsc_f  \\\n",
       "0     0.0  1.753282  16.657488  0.851528  24.869113  1.763732  17.651579   \n",
       "1    24.0  1.790859  16.161779  0.857441  24.817316  1.790220  16.071716   \n",
       "2    48.0  1.801377  16.917667  0.857470  26.131475  1.793954  16.886185   \n",
       "3    96.0  1.816594  16.696900  0.852788  25.866350  1.800013  16.666110   \n",
       "4   120.0  1.808592  16.453875  0.863122  25.685095  1.791206  16.406605   \n",
       "5   168.0  1.808638  16.687000  0.832267  25.118427  1.697119  17.434704   \n",
       "6   192.0  1.806724  16.489185  0.784115  23.359889  1.784396  16.350562   \n",
       "7   216.0  1.818550  17.272900  0.854793  26.850426  1.793501  17.181971   \n",
       "8   264.0  1.815105  16.944930  0.881345  27.107391  1.790258  16.876407   \n",
       "9   312.0  1.818905  16.885400  0.875144  26.878253  1.789952  16.841000   \n",
       "10  480.0  1.801708  16.762957  0.887323  26.798894  1.772041  16.751640   \n",
       "11  552.0  1.784660  17.042442  0.880566  26.782403  1.771589  16.959681   \n",
       "12  636.0  1.779916  16.761859  0.878780  26.218134  1.762432  16.692799   \n",
       "13  684.0  1.777813  16.760385  0.858690  25.586256  1.727022  16.696405   \n",
       "14  756.0  1.769322  17.132600  0.879376  26.656609  1.745399  17.196541   \n",
       "15  804.0  1.772955  17.483599  0.870818  26.993309  1.746967  17.226074   \n",
       "16  852.0  1.749006  17.074600  0.879847  26.275387  1.701429  17.051180   \n",
       "17  900.0  1.740796  17.035101  0.879347  26.076702  1.703868  16.980407   \n",
       "18  948.0  1.738256  16.856092  0.879086  25.757398  1.707746  16.843372   \n",
       "\n",
       "        FF_f      PCE_f  \n",
       "0   0.700507  21.808643  \n",
       "1   0.825167  23.741646  \n",
       "2   0.813405  24.640509  \n",
       "3   0.816269  24.487416  \n",
       "4   0.819978  24.097180  \n",
       "5   0.855220  25.304909  \n",
       "6   0.730346  21.308504  \n",
       "7   0.859730  26.493348  \n",
       "8   0.881842  26.643197  \n",
       "9   0.877437  26.449961  \n",
       "10  0.890084  26.421772  \n",
       "11  0.876256  26.327606  \n",
       "12  0.881271  25.926921  \n",
       "13  0.855585  24.670841  \n",
       "14  0.878114  26.356433  \n",
       "15  0.883794  26.596361  \n",
       "16  0.884497  25.660481  \n",
       "17  0.881477  25.503214  \n",
       "18  0.881326  25.350632  "
      ]
     },
     "metadata": {},
     "output_type": "display_data"
    },
    {
     "data": {
      "application/vnd.plotly.v1+json": {
       "config": {
        "plotlyServerURL": "https://plot.ly"
       },
       "data": [
        {
         "name": "0.0",
         "r": [
          1,
          1,
          1,
          1,
          1,
          1,
          1,
          1
         ],
         "theta": [
          "Voc_r",
          "Jsc_r",
          "FF_r",
          "PCE_r",
          "Voc_f",
          "Jsc_f",
          "FF_f",
          "PCE_f"
         ],
         "type": "scatterpolar"
        },
        {
         "name": "48.0",
         "r": [
          0.9806939061740827,
          1.1351234017111385,
          1.0254735567164723,
          1.1415659852947488,
          0.4445440945385161,
          1.1039641833243308,
          1.5989719986009252,
          0.7847127105000654
         ],
         "theta": [
          "Voc_r",
          "Jsc_r",
          "FF_r",
          "PCE_r",
          "Voc_f",
          "Jsc_f",
          "FF_f",
          "PCE_f"
         ],
         "type": "scatterpolar"
        },
        {
         "name": "120.0",
         "r": [
          0.8162025421674248,
          1.1148540451384528,
          1.0273345439027972,
          0.9348196839662003,
          0.7233216756762141,
          1.1089309156409097,
          1.052656577942196,
          0.8443503342595625
         ],
         "theta": [
          "Voc_r",
          "Jsc_r",
          "FF_r",
          "PCE_r",
          "Voc_f",
          "Jsc_f",
          "FF_f",
          "PCE_f"
         ],
         "type": "scatterpolar"
        }
       ],
       "layout": {
        "height": 600,
        "polar": {
         "radialaxis": {
          "title": {
           "font": {
            "size": 30
           },
           "text": "light-dark-cycle: Jan16Mask with UV filter"
          },
          "visible": true
         }
        },
        "showlegend": true,
        "template": {
         "data": {
          "bar": [
           {
            "error_x": {
             "color": "#2a3f5f"
            },
            "error_y": {
             "color": "#2a3f5f"
            },
            "marker": {
             "line": {
              "color": "#E5ECF6",
              "width": 0.5
             },
             "pattern": {
              "fillmode": "overlay",
              "size": 10,
              "solidity": 0.2
             }
            },
            "type": "bar"
           }
          ],
          "barpolar": [
           {
            "marker": {
             "line": {
              "color": "#E5ECF6",
              "width": 0.5
             },
             "pattern": {
              "fillmode": "overlay",
              "size": 10,
              "solidity": 0.2
             }
            },
            "type": "barpolar"
           }
          ],
          "carpet": [
           {
            "aaxis": {
             "endlinecolor": "#2a3f5f",
             "gridcolor": "white",
             "linecolor": "white",
             "minorgridcolor": "white",
             "startlinecolor": "#2a3f5f"
            },
            "baxis": {
             "endlinecolor": "#2a3f5f",
             "gridcolor": "white",
             "linecolor": "white",
             "minorgridcolor": "white",
             "startlinecolor": "#2a3f5f"
            },
            "type": "carpet"
           }
          ],
          "choropleth": [
           {
            "colorbar": {
             "outlinewidth": 0,
             "ticks": ""
            },
            "type": "choropleth"
           }
          ],
          "contour": [
           {
            "colorbar": {
             "outlinewidth": 0,
             "ticks": ""
            },
            "colorscale": [
             [
              0,
              "#0d0887"
             ],
             [
              0.1111111111111111,
              "#46039f"
             ],
             [
              0.2222222222222222,
              "#7201a8"
             ],
             [
              0.3333333333333333,
              "#9c179e"
             ],
             [
              0.4444444444444444,
              "#bd3786"
             ],
             [
              0.5555555555555556,
              "#d8576b"
             ],
             [
              0.6666666666666666,
              "#ed7953"
             ],
             [
              0.7777777777777778,
              "#fb9f3a"
             ],
             [
              0.8888888888888888,
              "#fdca26"
             ],
             [
              1,
              "#f0f921"
             ]
            ],
            "type": "contour"
           }
          ],
          "contourcarpet": [
           {
            "colorbar": {
             "outlinewidth": 0,
             "ticks": ""
            },
            "type": "contourcarpet"
           }
          ],
          "heatmap": [
           {
            "colorbar": {
             "outlinewidth": 0,
             "ticks": ""
            },
            "colorscale": [
             [
              0,
              "#0d0887"
             ],
             [
              0.1111111111111111,
              "#46039f"
             ],
             [
              0.2222222222222222,
              "#7201a8"
             ],
             [
              0.3333333333333333,
              "#9c179e"
             ],
             [
              0.4444444444444444,
              "#bd3786"
             ],
             [
              0.5555555555555556,
              "#d8576b"
             ],
             [
              0.6666666666666666,
              "#ed7953"
             ],
             [
              0.7777777777777778,
              "#fb9f3a"
             ],
             [
              0.8888888888888888,
              "#fdca26"
             ],
             [
              1,
              "#f0f921"
             ]
            ],
            "type": "heatmap"
           }
          ],
          "heatmapgl": [
           {
            "colorbar": {
             "outlinewidth": 0,
             "ticks": ""
            },
            "colorscale": [
             [
              0,
              "#0d0887"
             ],
             [
              0.1111111111111111,
              "#46039f"
             ],
             [
              0.2222222222222222,
              "#7201a8"
             ],
             [
              0.3333333333333333,
              "#9c179e"
             ],
             [
              0.4444444444444444,
              "#bd3786"
             ],
             [
              0.5555555555555556,
              "#d8576b"
             ],
             [
              0.6666666666666666,
              "#ed7953"
             ],
             [
              0.7777777777777778,
              "#fb9f3a"
             ],
             [
              0.8888888888888888,
              "#fdca26"
             ],
             [
              1,
              "#f0f921"
             ]
            ],
            "type": "heatmapgl"
           }
          ],
          "histogram": [
           {
            "marker": {
             "pattern": {
              "fillmode": "overlay",
              "size": 10,
              "solidity": 0.2
             }
            },
            "type": "histogram"
           }
          ],
          "histogram2d": [
           {
            "colorbar": {
             "outlinewidth": 0,
             "ticks": ""
            },
            "colorscale": [
             [
              0,
              "#0d0887"
             ],
             [
              0.1111111111111111,
              "#46039f"
             ],
             [
              0.2222222222222222,
              "#7201a8"
             ],
             [
              0.3333333333333333,
              "#9c179e"
             ],
             [
              0.4444444444444444,
              "#bd3786"
             ],
             [
              0.5555555555555556,
              "#d8576b"
             ],
             [
              0.6666666666666666,
              "#ed7953"
             ],
             [
              0.7777777777777778,
              "#fb9f3a"
             ],
             [
              0.8888888888888888,
              "#fdca26"
             ],
             [
              1,
              "#f0f921"
             ]
            ],
            "type": "histogram2d"
           }
          ],
          "histogram2dcontour": [
           {
            "colorbar": {
             "outlinewidth": 0,
             "ticks": ""
            },
            "colorscale": [
             [
              0,
              "#0d0887"
             ],
             [
              0.1111111111111111,
              "#46039f"
             ],
             [
              0.2222222222222222,
              "#7201a8"
             ],
             [
              0.3333333333333333,
              "#9c179e"
             ],
             [
              0.4444444444444444,
              "#bd3786"
             ],
             [
              0.5555555555555556,
              "#d8576b"
             ],
             [
              0.6666666666666666,
              "#ed7953"
             ],
             [
              0.7777777777777778,
              "#fb9f3a"
             ],
             [
              0.8888888888888888,
              "#fdca26"
             ],
             [
              1,
              "#f0f921"
             ]
            ],
            "type": "histogram2dcontour"
           }
          ],
          "mesh3d": [
           {
            "colorbar": {
             "outlinewidth": 0,
             "ticks": ""
            },
            "type": "mesh3d"
           }
          ],
          "parcoords": [
           {
            "line": {
             "colorbar": {
              "outlinewidth": 0,
              "ticks": ""
             }
            },
            "type": "parcoords"
           }
          ],
          "pie": [
           {
            "automargin": true,
            "type": "pie"
           }
          ],
          "scatter": [
           {
            "fillpattern": {
             "fillmode": "overlay",
             "size": 10,
             "solidity": 0.2
            },
            "type": "scatter"
           }
          ],
          "scatter3d": [
           {
            "line": {
             "colorbar": {
              "outlinewidth": 0,
              "ticks": ""
             }
            },
            "marker": {
             "colorbar": {
              "outlinewidth": 0,
              "ticks": ""
             }
            },
            "type": "scatter3d"
           }
          ],
          "scattercarpet": [
           {
            "marker": {
             "colorbar": {
              "outlinewidth": 0,
              "ticks": ""
             }
            },
            "type": "scattercarpet"
           }
          ],
          "scattergeo": [
           {
            "marker": {
             "colorbar": {
              "outlinewidth": 0,
              "ticks": ""
             }
            },
            "type": "scattergeo"
           }
          ],
          "scattergl": [
           {
            "marker": {
             "colorbar": {
              "outlinewidth": 0,
              "ticks": ""
             }
            },
            "type": "scattergl"
           }
          ],
          "scattermapbox": [
           {
            "marker": {
             "colorbar": {
              "outlinewidth": 0,
              "ticks": ""
             }
            },
            "type": "scattermapbox"
           }
          ],
          "scatterpolar": [
           {
            "marker": {
             "colorbar": {
              "outlinewidth": 0,
              "ticks": ""
             }
            },
            "type": "scatterpolar"
           }
          ],
          "scatterpolargl": [
           {
            "marker": {
             "colorbar": {
              "outlinewidth": 0,
              "ticks": ""
             }
            },
            "type": "scatterpolargl"
           }
          ],
          "scatterternary": [
           {
            "marker": {
             "colorbar": {
              "outlinewidth": 0,
              "ticks": ""
             }
            },
            "type": "scatterternary"
           }
          ],
          "surface": [
           {
            "colorbar": {
             "outlinewidth": 0,
             "ticks": ""
            },
            "colorscale": [
             [
              0,
              "#0d0887"
             ],
             [
              0.1111111111111111,
              "#46039f"
             ],
             [
              0.2222222222222222,
              "#7201a8"
             ],
             [
              0.3333333333333333,
              "#9c179e"
             ],
             [
              0.4444444444444444,
              "#bd3786"
             ],
             [
              0.5555555555555556,
              "#d8576b"
             ],
             [
              0.6666666666666666,
              "#ed7953"
             ],
             [
              0.7777777777777778,
              "#fb9f3a"
             ],
             [
              0.8888888888888888,
              "#fdca26"
             ],
             [
              1,
              "#f0f921"
             ]
            ],
            "type": "surface"
           }
          ],
          "table": [
           {
            "cells": {
             "fill": {
              "color": "#EBF0F8"
             },
             "line": {
              "color": "white"
             }
            },
            "header": {
             "fill": {
              "color": "#C8D4E3"
             },
             "line": {
              "color": "white"
             }
            },
            "type": "table"
           }
          ]
         },
         "layout": {
          "annotationdefaults": {
           "arrowcolor": "#2a3f5f",
           "arrowhead": 0,
           "arrowwidth": 1
          },
          "autotypenumbers": "strict",
          "coloraxis": {
           "colorbar": {
            "outlinewidth": 0,
            "ticks": ""
           }
          },
          "colorscale": {
           "diverging": [
            [
             0,
             "#8e0152"
            ],
            [
             0.1,
             "#c51b7d"
            ],
            [
             0.2,
             "#de77ae"
            ],
            [
             0.3,
             "#f1b6da"
            ],
            [
             0.4,
             "#fde0ef"
            ],
            [
             0.5,
             "#f7f7f7"
            ],
            [
             0.6,
             "#e6f5d0"
            ],
            [
             0.7,
             "#b8e186"
            ],
            [
             0.8,
             "#7fbc41"
            ],
            [
             0.9,
             "#4d9221"
            ],
            [
             1,
             "#276419"
            ]
           ],
           "sequential": [
            [
             0,
             "#0d0887"
            ],
            [
             0.1111111111111111,
             "#46039f"
            ],
            [
             0.2222222222222222,
             "#7201a8"
            ],
            [
             0.3333333333333333,
             "#9c179e"
            ],
            [
             0.4444444444444444,
             "#bd3786"
            ],
            [
             0.5555555555555556,
             "#d8576b"
            ],
            [
             0.6666666666666666,
             "#ed7953"
            ],
            [
             0.7777777777777778,
             "#fb9f3a"
            ],
            [
             0.8888888888888888,
             "#fdca26"
            ],
            [
             1,
             "#f0f921"
            ]
           ],
           "sequentialminus": [
            [
             0,
             "#0d0887"
            ],
            [
             0.1111111111111111,
             "#46039f"
            ],
            [
             0.2222222222222222,
             "#7201a8"
            ],
            [
             0.3333333333333333,
             "#9c179e"
            ],
            [
             0.4444444444444444,
             "#bd3786"
            ],
            [
             0.5555555555555556,
             "#d8576b"
            ],
            [
             0.6666666666666666,
             "#ed7953"
            ],
            [
             0.7777777777777778,
             "#fb9f3a"
            ],
            [
             0.8888888888888888,
             "#fdca26"
            ],
            [
             1,
             "#f0f921"
            ]
           ]
          },
          "colorway": [
           "#636efa",
           "#EF553B",
           "#00cc96",
           "#ab63fa",
           "#FFA15A",
           "#19d3f3",
           "#FF6692",
           "#B6E880",
           "#FF97FF",
           "#FECB52"
          ],
          "font": {
           "color": "#2a3f5f"
          },
          "geo": {
           "bgcolor": "white",
           "lakecolor": "white",
           "landcolor": "#E5ECF6",
           "showlakes": true,
           "showland": true,
           "subunitcolor": "white"
          },
          "hoverlabel": {
           "align": "left"
          },
          "hovermode": "closest",
          "mapbox": {
           "style": "light"
          },
          "paper_bgcolor": "white",
          "plot_bgcolor": "#E5ECF6",
          "polar": {
           "angularaxis": {
            "gridcolor": "white",
            "linecolor": "white",
            "ticks": ""
           },
           "bgcolor": "#E5ECF6",
           "radialaxis": {
            "gridcolor": "white",
            "linecolor": "white",
            "ticks": ""
           }
          },
          "scene": {
           "xaxis": {
            "backgroundcolor": "#E5ECF6",
            "gridcolor": "white",
            "gridwidth": 2,
            "linecolor": "white",
            "showbackground": true,
            "ticks": "",
            "zerolinecolor": "white"
           },
           "yaxis": {
            "backgroundcolor": "#E5ECF6",
            "gridcolor": "white",
            "gridwidth": 2,
            "linecolor": "white",
            "showbackground": true,
            "ticks": "",
            "zerolinecolor": "white"
           },
           "zaxis": {
            "backgroundcolor": "#E5ECF6",
            "gridcolor": "white",
            "gridwidth": 2,
            "linecolor": "white",
            "showbackground": true,
            "ticks": "",
            "zerolinecolor": "white"
           }
          },
          "shapedefaults": {
           "line": {
            "color": "#2a3f5f"
           }
          },
          "ternary": {
           "aaxis": {
            "gridcolor": "white",
            "linecolor": "white",
            "ticks": ""
           },
           "baxis": {
            "gridcolor": "white",
            "linecolor": "white",
            "ticks": ""
           },
           "bgcolor": "#E5ECF6",
           "caxis": {
            "gridcolor": "white",
            "linecolor": "white",
            "ticks": ""
           }
          },
          "title": {
           "x": 0.05
          },
          "xaxis": {
           "automargin": true,
           "gridcolor": "white",
           "linecolor": "white",
           "ticks": "",
           "title": {
            "standoff": 15
           },
           "zerolinecolor": "white",
           "zerolinewidth": 2
          },
          "yaxis": {
           "automargin": true,
           "gridcolor": "white",
           "linecolor": "white",
           "ticks": "",
           "title": {
            "standoff": 15
           },
           "zerolinecolor": "white",
           "zerolinewidth": 2
          }
         }
        }
       }
      }
     },
     "metadata": {},
     "output_type": "display_data"
    },
    {
     "data": {
      "text/html": [
       "<div>\n",
       "<style scoped>\n",
       "    .dataframe tbody tr th:only-of-type {\n",
       "        vertical-align: middle;\n",
       "    }\n",
       "\n",
       "    .dataframe tbody tr th {\n",
       "        vertical-align: top;\n",
       "    }\n",
       "\n",
       "    .dataframe thead th {\n",
       "        text-align: right;\n",
       "    }\n",
       "</style>\n",
       "<table border=\"1\" class=\"dataframe\">\n",
       "  <thead>\n",
       "    <tr style=\"text-align: right;\">\n",
       "      <th></th>\n",
       "      <th>Hours</th>\n",
       "      <th>Voc_r</th>\n",
       "      <th>Jsc_r</th>\n",
       "      <th>FF_r</th>\n",
       "      <th>PCE_r</th>\n",
       "      <th>Voc_f</th>\n",
       "      <th>Jsc_f</th>\n",
       "      <th>FF_f</th>\n",
       "      <th>PCE_f</th>\n",
       "    </tr>\n",
       "  </thead>\n",
       "  <tbody>\n",
       "    <tr>\n",
       "      <th>0</th>\n",
       "      <td>0.0</td>\n",
       "      <td>1.759451</td>\n",
       "      <td>15.457200</td>\n",
       "      <td>0.804883</td>\n",
       "      <td>21.889740</td>\n",
       "      <td>1.749374</td>\n",
       "      <td>15.466564</td>\n",
       "      <td>0.783048</td>\n",
       "      <td>21.186765</td>\n",
       "    </tr>\n",
       "    <tr>\n",
       "      <th>1</th>\n",
       "      <td>48.0</td>\n",
       "      <td>1.725483</td>\n",
       "      <td>17.545829</td>\n",
       "      <td>0.825386</td>\n",
       "      <td>24.988583</td>\n",
       "      <td>0.777674</td>\n",
       "      <td>17.074533</td>\n",
       "      <td>1.252071</td>\n",
       "      <td>16.625524</td>\n",
       "    </tr>\n",
       "    <tr>\n",
       "      <th>2</th>\n",
       "      <td>120.0</td>\n",
       "      <td>1.436069</td>\n",
       "      <td>17.232522</td>\n",
       "      <td>0.826884</td>\n",
       "      <td>20.462960</td>\n",
       "      <td>1.265360</td>\n",
       "      <td>17.151351</td>\n",
       "      <td>0.824280</td>\n",
       "      <td>17.889052</td>\n",
       "    </tr>\n",
       "  </tbody>\n",
       "</table>\n",
       "</div>"
      ],
      "text/plain": [
       "   Hours     Voc_r      Jsc_r      FF_r      PCE_r     Voc_f      Jsc_f  \\\n",
       "0    0.0  1.759451  15.457200  0.804883  21.889740  1.749374  15.466564   \n",
       "1   48.0  1.725483  17.545829  0.825386  24.988583  0.777674  17.074533   \n",
       "2  120.0  1.436069  17.232522  0.826884  20.462960  1.265360  17.151351   \n",
       "\n",
       "       FF_f      PCE_f  \n",
       "0  0.783048  21.186765  \n",
       "1  1.252071  16.625524  \n",
       "2  0.824280  17.889052  "
      ]
     },
     "metadata": {},
     "output_type": "display_data"
    },
    {
     "data": {
      "application/vnd.plotly.v1+json": {
       "config": {
        "plotlyServerURL": "https://plot.ly"
       },
       "data": [
        {
         "name": "0.0",
         "r": [
          1,
          1,
          1,
          1,
          1,
          1,
          1,
          1
         ],
         "theta": [
          "Voc_r",
          "Jsc_r",
          "FF_r",
          "PCE_r",
          "Voc_f",
          "Jsc_f",
          "FF_f",
          "PCE_f"
         ],
         "type": "scatterpolar"
        },
        {
         "name": "120.0",
         "r": [
          0.8730997140442077,
          0.10382125832822296,
          0.5202007512769418,
          0.04715427906087717,
          0.8568310590999724,
          0.11248773241628954,
          0.3438014561367053,
          0.03313660986850803
         ],
         "theta": [
          "Voc_r",
          "Jsc_r",
          "FF_r",
          "PCE_r",
          "Voc_f",
          "Jsc_f",
          "FF_f",
          "PCE_f"
         ],
         "type": "scatterpolar"
        }
       ],
       "layout": {
        "height": 600,
        "polar": {
         "radialaxis": {
          "title": {
           "font": {
            "size": 30
           },
           "text": "light-dark-cycle: Jan17Mask with UV filter"
          },
          "visible": true
         }
        },
        "showlegend": true,
        "template": {
         "data": {
          "bar": [
           {
            "error_x": {
             "color": "#2a3f5f"
            },
            "error_y": {
             "color": "#2a3f5f"
            },
            "marker": {
             "line": {
              "color": "#E5ECF6",
              "width": 0.5
             },
             "pattern": {
              "fillmode": "overlay",
              "size": 10,
              "solidity": 0.2
             }
            },
            "type": "bar"
           }
          ],
          "barpolar": [
           {
            "marker": {
             "line": {
              "color": "#E5ECF6",
              "width": 0.5
             },
             "pattern": {
              "fillmode": "overlay",
              "size": 10,
              "solidity": 0.2
             }
            },
            "type": "barpolar"
           }
          ],
          "carpet": [
           {
            "aaxis": {
             "endlinecolor": "#2a3f5f",
             "gridcolor": "white",
             "linecolor": "white",
             "minorgridcolor": "white",
             "startlinecolor": "#2a3f5f"
            },
            "baxis": {
             "endlinecolor": "#2a3f5f",
             "gridcolor": "white",
             "linecolor": "white",
             "minorgridcolor": "white",
             "startlinecolor": "#2a3f5f"
            },
            "type": "carpet"
           }
          ],
          "choropleth": [
           {
            "colorbar": {
             "outlinewidth": 0,
             "ticks": ""
            },
            "type": "choropleth"
           }
          ],
          "contour": [
           {
            "colorbar": {
             "outlinewidth": 0,
             "ticks": ""
            },
            "colorscale": [
             [
              0,
              "#0d0887"
             ],
             [
              0.1111111111111111,
              "#46039f"
             ],
             [
              0.2222222222222222,
              "#7201a8"
             ],
             [
              0.3333333333333333,
              "#9c179e"
             ],
             [
              0.4444444444444444,
              "#bd3786"
             ],
             [
              0.5555555555555556,
              "#d8576b"
             ],
             [
              0.6666666666666666,
              "#ed7953"
             ],
             [
              0.7777777777777778,
              "#fb9f3a"
             ],
             [
              0.8888888888888888,
              "#fdca26"
             ],
             [
              1,
              "#f0f921"
             ]
            ],
            "type": "contour"
           }
          ],
          "contourcarpet": [
           {
            "colorbar": {
             "outlinewidth": 0,
             "ticks": ""
            },
            "type": "contourcarpet"
           }
          ],
          "heatmap": [
           {
            "colorbar": {
             "outlinewidth": 0,
             "ticks": ""
            },
            "colorscale": [
             [
              0,
              "#0d0887"
             ],
             [
              0.1111111111111111,
              "#46039f"
             ],
             [
              0.2222222222222222,
              "#7201a8"
             ],
             [
              0.3333333333333333,
              "#9c179e"
             ],
             [
              0.4444444444444444,
              "#bd3786"
             ],
             [
              0.5555555555555556,
              "#d8576b"
             ],
             [
              0.6666666666666666,
              "#ed7953"
             ],
             [
              0.7777777777777778,
              "#fb9f3a"
             ],
             [
              0.8888888888888888,
              "#fdca26"
             ],
             [
              1,
              "#f0f921"
             ]
            ],
            "type": "heatmap"
           }
          ],
          "heatmapgl": [
           {
            "colorbar": {
             "outlinewidth": 0,
             "ticks": ""
            },
            "colorscale": [
             [
              0,
              "#0d0887"
             ],
             [
              0.1111111111111111,
              "#46039f"
             ],
             [
              0.2222222222222222,
              "#7201a8"
             ],
             [
              0.3333333333333333,
              "#9c179e"
             ],
             [
              0.4444444444444444,
              "#bd3786"
             ],
             [
              0.5555555555555556,
              "#d8576b"
             ],
             [
              0.6666666666666666,
              "#ed7953"
             ],
             [
              0.7777777777777778,
              "#fb9f3a"
             ],
             [
              0.8888888888888888,
              "#fdca26"
             ],
             [
              1,
              "#f0f921"
             ]
            ],
            "type": "heatmapgl"
           }
          ],
          "histogram": [
           {
            "marker": {
             "pattern": {
              "fillmode": "overlay",
              "size": 10,
              "solidity": 0.2
             }
            },
            "type": "histogram"
           }
          ],
          "histogram2d": [
           {
            "colorbar": {
             "outlinewidth": 0,
             "ticks": ""
            },
            "colorscale": [
             [
              0,
              "#0d0887"
             ],
             [
              0.1111111111111111,
              "#46039f"
             ],
             [
              0.2222222222222222,
              "#7201a8"
             ],
             [
              0.3333333333333333,
              "#9c179e"
             ],
             [
              0.4444444444444444,
              "#bd3786"
             ],
             [
              0.5555555555555556,
              "#d8576b"
             ],
             [
              0.6666666666666666,
              "#ed7953"
             ],
             [
              0.7777777777777778,
              "#fb9f3a"
             ],
             [
              0.8888888888888888,
              "#fdca26"
             ],
             [
              1,
              "#f0f921"
             ]
            ],
            "type": "histogram2d"
           }
          ],
          "histogram2dcontour": [
           {
            "colorbar": {
             "outlinewidth": 0,
             "ticks": ""
            },
            "colorscale": [
             [
              0,
              "#0d0887"
             ],
             [
              0.1111111111111111,
              "#46039f"
             ],
             [
              0.2222222222222222,
              "#7201a8"
             ],
             [
              0.3333333333333333,
              "#9c179e"
             ],
             [
              0.4444444444444444,
              "#bd3786"
             ],
             [
              0.5555555555555556,
              "#d8576b"
             ],
             [
              0.6666666666666666,
              "#ed7953"
             ],
             [
              0.7777777777777778,
              "#fb9f3a"
             ],
             [
              0.8888888888888888,
              "#fdca26"
             ],
             [
              1,
              "#f0f921"
             ]
            ],
            "type": "histogram2dcontour"
           }
          ],
          "mesh3d": [
           {
            "colorbar": {
             "outlinewidth": 0,
             "ticks": ""
            },
            "type": "mesh3d"
           }
          ],
          "parcoords": [
           {
            "line": {
             "colorbar": {
              "outlinewidth": 0,
              "ticks": ""
             }
            },
            "type": "parcoords"
           }
          ],
          "pie": [
           {
            "automargin": true,
            "type": "pie"
           }
          ],
          "scatter": [
           {
            "fillpattern": {
             "fillmode": "overlay",
             "size": 10,
             "solidity": 0.2
            },
            "type": "scatter"
           }
          ],
          "scatter3d": [
           {
            "line": {
             "colorbar": {
              "outlinewidth": 0,
              "ticks": ""
             }
            },
            "marker": {
             "colorbar": {
              "outlinewidth": 0,
              "ticks": ""
             }
            },
            "type": "scatter3d"
           }
          ],
          "scattercarpet": [
           {
            "marker": {
             "colorbar": {
              "outlinewidth": 0,
              "ticks": ""
             }
            },
            "type": "scattercarpet"
           }
          ],
          "scattergeo": [
           {
            "marker": {
             "colorbar": {
              "outlinewidth": 0,
              "ticks": ""
             }
            },
            "type": "scattergeo"
           }
          ],
          "scattergl": [
           {
            "marker": {
             "colorbar": {
              "outlinewidth": 0,
              "ticks": ""
             }
            },
            "type": "scattergl"
           }
          ],
          "scattermapbox": [
           {
            "marker": {
             "colorbar": {
              "outlinewidth": 0,
              "ticks": ""
             }
            },
            "type": "scattermapbox"
           }
          ],
          "scatterpolar": [
           {
            "marker": {
             "colorbar": {
              "outlinewidth": 0,
              "ticks": ""
             }
            },
            "type": "scatterpolar"
           }
          ],
          "scatterpolargl": [
           {
            "marker": {
             "colorbar": {
              "outlinewidth": 0,
              "ticks": ""
             }
            },
            "type": "scatterpolargl"
           }
          ],
          "scatterternary": [
           {
            "marker": {
             "colorbar": {
              "outlinewidth": 0,
              "ticks": ""
             }
            },
            "type": "scatterternary"
           }
          ],
          "surface": [
           {
            "colorbar": {
             "outlinewidth": 0,
             "ticks": ""
            },
            "colorscale": [
             [
              0,
              "#0d0887"
             ],
             [
              0.1111111111111111,
              "#46039f"
             ],
             [
              0.2222222222222222,
              "#7201a8"
             ],
             [
              0.3333333333333333,
              "#9c179e"
             ],
             [
              0.4444444444444444,
              "#bd3786"
             ],
             [
              0.5555555555555556,
              "#d8576b"
             ],
             [
              0.6666666666666666,
              "#ed7953"
             ],
             [
              0.7777777777777778,
              "#fb9f3a"
             ],
             [
              0.8888888888888888,
              "#fdca26"
             ],
             [
              1,
              "#f0f921"
             ]
            ],
            "type": "surface"
           }
          ],
          "table": [
           {
            "cells": {
             "fill": {
              "color": "#EBF0F8"
             },
             "line": {
              "color": "white"
             }
            },
            "header": {
             "fill": {
              "color": "#C8D4E3"
             },
             "line": {
              "color": "white"
             }
            },
            "type": "table"
           }
          ]
         },
         "layout": {
          "annotationdefaults": {
           "arrowcolor": "#2a3f5f",
           "arrowhead": 0,
           "arrowwidth": 1
          },
          "autotypenumbers": "strict",
          "coloraxis": {
           "colorbar": {
            "outlinewidth": 0,
            "ticks": ""
           }
          },
          "colorscale": {
           "diverging": [
            [
             0,
             "#8e0152"
            ],
            [
             0.1,
             "#c51b7d"
            ],
            [
             0.2,
             "#de77ae"
            ],
            [
             0.3,
             "#f1b6da"
            ],
            [
             0.4,
             "#fde0ef"
            ],
            [
             0.5,
             "#f7f7f7"
            ],
            [
             0.6,
             "#e6f5d0"
            ],
            [
             0.7,
             "#b8e186"
            ],
            [
             0.8,
             "#7fbc41"
            ],
            [
             0.9,
             "#4d9221"
            ],
            [
             1,
             "#276419"
            ]
           ],
           "sequential": [
            [
             0,
             "#0d0887"
            ],
            [
             0.1111111111111111,
             "#46039f"
            ],
            [
             0.2222222222222222,
             "#7201a8"
            ],
            [
             0.3333333333333333,
             "#9c179e"
            ],
            [
             0.4444444444444444,
             "#bd3786"
            ],
            [
             0.5555555555555556,
             "#d8576b"
            ],
            [
             0.6666666666666666,
             "#ed7953"
            ],
            [
             0.7777777777777778,
             "#fb9f3a"
            ],
            [
             0.8888888888888888,
             "#fdca26"
            ],
            [
             1,
             "#f0f921"
            ]
           ],
           "sequentialminus": [
            [
             0,
             "#0d0887"
            ],
            [
             0.1111111111111111,
             "#46039f"
            ],
            [
             0.2222222222222222,
             "#7201a8"
            ],
            [
             0.3333333333333333,
             "#9c179e"
            ],
            [
             0.4444444444444444,
             "#bd3786"
            ],
            [
             0.5555555555555556,
             "#d8576b"
            ],
            [
             0.6666666666666666,
             "#ed7953"
            ],
            [
             0.7777777777777778,
             "#fb9f3a"
            ],
            [
             0.8888888888888888,
             "#fdca26"
            ],
            [
             1,
             "#f0f921"
            ]
           ]
          },
          "colorway": [
           "#636efa",
           "#EF553B",
           "#00cc96",
           "#ab63fa",
           "#FFA15A",
           "#19d3f3",
           "#FF6692",
           "#B6E880",
           "#FF97FF",
           "#FECB52"
          ],
          "font": {
           "color": "#2a3f5f"
          },
          "geo": {
           "bgcolor": "white",
           "lakecolor": "white",
           "landcolor": "#E5ECF6",
           "showlakes": true,
           "showland": true,
           "subunitcolor": "white"
          },
          "hoverlabel": {
           "align": "left"
          },
          "hovermode": "closest",
          "mapbox": {
           "style": "light"
          },
          "paper_bgcolor": "white",
          "plot_bgcolor": "#E5ECF6",
          "polar": {
           "angularaxis": {
            "gridcolor": "white",
            "linecolor": "white",
            "ticks": ""
           },
           "bgcolor": "#E5ECF6",
           "radialaxis": {
            "gridcolor": "white",
            "linecolor": "white",
            "ticks": ""
           }
          },
          "scene": {
           "xaxis": {
            "backgroundcolor": "#E5ECF6",
            "gridcolor": "white",
            "gridwidth": 2,
            "linecolor": "white",
            "showbackground": true,
            "ticks": "",
            "zerolinecolor": "white"
           },
           "yaxis": {
            "backgroundcolor": "#E5ECF6",
            "gridcolor": "white",
            "gridwidth": 2,
            "linecolor": "white",
            "showbackground": true,
            "ticks": "",
            "zerolinecolor": "white"
           },
           "zaxis": {
            "backgroundcolor": "#E5ECF6",
            "gridcolor": "white",
            "gridwidth": 2,
            "linecolor": "white",
            "showbackground": true,
            "ticks": "",
            "zerolinecolor": "white"
           }
          },
          "shapedefaults": {
           "line": {
            "color": "#2a3f5f"
           }
          },
          "ternary": {
           "aaxis": {
            "gridcolor": "white",
            "linecolor": "white",
            "ticks": ""
           },
           "baxis": {
            "gridcolor": "white",
            "linecolor": "white",
            "ticks": ""
           },
           "bgcolor": "#E5ECF6",
           "caxis": {
            "gridcolor": "white",
            "linecolor": "white",
            "ticks": ""
           }
          },
          "title": {
           "x": 0.05
          },
          "xaxis": {
           "automargin": true,
           "gridcolor": "white",
           "linecolor": "white",
           "ticks": "",
           "title": {
            "standoff": 15
           },
           "zerolinecolor": "white",
           "zerolinewidth": 2
          },
          "yaxis": {
           "automargin": true,
           "gridcolor": "white",
           "linecolor": "white",
           "ticks": "",
           "title": {
            "standoff": 15
           },
           "zerolinecolor": "white",
           "zerolinewidth": 2
          }
         }
        }
       }
      }
     },
     "metadata": {},
     "output_type": "display_data"
    },
    {
     "data": {
      "text/html": [
       "<div>\n",
       "<style scoped>\n",
       "    .dataframe tbody tr th:only-of-type {\n",
       "        vertical-align: middle;\n",
       "    }\n",
       "\n",
       "    .dataframe tbody tr th {\n",
       "        vertical-align: top;\n",
       "    }\n",
       "\n",
       "    .dataframe thead th {\n",
       "        text-align: right;\n",
       "    }\n",
       "</style>\n",
       "<table border=\"1\" class=\"dataframe\">\n",
       "  <thead>\n",
       "    <tr style=\"text-align: right;\">\n",
       "      <th></th>\n",
       "      <th>Hours</th>\n",
       "      <th>Voc_r</th>\n",
       "      <th>Jsc_r</th>\n",
       "      <th>FF_r</th>\n",
       "      <th>PCE_r</th>\n",
       "      <th>Voc_f</th>\n",
       "      <th>Jsc_f</th>\n",
       "      <th>FF_f</th>\n",
       "      <th>PCE_f</th>\n",
       "    </tr>\n",
       "  </thead>\n",
       "  <tbody>\n",
       "    <tr>\n",
       "      <th>0</th>\n",
       "      <td>0.0</td>\n",
       "      <td>1.785594</td>\n",
       "      <td>17.707569</td>\n",
       "      <td>0.811849</td>\n",
       "      <td>25.669472</td>\n",
       "      <td>1.788592</td>\n",
       "      <td>17.050738</td>\n",
       "      <td>0.790620</td>\n",
       "      <td>24.111392</td>\n",
       "    </tr>\n",
       "    <tr>\n",
       "      <th>1</th>\n",
       "      <td>120.0</td>\n",
       "      <td>1.559001</td>\n",
       "      <td>1.838422</td>\n",
       "      <td>0.422325</td>\n",
       "      <td>1.210425</td>\n",
       "      <td>1.532521</td>\n",
       "      <td>1.917999</td>\n",
       "      <td>0.271816</td>\n",
       "      <td>0.798970</td>\n",
       "    </tr>\n",
       "  </tbody>\n",
       "</table>\n",
       "</div>"
      ],
      "text/plain": [
       "   Hours     Voc_r      Jsc_r      FF_r      PCE_r     Voc_f      Jsc_f  \\\n",
       "0    0.0  1.785594  17.707569  0.811849  25.669472  1.788592  17.050738   \n",
       "1  120.0  1.559001   1.838422  0.422325   1.210425  1.532521   1.917999   \n",
       "\n",
       "       FF_f      PCE_f  \n",
       "0  0.790620  24.111392  \n",
       "1  0.271816   0.798970  "
      ]
     },
     "metadata": {},
     "output_type": "display_data"
    }
   ],
   "source": [
    "mf.draw_cell_performance(data)"
   ]
  }
 ],
 "metadata": {
  "kernelspec": {
   "display_name": "py3",
   "language": "python",
   "name": "python3"
  },
  "language_info": {
   "codemirror_mode": {
    "name": "ipython",
    "version": 3
   },
   "file_extension": ".py",
   "mimetype": "text/x-python",
   "name": "python",
   "nbconvert_exporter": "python",
   "pygments_lexer": "ipython3",
   "version": "3.7.6"
  },
  "orig_nbformat": 4,
  "vscode": {
   "interpreter": {
    "hash": "3dd2b48f6d38ce8f3c03da7ecacc5590febd0e5dc45d20def2c33944a7653856"
   }
  }
 },
 "nbformat": 4,
 "nbformat_minor": 2
}
